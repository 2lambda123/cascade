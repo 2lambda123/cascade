{
 "cells": [
  {
   "attachments": {},
   "cell_type": "markdown",
   "id": "b6f0aa85",
   "metadata": {},
   "source": [
    "# 20 years of LEO - (conjunctions)\n",
    "In this example we will consider the tracked population of objects orbiting in Low Earth Orbit and run a simulation while detecting all conjunctions and removing decayed objects\n",
    ". The simulation is similar to the one described in the cascade example [20 Years in LEO - (collisions)](<./../utilities/20yearsofLEO.ipynb>), but instead of tracking actual collisions, it tracks all conjunctions between orbiting objects within some defined radius (e.g. 5km). The simulation is helpful from the operational point of view if one wants to generate warnings in advance for potentially risky events. It performs similar computations to the [SOCRATES](https://celestrak.org/SOCRATES/) web resource, but using [heyoka](https://bluescarni.github.io/heyoka.py/) as a numerical propagator, a high fidelity dynamical model instead of the [SGP4](https://en.wikipedia.org/wiki/Simplified_perturbations_models), and cascade original algorithm to efficiently track and compute all conjunctions instead of the [STK](https://www.agi.com/products) conjunction analysis module.\n",
    "\n",
    "We start, as always, with some imports:"
   ]
  },
  {
   "cell_type": "code",
   "execution_count": 3,
   "id": "c9b316b3-8d04-4b55-8395-54be3213bd03",
   "metadata": {},
   "outputs": [],
   "source": [
    "# core imports\n",
    "import pykep as pk\n",
    "import numpy as np\n",
    "import pickle as pkl\n",
    "import cascade as csc\n",
    "from copy import deepcopy"
   ]
  },
  {
   "attachments": {},
   "cell_type": "markdown",
   "id": "3a5f6485",
   "metadata": {},
   "source": [
    "## Loading the initial LEO population\n",
    "Let us define the initial LEO population from the objects tracked by the [US Space Surveillance Network (SSN)](https://en.wikipedia.org/wiki/United_States_Space_Surveillance_Network). \n",
    "The necessary steps to prepare such data are described by the code made available as a cascade utility in [The current LEO population](<./../utilities/leo_population.ipynb>)\n",
    "\n",
    "The file needed is:\n",
    "* **leo_population.pk** - created by [The current LEO population](<./../utilities/leo_population.ipynb>) notebook."
   ]
  },
  {
   "cell_type": "code",
   "execution_count": 4,
   "id": "76079dd5",
   "metadata": {},
   "outputs": [],
   "source": [
    "# r is in km and v in km/s\n",
    "with open(\"data/leo_population.pk\", \"rb\") as file:\n",
    "    r_ic,v_ic,to_satcat_index,satcat = pkl.load(file)"
   ]
  },
  {
   "attachments": {},
   "cell_type": "markdown",
   "id": "1ff31aa1",
   "metadata": {},
   "source": [
    "* **r_ic**: contains the initial position of all satellites to be simulated (in km)\n",
    "* **v_ic**: contains the initial velocity of all satellites to be simulated (in km/sec)\n",
    "* **to_satcat_index**: contains the indexes in the satcat of the corresponding r_ic,v_ic entry\n",
    "* **satcat**: the database created of all tracked objects\n",
    "\n",
    "The object described by the entry ```satcat[to_satcat_index[j]]``` has initial position ```r_ic[j]``` and initial velocity ```v_ic[j]```. Let us inspect one entry"
   ]
  },
  {
   "attachments": {},
   "cell_type": "markdown",
   "id": "2f2749ae",
   "metadata": {},
   "source": [
    "On top of all the info distributed from the [US Space Surveillance Network (SSN)](https://en.wikipedia.org/wiki/United_States_Space_Surveillance_Network) we have added to the satcat (see [The current LEO population](<./../utilities/leo_population.ipynb>) notebook) dictionary an estimate of the object radius which we will need to define the various collisional radii. As we will be using a dynamics that also models the atmospheric drag via the BSTAR coefficient, we create the array to be used as parameter when instantiating a :class:`~cascade.sim`."
   ]
  },
  {
   "cell_type": "code",
   "execution_count": 5,
   "id": "d564e8f6",
   "metadata": {},
   "outputs": [],
   "source": [
    "# Array containing the BSTAR coefficient in the SI units used\n",
    "BSTARS = []\n",
    "for idx in to_satcat_index:\n",
    "    BSTARS.append(float(satcat[idx][\"BSTAR\"]))\n",
    "# We transform the BSTAR in SI units\n",
    "BSTARS = np.array(BSTARS) / pk.EARTH_RADIUS\n",
    "# .. and remove negative BSTARS (this can happen for objects that where performing orbital manouvres during the tle definition) setting the value to zero in those occasions.\n",
    "BSTARS[BSTARS<0] = 0.\n",
    "# We also transform r_ic and v_ic in SI\n",
    "r_ic = r_ic*1000\n",
    "v_ic = v_ic*1000"
   ]
  },
  {
   "attachments": {},
   "cell_type": "markdown",
   "id": "682994db",
   "metadata": {},
   "source": [
    "## Building the dynamical system to integrate\n",
    "The dynamics in the LEO environment is dominated by drag and gravitational effects. The effect of the Moon gravity, Sun gravity and solar radiation pressure are much weaker and thus not considered here, even if they would not add much complexity in the simulation. We make use of the cascade class `cascade.dynamics.simple_earth` returning analytical expressions for such a dynamics."
   ]
  },
  {
   "cell_type": "code",
   "execution_count": 5,
   "id": "dfe35865",
   "metadata": {},
   "outputs": [],
   "source": [
    "dyn =  csc.dynamics.simple_earth(J2=True, J3 = False, C22S22=True, sun=False,moon=False,SRP=False,drag=True)"
   ]
  },
  {
   "attachments": {},
   "cell_type": "markdown",
   "id": "47b72ace",
   "metadata": {},
   "source": [
    "Let us inspect it visually to check that all is defined as expected. The analytical expression are long and complex, but this will not be an issue for [heyoka](https://bluescarni.github.io/heyoka.py/) that is  using [LLVM](https://en.wikipedia.org/wiki/LLVM) behind the scenes to compile them, as well as all the needed high order derivatives needed to define a Taylor integration scheme."
   ]
  },
  {
   "cell_type": "code",
   "execution_count": 6,
   "id": "90402536",
   "metadata": {},
   "outputs": [
    {
     "data": {
      "text/plain": [
       "[(x, vx),\n",
       " (y, vy),\n",
       " (z, vz),\n",
       " (vx,\n",
       "  ((((((-398600440779972.44 * x) * pow((x**2 + y**2 + z**2), -1.5000000000000000)) + (((-1.7555131752869961e+25 / (2.0000000000000000 * sqrt((x**2 + y**2 + z**2)))) * x) * ((3.0000000000000000 / (x**2 + y**2 + z**2)**2) - ((15.000000000000000 * z**2) / ((x**2 + y**2 + z**2)**2 * (x**2 + y**2 + z**2)))))) + ((((((7.6591108648176011e+23 / (2.0000000000000000 * pow((x**2 + y**2 + z**2), 3.5000000000000000))) * ((x * cos((4.8949608921188084 + (7.2921158548340406e-05 * t)))) + (y * sin((4.8949608921188084 + (7.2921158548340406e-05 * t)))))) * (((-x * sin((4.8949608921188084 + (7.2921158548340406e-05 * t)))) + (y * cos((4.8949608921188084 + (7.2921158548340406e-05 * t)))))**2 - ((x * cos((4.8949608921188084 + (7.2921158548340406e-05 * t)))) + (y * sin((4.8949608921188084 + (7.2921158548340406e-05 * t)))))**2)) + ((1.5318221729635202e+23 / pow((x**2 + y**2 + z**2), 2.5000000000000000)) * ((x * cos((4.8949608921188084 + (7.2921158548340406e-05 * t)))) + (y * sin((4.8949608921188084 + (7.2921158548340406e-05 * t))))))) * cos((4.8949608921188084 + (7.2921158548340406e-05 * t)))) - (((((7.6591108648176011e+23 / (2.0000000000000000 * pow((x**2 + y**2 + z**2), 3.5000000000000000))) * ((-x * sin((4.8949608921188084 + (7.2921158548340406e-05 * t)))) + (y * cos((4.8949608921188084 + (7.2921158548340406e-05 * t)))))) * (((-x * sin((4.8949608921188084 + (7.2921158548340406e-05 * t)))) + (y * cos((4.8949608921188084 + (7.2921158548340406e-05 * t)))))**2 - ((x * cos((4.8949608921188084 + (7.2921158548340406e-05 * t)))) + (y * sin((4.8949608921188084 + (7.2921158548340406e-05 * t)))))**2)) - ((1.5318221729635202e+23 / pow((x**2 + y**2 + z**2), 2.5000000000000000)) * ((-x * sin((4.8949608921188084 + (7.2921158548340406e-05 * t)))) + (y * cos((4.8949608921188084 + (7.2921158548340406e-05 * t))))))) * sin((4.8949608921188084 + (7.2921158548340406e-05 * t)))))) + (((((-(-4.3966387893411792e+23 / pow((x**2 + y**2 + z**2), 3.5000000000000000)) * ((x * cos((4.8949608921188084 + (7.2921158548340406e-05 * t)))) + (y * sin((4.8949608921188084 + (7.2921158548340406e-05 * t)))))**2) * ((-x * sin((4.8949608921188084 + (7.2921158548340406e-05 * t)))) + (y * cos((4.8949608921188084 + (7.2921158548340406e-05 * t)))))) + ((-8.7932775786823574e+22 / pow((x**2 + y**2 + z**2), 2.5000000000000000)) * ((-x * sin((4.8949608921188084 + (7.2921158548340406e-05 * t)))) + (y * cos((4.8949608921188084 + (7.2921158548340406e-05 * t))))))) * cos((4.8949608921188084 + (7.2921158548340406e-05 * t)))) - ((((-(-4.3966387893411792e+23 / pow((x**2 + y**2 + z**2), 3.5000000000000000)) * ((x * cos((4.8949608921188084 + (7.2921158548340406e-05 * t)))) + (y * sin((4.8949608921188084 + (7.2921158548340406e-05 * t)))))) * ((-x * sin((4.8949608921188084 + (7.2921158548340406e-05 * t)))) + (y * cos((4.8949608921188084 + (7.2921158548340406e-05 * t)))))**2) + ((-8.7932775786823574e+22 / pow((x**2 + y**2 + z**2), 2.5000000000000000)) * ((x * cos((4.8949608921188084 + (7.2921158548340406e-05 * t)))) + (y * sin((4.8949608921188084 + (7.2921158548340406e-05 * t))))))) * sin((4.8949608921188084 + (7.2921158548340406e-05 * t)))))) + (-(((((((1.0170993499999999e-06 * exp((-4.6382291000000000e-05 * (-6383152.2451599995 + sqrt((x**2 + y**2 + z**2)))))) + (0.78644337499999994 * exp((-0.00018608004800000001 * (-6400979.2808999997 + sqrt((x**2 + y**2 + z**2))))))) + (7.5034188300000001e-09 * exp((-2.4866717600000000e-05 * (-6382415.8782899994 + sqrt((x**2 + y**2 + z**2))))))) + (8.6393425200000000e-14 * exp((-4.8108085200000002e-06 * (-6378292.5916729998 + sqrt((x**2 + y**2 + z**2))))))) / 2.4615341004863758e-08) * p0) * sqrt((vx**2 + vy**2 + vz**2))) * vx))),\n",
       " (vy,\n",
       "  ((((((-398600440779972.44 * y) * pow((x**2 + y**2 + z**2), -1.5000000000000000)) + (((-1.7555131752869961e+25 / (2.0000000000000000 * sqrt((x**2 + y**2 + z**2)))) * y) * ((3.0000000000000000 / (x**2 + y**2 + z**2)**2) - ((15.000000000000000 * z**2) / ((x**2 + y**2 + z**2)**2 * (x**2 + y**2 + z**2)))))) + ((((((7.6591108648176011e+23 / (2.0000000000000000 * pow((x**2 + y**2 + z**2), 3.5000000000000000))) * ((x * cos((4.8949608921188084 + (7.2921158548340406e-05 * t)))) + (y * sin((4.8949608921188084 + (7.2921158548340406e-05 * t)))))) * (((-x * sin((4.8949608921188084 + (7.2921158548340406e-05 * t)))) + (y * cos((4.8949608921188084 + (7.2921158548340406e-05 * t)))))**2 - ((x * cos((4.8949608921188084 + (7.2921158548340406e-05 * t)))) + (y * sin((4.8949608921188084 + (7.2921158548340406e-05 * t)))))**2)) + ((1.5318221729635202e+23 / pow((x**2 + y**2 + z**2), 2.5000000000000000)) * ((x * cos((4.8949608921188084 + (7.2921158548340406e-05 * t)))) + (y * sin((4.8949608921188084 + (7.2921158548340406e-05 * t))))))) * sin((4.8949608921188084 + (7.2921158548340406e-05 * t)))) + (((((7.6591108648176011e+23 / (2.0000000000000000 * pow((x**2 + y**2 + z**2), 3.5000000000000000))) * ((-x * sin((4.8949608921188084 + (7.2921158548340406e-05 * t)))) + (y * cos((4.8949608921188084 + (7.2921158548340406e-05 * t)))))) * (((-x * sin((4.8949608921188084 + (7.2921158548340406e-05 * t)))) + (y * cos((4.8949608921188084 + (7.2921158548340406e-05 * t)))))**2 - ((x * cos((4.8949608921188084 + (7.2921158548340406e-05 * t)))) + (y * sin((4.8949608921188084 + (7.2921158548340406e-05 * t)))))**2)) - ((1.5318221729635202e+23 / pow((x**2 + y**2 + z**2), 2.5000000000000000)) * ((-x * sin((4.8949608921188084 + (7.2921158548340406e-05 * t)))) + (y * cos((4.8949608921188084 + (7.2921158548340406e-05 * t))))))) * cos((4.8949608921188084 + (7.2921158548340406e-05 * t)))))) + (((((-(-4.3966387893411792e+23 / pow((x**2 + y**2 + z**2), 3.5000000000000000)) * ((x * cos((4.8949608921188084 + (7.2921158548340406e-05 * t)))) + (y * sin((4.8949608921188084 + (7.2921158548340406e-05 * t)))))**2) * ((-x * sin((4.8949608921188084 + (7.2921158548340406e-05 * t)))) + (y * cos((4.8949608921188084 + (7.2921158548340406e-05 * t)))))) + ((-8.7932775786823574e+22 / pow((x**2 + y**2 + z**2), 2.5000000000000000)) * ((-x * sin((4.8949608921188084 + (7.2921158548340406e-05 * t)))) + (y * cos((4.8949608921188084 + (7.2921158548340406e-05 * t))))))) * sin((4.8949608921188084 + (7.2921158548340406e-05 * t)))) + ((((-(-4.3966387893411792e+23 / pow((x**2 + y**2 + z**2), 3.5000000000000000)) * ((x * cos((4.8949608921188084 + (7.2921158548340406e-05 * t)))) + (y * sin((4.8949608921188084 + (7.2921158548340406e-05 * t)))))) * ((-x * sin((4.8949608921188084 + (7.2921158548340406e-05 * t)))) + (y * cos((4.8949608921188084 + (7.2921158548340406e-05 * t)))))**2) + ((-8.7932775786823574e+22 / pow((x**2 + y**2 + z**2), 2.5000000000000000)) * ((x * cos((4.8949608921188084 + (7.2921158548340406e-05 * t)))) + (y * sin((4.8949608921188084 + (7.2921158548340406e-05 * t))))))) * cos((4.8949608921188084 + (7.2921158548340406e-05 * t)))))) + (-(((((((1.0170993499999999e-06 * exp((-4.6382291000000000e-05 * (-6383152.2451599995 + sqrt((x**2 + y**2 + z**2)))))) + (0.78644337499999994 * exp((-0.00018608004800000001 * (-6400979.2808999997 + sqrt((x**2 + y**2 + z**2))))))) + (7.5034188300000001e-09 * exp((-2.4866717600000000e-05 * (-6382415.8782899994 + sqrt((x**2 + y**2 + z**2))))))) + (8.6393425200000000e-14 * exp((-4.8108085200000002e-06 * (-6378292.5916729998 + sqrt((x**2 + y**2 + z**2))))))) / 2.4615341004863758e-08) * p0) * sqrt((vx**2 + vy**2 + vz**2))) * vy))),\n",
       " (vz,\n",
       "  ((((((-398600440779972.44 * z) * pow((x**2 + y**2 + z**2), -1.5000000000000000)) + (((-1.7555131752869961e+25 / (2.0000000000000000 * sqrt((x**2 + y**2 + z**2)))) * z) * ((3.0000000000000000 * (3.0000000000000000 / (x**2 + y**2 + z**2)**2)) - ((15.000000000000000 * z**2) / ((x**2 + y**2 + z**2)**2 * (x**2 + y**2 + z**2)))))) + (((7.6591108648176011e+23 / (2.0000000000000000 * pow((x**2 + y**2 + z**2), 3.5000000000000000))) * z) * (((-x * sin((4.8949608921188084 + (7.2921158548340406e-05 * t)))) + (y * cos((4.8949608921188084 + (7.2921158548340406e-05 * t)))))**2 - ((x * cos((4.8949608921188084 + (7.2921158548340406e-05 * t)))) + (y * sin((4.8949608921188084 + (7.2921158548340406e-05 * t)))))**2))) + (((-(-4.3966387893411792e+23 / pow((x**2 + y**2 + z**2), 3.5000000000000000)) * ((x * cos((4.8949608921188084 + (7.2921158548340406e-05 * t)))) + (y * sin((4.8949608921188084 + (7.2921158548340406e-05 * t)))))) * ((-x * sin((4.8949608921188084 + (7.2921158548340406e-05 * t)))) + (y * cos((4.8949608921188084 + (7.2921158548340406e-05 * t)))))) * z)) + (-(((((((1.0170993499999999e-06 * exp((-4.6382291000000000e-05 * (-6383152.2451599995 + sqrt((x**2 + y**2 + z**2)))))) + (0.78644337499999994 * exp((-0.00018608004800000001 * (-6400979.2808999997 + sqrt((x**2 + y**2 + z**2))))))) + (7.5034188300000001e-09 * exp((-2.4866717600000000e-05 * (-6382415.8782899994 + sqrt((x**2 + y**2 + z**2))))))) + (8.6393425200000000e-14 * exp((-4.8108085200000002e-06 * (-6378292.5916729998 + sqrt((x**2 + y**2 + z**2))))))) / 2.4615341004863758e-08) * p0) * sqrt((vx**2 + vy**2 + vz**2))) * vz)))]"
      ]
     },
     "execution_count": 6,
     "metadata": {},
     "output_type": "execute_result"
    }
   ],
   "source": [
    "dyn"
   ]
  },
  {
   "attachments": {},
   "cell_type": "markdown",
   "id": "b90bebf2",
   "metadata": {},
   "source": [
    "## Setup of the simulation"
   ]
  },
  {
   "attachments": {},
   "cell_type": "markdown",
   "id": "da870e70",
   "metadata": {},
   "source": [
    "The global cascade logger is here informed of the level of information we want to be reported to screen during the simulation. We also set the number of threads to be used to 32, clearly this number depends on the resources available on the particular computer used to run the simulation and the ability to run the threads in parallel."
   ]
  },
  {
   "cell_type": "code",
   "execution_count": 7,
   "id": "dbd1796c",
   "metadata": {},
   "outputs": [],
   "source": [
    "csc.set_logger_level_info()\n",
    "csc.set_nthreads(32)"
   ]
  },
  {
   "attachments": {},
   "cell_type": "markdown",
   "id": "435a5082",
   "metadata": {},
   "source": [
    "We now define the radius that will be used to check for decayed objects. We will assume that once the position of some object is below 150km altitude, the object can be considered as decayed."
   ]
  },
  {
   "cell_type": "code",
   "execution_count": 8,
   "id": "c6d42c30",
   "metadata": {},
   "outputs": [],
   "source": [
    "reentry_radius = pk.EARTH_RADIUS+150000."
   ]
  },
  {
   "cell_type": "code",
   "execution_count": 9,
   "id": "75cdf6e5",
   "metadata": {},
   "outputs": [
    {
     "name": "stdout",
     "output_type": "stream",
     "text": [
      "Removing  22  orbiting objects:\n",
      "LEMUR 2 ROCKETJONAH - 2017-071E\n",
      "ISARA - 2017-071P\n",
      "FREGAT DEB - 2011-037EM\n",
      "STARLINK-1684 - 2020-070H\n",
      "COSMOS 1408 DEB - 1982-092Z\n",
      "COSMOS 1408 DEB - 1982-092AK\n",
      "COSMOS 1408 DEB - 1982-092ES\n",
      "COSMOS 1408 DEB - 1982-092FK\n",
      "COSMOS 1408 DEB - 1982-092FY\n",
      "COSMOS 1408 DEB - 1982-092GU\n",
      "COSMOS 1408 DEB - 1982-092NA\n",
      "COSMOS 1408 DEB - 1982-092PV\n",
      "COSMOS 1408 DEB - 1982-092PW\n",
      "COSMOS 1408 DEB - 1982-092RM\n",
      "COSMOS 1408 DEB - 1982-092ACG\n",
      "COSMOS 1408 DEB - 1982-092AQC\n",
      "COSMOS 1408 DEB - 1982-092ARK\n",
      "COSMOS 1408 DEB - 1982-092AXA\n",
      "COSMOS 1408 DEB - 1982-092AXD\n",
      "COSMOS 1408 DEB - 1982-092BDB\n",
      "COSMOS 1408 DEB - 1982-092BFU\n",
      "COSMOS 1408 DEB - 1982-092BKD\n"
     ]
    }
   ],
   "source": [
    "# Detecting the particles\n",
    "inside_the_radius = np.where(np.linalg.norm(r_ic,axis=1) < reentry_radius)[0]\n",
    "print(\"Removing \", len(inside_the_radius), \" orbiting objects:\")\n",
    "for idx in inside_the_radius:\n",
    "    print(satcat[to_satcat_index[idx]][\"OBJECT_NAME\"], \"-\", satcat[to_satcat_index[idx]][\"OBJECT_ID\"])\n",
    "\n",
    "# Deleting the particles\n",
    "r_ic = np.delete(r_ic, inside_the_radius, axis=0)\n",
    "BSTARS = np.delete(BSTARS, inside_the_radius, axis=0)\n",
    "v_ic = np.delete(v_ic, inside_the_radius, axis=0)\n",
    "to_satcat_index = np.delete(to_satcat_index, inside_the_radius, axis=0)\n",
    "RADIUS = np.delete(RADIUS, inside_the_radius, axis=0)"
   ]
  },
  {
   "attachments": {},
   "cell_type": "markdown",
   "id": "b4ace1cf",
   "metadata": {},
   "source": [
    "We can now instantiate the cascade simulation. This will trigger the [LLVM](https://en.wikipedia.org/wiki/LLVM) compilation of the needed Taylor integrators representing the selected dynamics as well as the event detection, thus taking a few seconds. \n",
    "Note that this cost is to be paid only once. As far as the dynamics remains unchanged other simulations can be made reusing the same object.\n",
    "\n",
    "As a collisional timestep, a parameter that can be tuned to get the best efficiency, we use the value of the ISS orbital period divided by 40. "
   ]
  },
  {
   "cell_type": "code",
   "execution_count": 10,
   "id": "833ac987-eff7-4843-876a-2bfda8033245",
   "metadata": {},
   "outputs": [],
   "source": [
    "# Prepare the data in the shape expected by the simulation object.\n",
    "ic_state = np.hstack([r_ic, v_ic, RADIUS.reshape((r_ic.shape[0], 1))])\n",
    "BSTARS = BSTARS.reshape((r_ic.shape[0], 1))\n",
    "# The collisional timestep is set to 1/40 of the ISS orbital period\n",
    "collisional_step = 90*60 / 40\n",
    "sim = csc.sim(ic_state, collisional_step, dyn=dyn, pars=BSTARS, reentry_radius=reentry_radius, n_par_ct = 120)"
   ]
  },
  {
   "attachments": {},
   "cell_type": "markdown",
   "id": "ac13212b",
   "metadata": {},
   "source": [
    "## Running the simulation\n",
    "The following block will perform a simulation where the method *step* of a cascade ``sim`` object is called  repeatedly up to when the simulation time reaches the maximum allocated (`final_t`). \n",
    "All collision events and orbital decays are logged on files and on screen.\n",
    "\n",
    "The simulation can take up to days to complete if we are set to simulate 20 years and on a few CPUs only. In this notebook we thus set it to end after 30 days, and will report the extrapolated time of execution for 20 years.\n",
    "\n",
    "As a consequence mostly reentry events are triggered. You can let the simulation run for longer by changing the value for `final_t` and collision events will also appear."
   ]
  },
  {
   "cell_type": "code",
   "execution_count": 11,
   "id": "40f1491d",
   "metadata": {},
   "outputs": [
    {
     "name": "stdout",
     "output_type": "stream",
     "text": [
      "Starting the simulation:\n",
      "COSMOS 1408 DEB, 1982-092FH,  0.0011408778035688443 REMOVED\n",
      "COSMOS 1408 DEB, 1982-092GM,  0.004103107049680436 REMOVED\n",
      "SL-4 R/B, 2006-061B,  0.005706346635533298 REMOVED\n",
      "FREGAT DEB, 2011-037ET,  0.00726722705964723 REMOVED\n",
      "CZ-3B R/B, 2021-010B,  0.018153158895113 REMOVED\n",
      "COSMOS 1408 DEB, 1982-092AEC,  0.029553074924155966 REMOVED\n",
      "COSMOS 2241, 1993-022A,  0.04331453960721235 REMOVED\n",
      "CZ-3B R/B, 2021-003B,  0.060801873198829806 REMOVED\n",
      "FREGAT DEB, 2011-037LV,  0.0734482434177867 REMOVED\n",
      "FREGAT DEB, 2011-037NV,  0.07891368611169422 REMOVED\n",
      "COSMOS 1408 DEB, 1982-092UM,  0.07916911004311636 REMOVED\n",
      "COSMOS 1408 DEB, 1982-092AHN,  0.11593168685606152 REMOVED\n",
      "STARLINK-1919, 2020-074AG,  0.15779188442335854 REMOVED\n",
      "COSMOS 1408 DEB, 1982-092KJ,  0.5272320889700238 REMOVED\n",
      "COSMOS 2251 DEB, 1993-036AEZ,  0.6734418045797612 REMOVED\n",
      "COSMOS 1408 DEB, 1982-092GN,  1.1280069915903153 REMOVED\n",
      "FALCON 9 DEB, 2020-055BR,  1.1870443571144722 REMOVED\n",
      "COSMOS 1408 DEB, 1982-092SQ,  1.3261690880110115 REMOVED\n",
      "COSMOS 1408 DEB, 1982-092ANG,  1.4093021800211882 REMOVED\n",
      "COSMOS 1408 DEB, 1982-092TY,  1.5253801996169807 REMOVED\n",
      "COSMOS 1408 DEB, 1982-092APD,  1.5763909634938202 REMOVED\n",
      "COSMOS 1408 DEB, 1982-092AQN,  1.9777626996292166 REMOVED\n",
      "CZ-2D DEB, 2017-077D,  2.8590609582697413 REMOVED\n",
      "COSMOS 1408 DEB, 1982-092BBR,  3.1482804699371516 REMOVED\n",
      "COSMOS 2251 DEB, 1993-036BGH,  3.163050821715764 REMOVED\n",
      "COSMOS 1408 DEB, 1982-092ACC,  3.1672790594044917 REMOVED\n",
      "COSMOS 1408 DEB, 1982-092BCU,  3.2632244636048986 REMOVED\n",
      "STARLINK-1064, 2019-074BJ,  3.4012764719049886 REMOVED\n",
      "COSMOS 1408 DEB, 1982-092HV,  4.211817170536564 REMOVED\n",
      "COSMOS 1408 DEB, 1982-092AWP,  5.08762833882007 REMOVED\n",
      "COSMOS 1408 DEB, 1982-092PQ,  5.158136423233537 REMOVED\n",
      "FREGAT DEB, 2011-037BC,  5.8669000372529645 REMOVED\n",
      "COSMOS 1408 DEB, 1982-092QH,  6.127241167303482 REMOVED\n",
      "FENGYUN 1C DEB, 1999-025CVY,  6.792275514753205 REMOVED\n",
      "COSMOS 1408 DEB, 1982-092BHF,  7.782304648048581 REMOVED\n",
      "COSMOS 1408 DEB, 1982-092KV,  8.09572912371726 REMOVED\n",
      "COSMOS 1408 DEB, 1982-092PG,  8.485379829968515 REMOVED\n",
      "COSMOS 1408 DEB, 1982-092MN,  9.664190104997267 REMOVED\n",
      "COSMOS 1408 DEB, 1982-092SZ,  10.156632126365244 REMOVED\n",
      "COSMOS 1408 DEB, 1982-092AWZ,  10.258071412992054 REMOVED\n",
      "FREGAT DEB, 2011-037L,  11.014060510839993 REMOVED\n",
      "COSMOS 1408 DEB, 1982-092AWJ,  11.0161298098354 REMOVED\n",
      "COSMOS 1408 DEB, 1982-092AYM,  11.237951309601211 REMOVED\n",
      "COSMOS 1408 DEB, 1982-092KE,  11.875226909968458 REMOVED\n",
      "QUETZAL-1, 1998-067RL,  12.352890674944454 REMOVED\n",
      "COSMOS 1408 DEB, 1982-092NE,  13.67108104565709 REMOVED\n",
      "COSMOS 1408 DEB, 1982-092ACJ,  13.950266118917277 REMOVED\n",
      "COSMOS 1408 DEB, 1982-092AJN,  14.796062638116643 REMOVED\n",
      "STARLINK-1859, 2020-088AA,  15.179140254342874 REMOVED\n",
      "IRIDIUM 33 DEB, 1997-051DC,  15.559001125391704 REMOVED\n",
      "COSMOS 1408 DEB, 1982-092YV,  16.43263009093386 REMOVED\n",
      "STARLINK-2306, 2021-024M,  16.822504595044553 REMOVED\n",
      "COSMOS 1408 DEB, 1982-092AKT,  17.61640613906802 REMOVED\n",
      "COSMOS 1408 DEB, 1982-092AZH,  17.742207808331102 REMOVED\n",
      "COSMOS 1408 DEB, 1982-092AMJ,  18.208816064744685 REMOVED\n",
      "COSMOS 1408 DEB, 1982-092AP,  18.968497655318686 REMOVED\n",
      "COSMOS 1408 DEB, 1982-092BEY,  20.115627064752267 REMOVED\n",
      "COSMOS 1408 DEB, 1982-092ASS,  20.399870144419534 REMOVED\n",
      "COSMOS 1408 DEB, 1982-092ASR,  23.64240319384597 REMOVED\n",
      "SL-4 R/B, 2021-008B,  23.928961302329416 REMOVED\n",
      "COSMOS 1408 DEB, 1982-092BAJ,  24.868648781003742 REMOVED\n",
      "COSMOS 1408 DEB, 1982-092BBQ,  25.10306720954064 REMOVED\n",
      "COSMOS 1408 DEB, 1982-092AER,  26.627914753644916 REMOVED\n",
      "COSMOS 1408 DEB, 1982-092BGC,  29.468614392860843 REMOVED\n",
      "COSMOS 1408 DEB, 1982-092MS,  29.681864171879365 REMOVED\n",
      "Elapsed [s]:  64.04002475738525\n",
      "Time projected to simulate 20 years is  4.331596119006475  hours\n"
     ]
    }
   ],
   "source": [
    "import time\n",
    "final_t = 30 * pk.DAY2SEC\n",
    "print(\"Starting the simulation:\", flush=True)\n",
    "start = time.time()\n",
    "\n",
    "current_year = 0\n",
    "while sim.time < final_t:\n",
    "    years_elapsed = sim.time * pk.SEC2DAY // 365.25\n",
    "\n",
    "    if years_elapsed == current_year:\n",
    "        with open(\"out/year_\"+str(current_year)+\".pk\", \"wb\") as file:\n",
    "            pkl.dump((sim.state, sim.pars, to_satcat_index), file)\n",
    "        current_year += 1\n",
    "\n",
    "    oc = sim.step()\n",
    "\n",
    "    if oc == csc.outcome.collision:\n",
    "        pi, pj = sim.interrupt_info\n",
    "        # We log the event to file\n",
    "        satcat_idx1 = to_satcat_index[pi]\n",
    "        satcat_idx2 = to_satcat_index[pj]\n",
    "        days_elapsed = sim.time * pk.SEC2DAY\n",
    "        with open(\"out/collision_log.txt\", \"a\") as file_object:\n",
    "            file_object.write(\n",
    "                f\"{days_elapsed}, {satcat_idx1}, {satcat_idx2}, {sim.state[pi]}, {sim.state[pj]}\\n\")\n",
    "        # We log the event to screen\n",
    "        o1, o2 = satcat[satcat_idx1][\"OBJECT_TYPE\"], satcat[satcat_idx2][\"OBJECT_TYPE\"]\n",
    "        s1, s2 = satcat[satcat_idx1][\"RCS_SIZE\"], satcat[satcat_idx2][\"RCS_SIZE\"]\n",
    "        print(\n",
    "            f\"\\nCollision detected, {o1} ({s1}) and {o2} ({s2}) after {days_elapsed} days\\n\")\n",
    "        # We remove the objects and restart the simulation\n",
    "        sim.remove_particles([pi,pj])\n",
    "        to_satcat_index = np.delete(to_satcat_index, [max(pi,pj)], axis=0)        \n",
    "        to_satcat_index = np.delete(to_satcat_index, [min(pi,pj)], axis=0)\n",
    "\n",
    "\n",
    "    elif oc == csc.outcome.reentry:\n",
    "        pi = sim.interrupt_info\n",
    "        # We log the event to file\n",
    "        satcat_idx = to_satcat_index[pi]\n",
    "        days_elapsed = sim.time * pk.SEC2DAY\n",
    "        with open(\"out/decay_log.txt\", \"a\") as file_object:\n",
    "            file_object.write(f\"{days_elapsed},{satcat_idx}\\n\")\n",
    "        # We log the event to screen\n",
    "        print(satcat[satcat_idx][\"OBJECT_NAME\"].strip(\n",
    "        ) + \", \" + satcat[satcat_idx][\"OBJECT_ID\"].strip() + \", \", days_elapsed, \"REMOVED\")\n",
    "        # We remove the re-entered object and restart the simulation\n",
    "        sim.remove_particles([pi])\n",
    "        to_satcat_index = np.delete(to_satcat_index, [pi], axis=0)    \n",
    "end = time.time()\n",
    "elapsed = end - start\n",
    "print(\"Elapsed [s]: \", end - start)\n",
    "print(\"Time projected to simulate 20 years is \", elapsed / 30 * 20 *365.25 / 60 / 60, \" hours\")\n",
    "\n"
   ]
  },
  {
   "attachments": {},
   "cell_type": "markdown",
   "id": "40526c4e",
   "metadata": {},
   "source": [
    "The total simulation time, ultimately determined by the underlying CPU architecture, is sensitive also to the choices made for  `n_par_ct` and `collisional_step` which determine the efficient use of the CPUs as well as the perfromances of the underlying original collision detection algorithm based on the manipulation of the dense output of the Taylor integrators."
   ]
  }
 ],
 "metadata": {
  "kernelspec": {
   "display_name": "cascade_devel",
   "language": "python",
   "name": "python3"
  },
  "language_info": {
   "codemirror_mode": {
    "name": "ipython",
    "version": 3
   },
   "file_extension": ".py",
   "mimetype": "text/x-python",
   "name": "python",
   "nbconvert_exporter": "python",
   "pygments_lexer": "ipython3",
   "version": "3.10.8"
  },
  "vscode": {
   "interpreter": {
    "hash": "1b4632c845608e514f59174a0b633d7aa9368e18a4056c6a679731fdfc1793cd"
   }
  }
 },
 "nbformat": 4,
 "nbformat_minor": 5
}
