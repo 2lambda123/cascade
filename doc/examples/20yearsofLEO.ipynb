{
 "cells": [
  {
   "attachments": {},
   "cell_type": "markdown",
   "id": "b6f0aa85",
   "metadata": {},
   "source": [
    "# 20 years of LEO\n",
    "In this example we will consider the tracked population of objects orbiting in Low Earth Orbit and evolve it for twenty years while counting collisions and removing decayed objects.\n",
    "We start, as always, with some imports:"
   ]
  },
  {
   "cell_type": "code",
   "execution_count": 1,
   "id": "c9b316b3-8d04-4b55-8395-54be3213bd03",
   "metadata": {},
   "outputs": [],
   "source": [
    "# core imports\n",
    "import pykep as pk\n",
    "import numpy as np\n",
    "import pickle as pkl\n",
    "\n",
    "import cascade as csc\n",
    "from copy import deepcopy\n",
    "from tqdm.notebook import tqdm\n",
    "import heyoka as hy\n",
    "\n",
    "from mpl_toolkits.mplot3d import Axes3D\n",
    "from matplotlib import pyplot as plt\n",
    "%matplotlib inline"
   ]
  },
  {
   "attachments": {},
   "cell_type": "markdown",
   "id": "3a5f6485",
   "metadata": {},
   "source": [
    "## Loading the initial LEO population\n",
    "To define the initial LEO population as tracked by the [US Space Surveillance Network (SSN)](https://en.wikipedia.org/wiki/United_States_Space_Surveillance_Network). The necessary steps are described by the code described in [The current LEO population](<./../utilities/leo_population.ipynb>)\n",
    "\n",
    "The file needed is:\n",
    "* **leo_population.pk** - created by [The current LEO population](<./../utilities/leo_population.ipynb>) notebook."
   ]
  },
  {
   "cell_type": "code",
   "execution_count": 2,
   "id": "76079dd5",
   "metadata": {},
   "outputs": [],
   "source": [
    "# r is in km and v in km/s\n",
    "with open(\"data/leo_population.pk\", \"rb\") as file:\n",
    "    r_ic,v_ic,to_satcat_index,satcat = pkl.load(file)"
   ]
  },
  {
   "attachments": {},
   "cell_type": "markdown",
   "id": "1ff31aa1",
   "metadata": {},
   "source": [
    "* **r_ic**: contains the initial position of all satellites to be simulated (in km)\n",
    "* **v_ic**: contains the initial velocity of all satellites to be simulated (in km/sec)\n",
    "* **to_satcat_index**: contains the indexes in the satcat of the corresponding r_ic,v_ic entry\n",
    "* **satcat**: the database created of all tracked objects\n",
    "\n",
    "The object described by the entry ```satcat[to_satcat_index[j]]``` has initial position ```r_ic[j]``` and initial velocity ```v_ic[j]```. Let us inspect one entry"
   ]
  },
  {
   "cell_type": "code",
   "execution_count": 3,
   "id": "ca5e8dd7",
   "metadata": {},
   "outputs": [
    {
     "name": "stdout",
     "output_type": "stream",
     "text": [
      "Dictionary entry:  {'CCSDS_OMM_VERS': '2.0', 'COMMENT': 'GENERATED VIA SPACE-TRACK.ORG API', 'CREATION_DATE': '2022-02-03T04:23:25', 'ORIGINATOR': '18 SPCS', 'OBJECT_NAME': 'SL-14 DEB', 'OBJECT_ID': '1978-100F', 'CENTER_NAME': 'EARTH', 'REF_FRAME': 'TEME', 'TIME_SYSTEM': 'UTC', 'MEAN_ELEMENT_THEORY': 'SGP4', 'EPOCH': '2022-02-02T22:42:05.237280', 'MEAN_MOTION': '12.56769207', 'ECCENTRICITY': '0.00286110', 'INCLINATION': '82.3526', 'RA_OF_ASC_NODE': '268.9057', 'ARG_OF_PERICENTER': '297.9015', 'MEAN_ANOMALY': '75.7071', 'EPHEMERIS_TYPE': '0', 'CLASSIFICATION_TYPE': 'U', 'NORAD_CAT_ID': '19133', 'ELEMENT_SET_NO': '999', 'REV_AT_EPOCH': '93528', 'BSTAR': '0.02113600000000', 'MEAN_MOTION_DOT': '0.00003527', 'MEAN_MOTION_DDOT': '0.0000000000000', 'SEMIMAJOR_AXIS': '7814.445', 'PERIOD': '114.580', 'APOAPSIS': '1458.668', 'PERIAPSIS': '1413.952', 'OBJECT_TYPE': 'DEBRIS', 'RCS_SIZE': 'MEDIUM', 'COUNTRY_CODE': 'CIS', 'LAUNCH_DATE': '1978-10-26', 'SITE': 'PKMTR', 'DECAY_DATE': None, 'FILE': '3290513', 'GP_ID': '195174860', 'TLE_LINE0': '0 SL-14 DEB', 'TLE_LINE1': '1 19133U 78100F   22033.94589395  .00003527  00000-0  21136-1 0  9996', 'TLE_LINE2': '2 19133  82.3526 268.9057 0028611 297.9015  75.7071 12.56769207935282', 'RADIUS': 0.2631205051777122}\n",
      "Position (km):  [2129.88342848 3695.71335128 6552.37467945]\n",
      "Velocity (km/s):  [ 1.38399824  5.88779107 -3.78530589]\n"
     ]
    }
   ],
   "source": [
    "print(\"Dictionary entry: \", satcat[to_satcat_index[3685]])\n",
    "print(\"Position (km): \", r_ic[3685])\n",
    "print(\"Velocity (km/s): \", v_ic[3685])"
   ]
  },
  {
   "attachments": {},
   "cell_type": "markdown",
   "id": "2f2749ae",
   "metadata": {},
   "source": [
    "on top of all the info distributed from the [US Space Surveillance Network (SSN)](https://en.wikipedia.org/wiki/United_States_Space_Surveillance_Network) we have added to the satcat (see [The current LEO population](<./../utilities/leo_population.ipynb>) notebook)an estimate of the object radius which we will need to define the various collisional radii. As we will be using a dynamics that also models the atmospheric drag via the BSTAR coefficient, we create the array to be used as parameter when instantiating a :class:`~cascade.sim`."
   ]
  },
  {
   "cell_type": "code",
   "execution_count": 4,
   "id": "d564e8f6",
   "metadata": {},
   "outputs": [],
   "source": [
    "# Array containing the BSTAR coefficient in the SI units used\n",
    "BSTARS = []\n",
    "RADIUS = []\n",
    "for idx in to_satcat_index:\n",
    "    BSTARS.append(float(satcat[idx][\"BSTAR\"]))\n",
    "    RADIUS.append(float(satcat[idx][\"RADIUS\"]))\n",
    "# We transform the BSTAR in SI units\n",
    "BSTARS = np.array(BSTARS) / pk.EARTH_RADIUS\n",
    "RADIUS = np.array(RADIUS)\n",
    "# .. and remove negative BSTARS (this can happen for objects that where performing orbital manouvres during the tle definition) setting the value to zero in those occasions.\n",
    "BSTARS[BSTARS<0] = 0.\n",
    "# We also transform r_ic and v_ic in SI\n",
    "r_ic = r_ic*1000\n",
    "v_ic = v_ic*1000"
   ]
  },
  {
   "attachments": {},
   "cell_type": "markdown",
   "id": "682994db",
   "metadata": {},
   "source": [
    "# Building the dynamical system to integrate\n",
    "The dynamics in the LEO environment is dominated by drag and gravitational effects. The effect of the Moon gravity, Sun gravity and solar radiation pressure are not considered, even if they would not add much complexity in this simulation. We make use of :class:`~cascade.dynamics.simple_earth` defining the analytical expressions for such a dynamics."
   ]
  },
  {
   "cell_type": "code",
   "execution_count": 5,
   "id": "dfe35865",
   "metadata": {},
   "outputs": [],
   "source": [
    "dyn =  csc.dynamics.simple_earth(J2=True, C22S22=True,sun=False,moon=False,SRP=False,drag=True)"
   ]
  },
  {
   "attachments": {},
   "cell_type": "markdown",
   "id": "47b72ace",
   "metadata": {},
   "source": [
    "and we inspect it visually to check that all is defined as expected (the analytical expression are long and complex, but this will not be an issue for heyoka)."
   ]
  },
  {
   "cell_type": "code",
   "execution_count": 6,
   "id": "90402536",
   "metadata": {},
   "outputs": [
    {
     "data": {
      "text/plain": [
       "[(x, vx),\n",
       " (y, vy),\n",
       " (z, vz),\n",
       " (vx,\n",
       "  ((((((-398600440779972.44 * x) * pow((x**2 + y**2 + z**2), -1.5000000000000000)) + (((-1.7555131752869966e+19 / (2.0000000000000000 * sqrt((x**2 + y**2 + z**2)))) * x) * ((3.0000000000000000 / (x**2 + y**2 + z**2)**2) - ((15.000000000000000 * z**2) / ((x**2 + y**2 + z**2)**2 * (x**2 + y**2 + z**2)))))) + ((((((7.6591108648176013e+17 / (2.0000000000000000 * pow((x**2 + y**2 + z**2), 3.5000000000000000))) * ((x * cos((4.8949608921188084 + (7.2921158548340406e-05 * t)))) + (y * sin((4.8949608921188084 + (7.2921158548340406e-05 * t)))))) * (((-x * sin((4.8949608921188084 + (7.2921158548340406e-05 * t)))) + (y * cos((4.8949608921188084 + (7.2921158548340406e-05 * t)))))**2 - ((x * cos((4.8949608921188084 + (7.2921158548340406e-05 * t)))) + (y * sin((4.8949608921188084 + (7.2921158548340406e-05 * t)))))**2)) + ((1.5318221729635203e+17 / pow((x**2 + y**2 + z**2), 2.5000000000000000)) * ((x * cos((4.8949608921188084 + (7.2921158548340406e-05 * t)))) + (y * sin((4.8949608921188084 + (7.2921158548340406e-05 * t))))))) * cos((4.8949608921188084 + (7.2921158548340406e-05 * t)))) - (((((7.6591108648176013e+17 / (2.0000000000000000 * pow((x**2 + y**2 + z**2), 3.5000000000000000))) * ((-x * sin((4.8949608921188084 + (7.2921158548340406e-05 * t)))) + (y * cos((4.8949608921188084 + (7.2921158548340406e-05 * t)))))) * (((-x * sin((4.8949608921188084 + (7.2921158548340406e-05 * t)))) + (y * cos((4.8949608921188084 + (7.2921158548340406e-05 * t)))))**2 - ((x * cos((4.8949608921188084 + (7.2921158548340406e-05 * t)))) + (y * sin((4.8949608921188084 + (7.2921158548340406e-05 * t)))))**2)) - ((1.5318221729635203e+17 / pow((x**2 + y**2 + z**2), 2.5000000000000000)) * ((-x * sin((4.8949608921188084 + (7.2921158548340406e-05 * t)))) + (y * cos((4.8949608921188084 + (7.2921158548340406e-05 * t))))))) * sin((4.8949608921188084 + (7.2921158548340406e-05 * t)))))) + (((((-(-4.3966387893411789e+17 / pow((x**2 + y**2 + z**2), 3.5000000000000000)) * ((x * cos((4.8949608921188084 + (7.2921158548340406e-05 * t)))) + (y * sin((4.8949608921188084 + (7.2921158548340406e-05 * t)))))**2) * ((-x * sin((4.8949608921188084 + (7.2921158548340406e-05 * t)))) + (y * cos((4.8949608921188084 + (7.2921158548340406e-05 * t)))))) + ((-87932775786823584. / pow((x**2 + y**2 + z**2), 2.5000000000000000)) * ((-x * sin((4.8949608921188084 + (7.2921158548340406e-05 * t)))) + (y * cos((4.8949608921188084 + (7.2921158548340406e-05 * t))))))) * cos((4.8949608921188084 + (7.2921158548340406e-05 * t)))) - ((((-(-4.3966387893411789e+17 / pow((x**2 + y**2 + z**2), 3.5000000000000000)) * ((x * cos((4.8949608921188084 + (7.2921158548340406e-05 * t)))) + (y * sin((4.8949608921188084 + (7.2921158548340406e-05 * t)))))) * ((-x * sin((4.8949608921188084 + (7.2921158548340406e-05 * t)))) + (y * cos((4.8949608921188084 + (7.2921158548340406e-05 * t)))))**2) + ((-87932775786823584. / pow((x**2 + y**2 + z**2), 2.5000000000000000)) * ((x * cos((4.8949608921188084 + (7.2921158548340406e-05 * t)))) + (y * sin((4.8949608921188084 + (7.2921158548340406e-05 * t))))))) * sin((4.8949608921188084 + (7.2921158548340406e-05 * t)))))) + (-(((((((1.0170993499999999e-06 * exp((-4.6382291000000000e-05 * (-6383152.2451599995 + sqrt((x**2 + y**2 + z**2)))))) + (0.78644337499999994 * exp((-0.00018608004800000001 * (-6400979.2808999997 + sqrt((x**2 + y**2 + z**2))))))) + (7.5034188300000001e-09 * exp((-2.4866717600000000e-05 * (-6382415.8782899994 + sqrt((x**2 + y**2 + z**2))))))) + (8.6393425200000000e-14 * exp((-4.8108085200000002e-06 * (-6378292.5916729998 + sqrt((x**2 + y**2 + z**2))))))) / 2.4615341004863758e-08) * p0) * sqrt((vx**2 + vy**2 + vz**2))) * vx))),\n",
       " (vy,\n",
       "  ((((((-398600440779972.44 * y) * pow((x**2 + y**2 + z**2), -1.5000000000000000)) + (((-1.7555131752869966e+19 / (2.0000000000000000 * sqrt((x**2 + y**2 + z**2)))) * y) * ((3.0000000000000000 / (x**2 + y**2 + z**2)**2) - ((15.000000000000000 * z**2) / ((x**2 + y**2 + z**2)**2 * (x**2 + y**2 + z**2)))))) + ((((((7.6591108648176013e+17 / (2.0000000000000000 * pow((x**2 + y**2 + z**2), 3.5000000000000000))) * ((x * cos((4.8949608921188084 + (7.2921158548340406e-05 * t)))) + (y * sin((4.8949608921188084 + (7.2921158548340406e-05 * t)))))) * (((-x * sin((4.8949608921188084 + (7.2921158548340406e-05 * t)))) + (y * cos((4.8949608921188084 + (7.2921158548340406e-05 * t)))))**2 - ((x * cos((4.8949608921188084 + (7.2921158548340406e-05 * t)))) + (y * sin((4.8949608921188084 + (7.2921158548340406e-05 * t)))))**2)) + ((1.5318221729635203e+17 / pow((x**2 + y**2 + z**2), 2.5000000000000000)) * ((x * cos((4.8949608921188084 + (7.2921158548340406e-05 * t)))) + (y * sin((4.8949608921188084 + (7.2921158548340406e-05 * t))))))) * sin((4.8949608921188084 + (7.2921158548340406e-05 * t)))) + (((((7.6591108648176013e+17 / (2.0000000000000000 * pow((x**2 + y**2 + z**2), 3.5000000000000000))) * ((-x * sin((4.8949608921188084 + (7.2921158548340406e-05 * t)))) + (y * cos((4.8949608921188084 + (7.2921158548340406e-05 * t)))))) * (((-x * sin((4.8949608921188084 + (7.2921158548340406e-05 * t)))) + (y * cos((4.8949608921188084 + (7.2921158548340406e-05 * t)))))**2 - ((x * cos((4.8949608921188084 + (7.2921158548340406e-05 * t)))) + (y * sin((4.8949608921188084 + (7.2921158548340406e-05 * t)))))**2)) - ((1.5318221729635203e+17 / pow((x**2 + y**2 + z**2), 2.5000000000000000)) * ((-x * sin((4.8949608921188084 + (7.2921158548340406e-05 * t)))) + (y * cos((4.8949608921188084 + (7.2921158548340406e-05 * t))))))) * cos((4.8949608921188084 + (7.2921158548340406e-05 * t)))))) + (((((-(-4.3966387893411789e+17 / pow((x**2 + y**2 + z**2), 3.5000000000000000)) * ((x * cos((4.8949608921188084 + (7.2921158548340406e-05 * t)))) + (y * sin((4.8949608921188084 + (7.2921158548340406e-05 * t)))))**2) * ((-x * sin((4.8949608921188084 + (7.2921158548340406e-05 * t)))) + (y * cos((4.8949608921188084 + (7.2921158548340406e-05 * t)))))) + ((-87932775786823584. / pow((x**2 + y**2 + z**2), 2.5000000000000000)) * ((-x * sin((4.8949608921188084 + (7.2921158548340406e-05 * t)))) + (y * cos((4.8949608921188084 + (7.2921158548340406e-05 * t))))))) * sin((4.8949608921188084 + (7.2921158548340406e-05 * t)))) + ((((-(-4.3966387893411789e+17 / pow((x**2 + y**2 + z**2), 3.5000000000000000)) * ((x * cos((4.8949608921188084 + (7.2921158548340406e-05 * t)))) + (y * sin((4.8949608921188084 + (7.2921158548340406e-05 * t)))))) * ((-x * sin((4.8949608921188084 + (7.2921158548340406e-05 * t)))) + (y * cos((4.8949608921188084 + (7.2921158548340406e-05 * t)))))**2) + ((-87932775786823584. / pow((x**2 + y**2 + z**2), 2.5000000000000000)) * ((x * cos((4.8949608921188084 + (7.2921158548340406e-05 * t)))) + (y * sin((4.8949608921188084 + (7.2921158548340406e-05 * t))))))) * cos((4.8949608921188084 + (7.2921158548340406e-05 * t)))))) + (-(((((((1.0170993499999999e-06 * exp((-4.6382291000000000e-05 * (-6383152.2451599995 + sqrt((x**2 + y**2 + z**2)))))) + (0.78644337499999994 * exp((-0.00018608004800000001 * (-6400979.2808999997 + sqrt((x**2 + y**2 + z**2))))))) + (7.5034188300000001e-09 * exp((-2.4866717600000000e-05 * (-6382415.8782899994 + sqrt((x**2 + y**2 + z**2))))))) + (8.6393425200000000e-14 * exp((-4.8108085200000002e-06 * (-6378292.5916729998 + sqrt((x**2 + y**2 + z**2))))))) / 2.4615341004863758e-08) * p0) * sqrt((vx**2 + vy**2 + vz**2))) * vy))),\n",
       " (vz,\n",
       "  ((((((-398600440779972.44 * z) * pow((x**2 + y**2 + z**2), -1.5000000000000000)) + (((-1.7555131752869966e+19 / (2.0000000000000000 * sqrt((x**2 + y**2 + z**2)))) * z) * ((3.0000000000000000 * (3.0000000000000000 / (x**2 + y**2 + z**2)**2)) - ((15.000000000000000 * z**2) / ((x**2 + y**2 + z**2)**2 * (x**2 + y**2 + z**2)))))) + (((7.6591108648176013e+17 / (2.0000000000000000 * pow((x**2 + y**2 + z**2), 3.5000000000000000))) * z) * (((-x * sin((4.8949608921188084 + (7.2921158548340406e-05 * t)))) + (y * cos((4.8949608921188084 + (7.2921158548340406e-05 * t)))))**2 - ((x * cos((4.8949608921188084 + (7.2921158548340406e-05 * t)))) + (y * sin((4.8949608921188084 + (7.2921158548340406e-05 * t)))))**2))) + (((-(-4.3966387893411789e+17 / pow((x**2 + y**2 + z**2), 3.5000000000000000)) * ((x * cos((4.8949608921188084 + (7.2921158548340406e-05 * t)))) + (y * sin((4.8949608921188084 + (7.2921158548340406e-05 * t)))))) * ((-x * sin((4.8949608921188084 + (7.2921158548340406e-05 * t)))) + (y * cos((4.8949608921188084 + (7.2921158548340406e-05 * t)))))) * z)) + (-(((((((1.0170993499999999e-06 * exp((-4.6382291000000000e-05 * (-6383152.2451599995 + sqrt((x**2 + y**2 + z**2)))))) + (0.78644337499999994 * exp((-0.00018608004800000001 * (-6400979.2808999997 + sqrt((x**2 + y**2 + z**2))))))) + (7.5034188300000001e-09 * exp((-2.4866717600000000e-05 * (-6382415.8782899994 + sqrt((x**2 + y**2 + z**2))))))) + (8.6393425200000000e-14 * exp((-4.8108085200000002e-06 * (-6378292.5916729998 + sqrt((x**2 + y**2 + z**2))))))) / 2.4615341004863758e-08) * p0) * sqrt((vx**2 + vy**2 + vz**2))) * vz)))]"
      ]
     },
     "execution_count": 6,
     "metadata": {},
     "output_type": "execute_result"
    }
   ],
   "source": [
    "dyn"
   ]
  },
  {
   "cell_type": "markdown",
   "id": "b90bebf2",
   "metadata": {},
   "source": [
    "# We setup the simulation"
   ]
  },
  {
   "attachments": {},
   "cell_type": "markdown",
   "id": "da870e70",
   "metadata": {},
   "source": [
    "the global cascade logger is here informed of the level of information we want to be reported to screen during the simulation."
   ]
  },
  {
   "cell_type": "code",
   "execution_count": 11,
   "id": "dbd1796c",
   "metadata": {},
   "outputs": [],
   "source": [
    "csc.set_logger_level_info()"
   ]
  },
  {
   "attachments": {},
   "cell_type": "markdown",
   "id": "435a5082",
   "metadata": {},
   "source": [
    "We now define the radius that will be used to check for decayed objects. We will assume that once the position of some object is below 150km altitude, the object can be considered as decayed."
   ]
  },
  {
   "cell_type": "code",
   "execution_count": 12,
   "id": "c6d42c30",
   "metadata": {},
   "outputs": [],
   "source": [
    "reentry_radius = pk.EARTH_RADIUS+150000."
   ]
  },
  {
   "cell_type": "code",
   "execution_count": 13,
   "id": "75cdf6e5",
   "metadata": {},
   "outputs": [
    {
     "name": "stdout",
     "output_type": "stream",
     "text": [
      "Removing  0  orbiting objects:\n"
     ]
    }
   ],
   "source": [
    "def remove_particle(idx, r_ic, v_ic, BSTARS,to_satcat, RADIUS):\n",
    "    r_ic = np.delete(r_ic, idx, axis=0)\n",
    "    BSTARS = np.delete(BSTARS, idx, axis=0)\n",
    "    v_ic = np.delete(v_ic, idx, axis=0)\n",
    "    to_satcat = np.delete(to_satcat, idx, axis=0)\n",
    "    RADIUS = np.delete(RADIUS, idx, axis=0)\n",
    "    return r_ic, v_ic, BSTARS, to_satcat, RADIUS\n",
    "\n",
    "inside_the_radius = np.where(np.linalg.norm(r_ic,axis=1) < reentry_radius)[0]\n",
    "print(\"Removing \", len(inside_the_radius), \" orbiting objects:\")\n",
    "for idx in inside_the_radius:\n",
    "    print(satcat[to_satcat_index[idx]][\"OBJECT_NAME\"], \"-\", satcat[to_satcat_index[idx]][\"OBJECT_ID\"])\n",
    "r_ic, v_ic, BSTARS,to_satcat, RADIUS = remove_particle(inside_the_radius, r_ic, v_ic, BSTARS,to_satcat_index, RADIUS)"
   ]
  },
  {
   "attachments": {},
   "cell_type": "markdown",
   "id": "b4ace1cf",
   "metadata": {},
   "source": [
    "We can now instantiate the cascade simulation. This will trigger the JIT compilation of the numerical integrators with the selected dynamics with event detection and thus take a few seconds. \n",
    "Note that this is to be paid only once and as far as the dynamics is kept the same simulations can be made reusing the same simulation object.\n",
    "\n",
    "As a collisional timestep, a parameter that can be tuned to get the best efficiency, we use the arbitrary value of the ISS orbital period divided by 25. "
   ]
  },
  {
   "cell_type": "code",
   "execution_count": 14,
   "id": "833ac987-eff7-4843-876a-2bfda8033245",
   "metadata": {},
   "outputs": [],
   "source": [
    "# Prepare the data in the shape expected by the simulation object.\n",
    "ic_state = np.hstack([r_ic, v_ic, RADIUS.reshape((r_ic.shape[0], 1))])\n",
    "BSTARS = BSTARS.reshape((r_ic.shape[0], 1))\n",
    "# The collisional timestep is set to 1/25 of the ISS orbital period\n",
    "collisional_step = 90*60 / 25\n",
    "sim = csc.sim(ic_state, collisional_step, dyn=dyn, pars=BSTARS, reentry_radius=reentry_radius)"
   ]
  },
  {
   "cell_type": "markdown",
   "id": "ac13212b",
   "metadata": {},
   "source": [
    "# We run the simulation"
   ]
  },
  {
   "cell_type": "code",
   "execution_count": 15,
   "id": "40f1491d",
   "metadata": {},
   "outputs": [
    {
     "name": "stdout",
     "output_type": "stream",
     "text": [
      "Starting the simulation:\n",
      "COSMOS 1408 DEB, 1982-092EZ,  0.0011340601727223452 REMOVED\n",
      "COSMOS 1408 DEB, 1982-092FZ,  0.004104128502777978 REMOVED\n",
      "SL-4 R/B, 2006-061B,  0.00572006651910536 REMOVED\n",
      "FREGAT DEB, 2011-037EL,  0.007307253737132345 REMOVED\n",
      "STARLINK-2023, 2021-009BK,  0.018195437495537425 REMOVED\n",
      "COSMOS 1408 DEB, 1982-092TR,  0.026522936514469367 REMOVED\n",
      "COSMOS 1408 DEB, 1982-092ADK,  0.028751478490792105 REMOVED\n",
      "COSMOS 1408 DEB, 1982-092AGV,  0.053821930334685485 REMOVED\n",
      "OBJECT J, 2021-002J,  0.06110911532366596 REMOVED\n",
      "RESURS O1 DEB, 1994-074BA,  0.07330302827907693 REMOVED\n",
      "FREGAT DEB, 2011-037NP,  0.07449452724976004 REMOVED\n",
      "STARLINK-1906, 2020-074AC,  0.2142516031021901 REMOVED\n"
     ]
    },
    {
     "ename": "KeyboardInterrupt",
     "evalue": "",
     "output_type": "error",
     "traceback": [
      "\u001b[0;31m---------------------------------------------------------------------------\u001b[0m",
      "\u001b[0;31mKeyboardInterrupt\u001b[0m                         Traceback (most recent call last)",
      "Cell \u001b[0;32mIn[15], line 13\u001b[0m\n\u001b[1;32m     10\u001b[0m         pkl\u001b[39m.\u001b[39mdump((sim\u001b[39m.\u001b[39mstate, sim\u001b[39m.\u001b[39mpars, to_satcat_index), file)\n\u001b[1;32m     11\u001b[0m     current_year \u001b[39m+\u001b[39m\u001b[39m=\u001b[39m \u001b[39m1\u001b[39m\n\u001b[0;32m---> 13\u001b[0m oc \u001b[39m=\u001b[39m sim\u001b[39m.\u001b[39;49mstep()\n\u001b[1;32m     15\u001b[0m \u001b[39mif\u001b[39;00m oc \u001b[39m==\u001b[39m csc\u001b[39m.\u001b[39moutcome\u001b[39m.\u001b[39mcollision:\n\u001b[1;32m     16\u001b[0m     pi, pj \u001b[39m=\u001b[39m sim\u001b[39m.\u001b[39minterrupt_info\n",
      "\u001b[0;31mKeyboardInterrupt\u001b[0m: "
     ]
    }
   ],
   "source": [
    "final_t = 365.25 * pk.DAY2SEC * 20\n",
    "print(\"Starting the simulation:\", flush=True)\n",
    "\n",
    "current_year = 0\n",
    "while sim.time < final_t:\n",
    "    years_elapsed = sim.time * pk.SEC2DAY // 365.25\n",
    "\n",
    "    if years_elapsed == current_year:\n",
    "        with open(\"out/year_\"+str(current_year)+\".pk\", \"wb\") as file:\n",
    "            pkl.dump((sim.state, sim.pars, to_satcat_index), file)\n",
    "        current_year += 1\n",
    "\n",
    "    oc = sim.step()\n",
    "\n",
    "    if oc == csc.outcome.collision:\n",
    "        pi, pj = sim.interrupt_info\n",
    "        # We log the event to file\n",
    "        satcat_idx1 = to_satcat_index[pi]\n",
    "        satcat_idx2 = to_satcat_index[pj]\n",
    "        days_elapsed = sim.time * pk.SEC2DAY\n",
    "        with open(\"out/collision_log.txt\", \"a\") as file_object:\n",
    "            file_object.write(\n",
    "                f\"{days_elapsed}, {satcat_idx1}, {satcat_idx2}, {sim.state[pi]}, {sim.state[pj]}\\n\")\n",
    "        # We log the event to screen\n",
    "        o1, o2 = satcat[satcat_idx1][\"OBJECT_TYPE\"], satcat[satcat_idx2][\"OBJECT_TYPE\"]\n",
    "        s1, s2 = satcat[satcat_idx1][\"RCS_SIZE\"], satcat[satcat_idx2][\"RCS_SIZE\"]\n",
    "        print(\n",
    "            f\"\\nCollision detected, {o1} ({s1}) and {o2} ({s2}) after {days_elapsed} days\\n\")\n",
    "        # We remove the objects and restart the simulation\n",
    "        sim.remove_particles([pi,pj])\n",
    "        to_satcat_index = np.delete(to_satcat_index, [max(pi,pj)], axis=0)        \n",
    "        to_satcat_index = np.delete(to_satcat_index, [min(pi,pj)], axis=0)\n",
    "\n",
    "\n",
    "    elif oc == csc.outcome.reentry:\n",
    "        pi = sim.interrupt_info\n",
    "        # We log the event to file\n",
    "        satcat_idx = to_satcat_index[pi]\n",
    "        days_elapsed = sim.time * pk.SEC2DAY\n",
    "        with open(\"out/decay_log.txt\", \"a\") as file_object:\n",
    "            file_object.write(f\"{days_elapsed},{satcat_idx}\\n\")\n",
    "        # We log the event to screen\n",
    "        print(satcat[satcat_idx][\"OBJECT_NAME\"].strip(\n",
    "        ) + \", \" + satcat[satcat_idx][\"OBJECT_ID\"].strip() + \", \", days_elapsed, \"REMOVED\")\n",
    "        # We remove the re-entered object and restart the simulation\n",
    "        sim.remove_particles([pi])\n",
    "        to_satcat_index = np.delete(to_satcat_index, [pi], axis=0)      "
   ]
  },
  {
   "cell_type": "code",
   "execution_count": null,
   "id": "cd7d6159-2c8b-4d2c-aaee-411859a655cf",
   "metadata": {},
   "outputs": [],
   "source": []
  }
 ],
 "metadata": {
  "kernelspec": {
   "display_name": "cascade_devel",
   "language": "python",
   "name": "python3"
  },
  "language_info": {
   "codemirror_mode": {
    "name": "ipython",
    "version": 3
   },
   "file_extension": ".py",
   "mimetype": "text/x-python",
   "name": "python",
   "nbconvert_exporter": "python",
   "pygments_lexer": "ipython3",
   "version": "3.10.8"
  },
  "vscode": {
   "interpreter": {
    "hash": "1b4632c845608e514f59174a0b633d7aa9368e18a4056c6a679731fdfc1793cd"
   }
  }
 },
 "nbformat": 4,
 "nbformat_minor": 5
}
