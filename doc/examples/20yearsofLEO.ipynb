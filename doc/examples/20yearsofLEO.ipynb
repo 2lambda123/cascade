{
 "cells": [
  {
   "attachments": {},
   "cell_type": "markdown",
   "id": "b6f0aa85",
   "metadata": {},
   "source": [
    "# 20 years of LEO\n",
    "In this example we will consider the tracked population of objects orbiting in Low Earth Orbit and evolve it for twenty years while counting collisions and removing decayed objects.\n",
    "We start, as always, with some imports:"
   ]
  },
  {
   "cell_type": "code",
   "execution_count": 1,
   "id": "c9b316b3-8d04-4b55-8395-54be3213bd03",
   "metadata": {},
   "outputs": [],
   "source": [
    "# core imports\n",
    "import pykep as pk\n",
    "import numpy as np\n",
    "import pickle as pkl\n",
    "\n",
    "import cascade as csc\n",
    "from copy import deepcopy\n",
    "from tqdm.notebook import tqdm\n",
    "import heyoka as hy\n",
    "\n",
    "from mpl_toolkits.mplot3d import Axes3D\n",
    "from matplotlib import pyplot as plt\n",
    "%matplotlib inline"
   ]
  },
  {
   "attachments": {},
   "cell_type": "markdown",
   "id": "3a5f6485",
   "metadata": {},
   "source": [
    "## Loading the initial LEO population\n",
    "To define the initial LEO population as tracked by the [US Space Surveillance Network (SSN)](https://en.wikipedia.org/wiki/United_States_Space_Surveillance_Network). The necessary steps are described by the code described in [The current LEO population](<./../utilities/leo_population.ipynb>)\n",
    "\n",
    "The file needed is:\n",
    "* **leo_population.pk** - created by [The current LEO population](<./../utilities/leo_population.ipynb>) notebook."
   ]
  },
  {
   "cell_type": "code",
   "execution_count": 2,
   "id": "76079dd5",
   "metadata": {},
   "outputs": [],
   "source": [
    "# r is in km and v in km/s\n",
    "with open(\"data/leo_population.pk\", \"rb\") as file:\n",
    "    r_ic,v_ic,to_satcat_index,satcat = pkl.load(file)"
   ]
  },
  {
   "attachments": {},
   "cell_type": "markdown",
   "id": "1ff31aa1",
   "metadata": {},
   "source": [
    "* **r**: contains the initial position of all satellites to be simulated (SI units)\n",
    "* **v**: contains the initial velocity of all satellites to be simulated (SI units)\n",
    "* **radius**: contains all the estimated radii for the various objects (in meters)\n",
    "* **to_satcat_index**: contains the indexes in the satcat of the corresponding r,v,radius entry\n",
    "* **satcat**: the database created of all tracked objects\n",
    "\n",
    "The object described by the entry ```satcat[to_satcat_index[j]]``` has initial position ```r[j]``` and initial velocity ```v[j]```. Let us inspect one entry"
   ]
  },
  {
   "cell_type": "code",
   "execution_count": 3,
   "id": "ca5e8dd7",
   "metadata": {},
   "outputs": [
    {
     "name": "stdout",
     "output_type": "stream",
     "text": [
      "Dictionary entry:  {'CCSDS_OMM_VERS': '2.0', 'COMMENT': 'GENERATED VIA SPACE-TRACK.ORG API', 'CREATION_DATE': '2022-02-03T04:23:25', 'ORIGINATOR': '18 SPCS', 'OBJECT_NAME': 'SL-14 DEB', 'OBJECT_ID': '1978-100F', 'CENTER_NAME': 'EARTH', 'REF_FRAME': 'TEME', 'TIME_SYSTEM': 'UTC', 'MEAN_ELEMENT_THEORY': 'SGP4', 'EPOCH': '2022-02-02T22:42:05.237280', 'MEAN_MOTION': '12.56769207', 'ECCENTRICITY': '0.00286110', 'INCLINATION': '82.3526', 'RA_OF_ASC_NODE': '268.9057', 'ARG_OF_PERICENTER': '297.9015', 'MEAN_ANOMALY': '75.7071', 'EPHEMERIS_TYPE': '0', 'CLASSIFICATION_TYPE': 'U', 'NORAD_CAT_ID': '19133', 'ELEMENT_SET_NO': '999', 'REV_AT_EPOCH': '93528', 'BSTAR': '0.02113600000000', 'MEAN_MOTION_DOT': '0.00003527', 'MEAN_MOTION_DDOT': '0.0000000000000', 'SEMIMAJOR_AXIS': '7814.445', 'PERIOD': '114.580', 'APOAPSIS': '1458.668', 'PERIAPSIS': '1413.952', 'OBJECT_TYPE': 'DEBRIS', 'RCS_SIZE': 'MEDIUM', 'COUNTRY_CODE': 'CIS', 'LAUNCH_DATE': '1978-10-26', 'SITE': 'PKMTR', 'DECAY_DATE': None, 'FILE': '3290513', 'GP_ID': '195174860', 'TLE_LINE0': '0 SL-14 DEB', 'TLE_LINE1': '1 19133U 78100F   22033.94589395  .00003527  00000-0  21136-1 0  9996', 'TLE_LINE2': '2 19133  82.3526 268.9057 0028611 297.9015  75.7071 12.56769207935282', 'RADIUS': 0.2631205051777122}\n",
      "Position (km):  [2129.88342848 3695.71335128 6552.37467945]\n",
      "Velocity (km/s):  [ 1.38399824  5.88779107 -3.78530589]\n"
     ]
    }
   ],
   "source": [
    "print(\"Dictionary entry: \", satcat[to_satcat_index[3685]])\n",
    "print(\"Position (km): \", r_ic[3685])\n",
    "print(\"Velocity (km/s): \", v_ic[3685])"
   ]
  },
  {
   "attachments": {},
   "cell_type": "markdown",
   "id": "2f2749ae",
   "metadata": {},
   "source": [
    "on top of all the info distributed from the [US Space Surveillance Network (SSN)](https://en.wikipedia.org/wiki/United_States_Space_Surveillance_Network) we have added to the satcat (see [The current LEO population](<./../utilities/leo_population.ipynb>) notebook)an estimate of the object radius which we will need to define the various collisional radii. As we will be using a dynamics that also models the atmospheric drag via the BSTAR coefficient, we create the array to be used as parameter when instantiating a :class:`~cascade.sim`."
   ]
  },
  {
   "cell_type": "code",
   "execution_count": 4,
   "id": "d564e8f6",
   "metadata": {},
   "outputs": [],
   "source": [
    "# Array containing the BSTAR coefficient in the SI units used\n",
    "BSTARS = []\n",
    "RADIUS = []\n",
    "for idx in to_satcat_index:\n",
    "    BSTARS.append(float(satcat[idx][\"BSTAR\"]))\n",
    "    RADIUS.append(float(satcat[idx][\"RADIUS\"]))\n",
    "# We transform the BSTAR in SI units\n",
    "BSTARS = np.array(BSTARS) / pk.EARTH_RADIUS\n",
    "RADIUS = np.array(RADIUS)\n",
    "# .. and remove negative BSTARS (this can happen for objects that where performing orbital manouvres during the tle definition) setting the value to zero in those occasions.\n",
    "BSTARS[BSTARS<0] = 0.\n",
    "# We also transform r_ic and v_ic in SI\n",
    "r_ic = r_ic*1000\n",
    "v_ic = v_ic*1000"
   ]
  },
  {
   "attachments": {},
   "cell_type": "markdown",
   "id": "682994db",
   "metadata": {},
   "source": [
    "# Building the dynamical system to integrate\n",
    "The dynamics in the LEO environment is dominated by drag and gravitational effects. The effect of the Moon gravity, Sun gravity and solar radiation pressure are not considered, even if they would not add much complexity in this simulation. We make use of :class:`~cascade.dynamics.simple_earth` defining the analytical expressions for such a dynamics."
   ]
  },
  {
   "cell_type": "code",
   "execution_count": 5,
   "id": "dfe35865",
   "metadata": {},
   "outputs": [],
   "source": [
    "dyn =  csc.dynamics.simple_earth(J2=True, C22S22=True,sun=False,moon=False,SRP=False,drag=True)\n"
   ]
  },
  {
   "attachments": {},
   "cell_type": "markdown",
   "id": "47b72ace",
   "metadata": {},
   "source": [
    "and we inspect it visually to check that all is defined as expected (the analytical expression are long and complex, but this will not be an issue for heyoka)."
   ]
  },
  {
   "cell_type": "code",
   "execution_count": 6,
   "id": "90402536",
   "metadata": {},
   "outputs": [
    {
     "data": {
      "text/plain": [
       "[(x, vx),\n",
       " (y, vy),\n",
       " (z, vz),\n",
       " (vx,\n",
       "  ((((((-398600440779972.44 * x) * pow((x**2 + y**2 + z**2), -1.5000000000000000)) + (((-1.7555131752869966e+19 / (2.0000000000000000 * sqrt((x**2 + y**2 + z**2)))) * x) * ((3.0000000000000000 / (x**2 + y**2 + z**2)**2) - ((15.000000000000000 * z**2) / ((x**2 + y**2 + z**2)**2 * (x**2 + y**2 + z**2)))))) + ((((((7.6591108648176013e+17 / (2.0000000000000000 * pow((x**2 + y**2 + z**2), 3.5000000000000000))) * ((x * cos((4.8949608921188084 + (7.2921158548340406e-05 * t)))) + (y * sin((4.8949608921188084 + (7.2921158548340406e-05 * t)))))) * (((-x * sin((4.8949608921188084 + (7.2921158548340406e-05 * t)))) + (y * cos((4.8949608921188084 + (7.2921158548340406e-05 * t)))))**2 - ((x * cos((4.8949608921188084 + (7.2921158548340406e-05 * t)))) + (y * sin((4.8949608921188084 + (7.2921158548340406e-05 * t)))))**2)) + ((1.5318221729635203e+17 / pow((x**2 + y**2 + z**2), 2.5000000000000000)) * ((x * cos((4.8949608921188084 + (7.2921158548340406e-05 * t)))) + (y * sin((4.8949608921188084 + (7.2921158548340406e-05 * t))))))) * cos((4.8949608921188084 + (7.2921158548340406e-05 * t)))) - (((((7.6591108648176013e+17 / (2.0000000000000000 * pow((x**2 + y**2 + z**2), 3.5000000000000000))) * ((-x * sin((4.8949608921188084 + (7.2921158548340406e-05 * t)))) + (y * cos((4.8949608921188084 + (7.2921158548340406e-05 * t)))))) * (((-x * sin((4.8949608921188084 + (7.2921158548340406e-05 * t)))) + (y * cos((4.8949608921188084 + (7.2921158548340406e-05 * t)))))**2 - ((x * cos((4.8949608921188084 + (7.2921158548340406e-05 * t)))) + (y * sin((4.8949608921188084 + (7.2921158548340406e-05 * t)))))**2)) - ((1.5318221729635203e+17 / pow((x**2 + y**2 + z**2), 2.5000000000000000)) * ((-x * sin((4.8949608921188084 + (7.2921158548340406e-05 * t)))) + (y * cos((4.8949608921188084 + (7.2921158548340406e-05 * t))))))) * sin((4.8949608921188084 + (7.2921158548340406e-05 * t)))))) + (((((-(-4.3966387893411789e+17 / pow((x**2 + y**2 + z**2), 3.5000000000000000)) * ((x * cos((4.8949608921188084 + (7.2921158548340406e-05 * t)))) + (y * sin((4.8949608921188084 + (7.2921158548340406e-05 * t)))))**2) * ((-x * sin((4.8949608921188084 + (7.2921158548340406e-05 * t)))) + (y * cos((4.8949608921188084 + (7.2921158548340406e-05 * t)))))) + ((-87932775786823584. / pow((x**2 + y**2 + z**2), 2.5000000000000000)) * ((-x * sin((4.8949608921188084 + (7.2921158548340406e-05 * t)))) + (y * cos((4.8949608921188084 + (7.2921158548340406e-05 * t))))))) * cos((4.8949608921188084 + (7.2921158548340406e-05 * t)))) - ((((-(-4.3966387893411789e+17 / pow((x**2 + y**2 + z**2), 3.5000000000000000)) * ((x * cos((4.8949608921188084 + (7.2921158548340406e-05 * t)))) + (y * sin((4.8949608921188084 + (7.2921158548340406e-05 * t)))))) * ((-x * sin((4.8949608921188084 + (7.2921158548340406e-05 * t)))) + (y * cos((4.8949608921188084 + (7.2921158548340406e-05 * t)))))**2) + ((-87932775786823584. / pow((x**2 + y**2 + z**2), 2.5000000000000000)) * ((x * cos((4.8949608921188084 + (7.2921158548340406e-05 * t)))) + (y * sin((4.8949608921188084 + (7.2921158548340406e-05 * t))))))) * sin((4.8949608921188084 + (7.2921158548340406e-05 * t)))))) + (-(((((((1.0170993499999999e-06 * exp((-4.6382291000000000e-05 * (-6383152.2451599995 + sqrt((x**2 + y**2 + z**2)))))) + (0.78644337499999994 * exp((-0.00018608004800000001 * (-6400979.2808999997 + sqrt((x**2 + y**2 + z**2))))))) + (7.5034188300000001e-09 * exp((-2.4866717600000000e-05 * (-6382415.8782899994 + sqrt((x**2 + y**2 + z**2))))))) + (8.6393425200000000e-14 * exp((-4.8108085200000002e-06 * (-6378292.5916729998 + sqrt((x**2 + y**2 + z**2))))))) / 2.4615341004863758e-08) * p0) * sqrt((vx**2 + vy**2 + vz**2))) * vx))),\n",
       " (vy,\n",
       "  ((((((-398600440779972.44 * y) * pow((x**2 + y**2 + z**2), -1.5000000000000000)) + (((-1.7555131752869966e+19 / (2.0000000000000000 * sqrt((x**2 + y**2 + z**2)))) * y) * ((3.0000000000000000 / (x**2 + y**2 + z**2)**2) - ((15.000000000000000 * z**2) / ((x**2 + y**2 + z**2)**2 * (x**2 + y**2 + z**2)))))) + ((((((7.6591108648176013e+17 / (2.0000000000000000 * pow((x**2 + y**2 + z**2), 3.5000000000000000))) * ((x * cos((4.8949608921188084 + (7.2921158548340406e-05 * t)))) + (y * sin((4.8949608921188084 + (7.2921158548340406e-05 * t)))))) * (((-x * sin((4.8949608921188084 + (7.2921158548340406e-05 * t)))) + (y * cos((4.8949608921188084 + (7.2921158548340406e-05 * t)))))**2 - ((x * cos((4.8949608921188084 + (7.2921158548340406e-05 * t)))) + (y * sin((4.8949608921188084 + (7.2921158548340406e-05 * t)))))**2)) + ((1.5318221729635203e+17 / pow((x**2 + y**2 + z**2), 2.5000000000000000)) * ((x * cos((4.8949608921188084 + (7.2921158548340406e-05 * t)))) + (y * sin((4.8949608921188084 + (7.2921158548340406e-05 * t))))))) * sin((4.8949608921188084 + (7.2921158548340406e-05 * t)))) + (((((7.6591108648176013e+17 / (2.0000000000000000 * pow((x**2 + y**2 + z**2), 3.5000000000000000))) * ((-x * sin((4.8949608921188084 + (7.2921158548340406e-05 * t)))) + (y * cos((4.8949608921188084 + (7.2921158548340406e-05 * t)))))) * (((-x * sin((4.8949608921188084 + (7.2921158548340406e-05 * t)))) + (y * cos((4.8949608921188084 + (7.2921158548340406e-05 * t)))))**2 - ((x * cos((4.8949608921188084 + (7.2921158548340406e-05 * t)))) + (y * sin((4.8949608921188084 + (7.2921158548340406e-05 * t)))))**2)) - ((1.5318221729635203e+17 / pow((x**2 + y**2 + z**2), 2.5000000000000000)) * ((-x * sin((4.8949608921188084 + (7.2921158548340406e-05 * t)))) + (y * cos((4.8949608921188084 + (7.2921158548340406e-05 * t))))))) * cos((4.8949608921188084 + (7.2921158548340406e-05 * t)))))) + (((((-(-4.3966387893411789e+17 / pow((x**2 + y**2 + z**2), 3.5000000000000000)) * ((x * cos((4.8949608921188084 + (7.2921158548340406e-05 * t)))) + (y * sin((4.8949608921188084 + (7.2921158548340406e-05 * t)))))**2) * ((-x * sin((4.8949608921188084 + (7.2921158548340406e-05 * t)))) + (y * cos((4.8949608921188084 + (7.2921158548340406e-05 * t)))))) + ((-87932775786823584. / pow((x**2 + y**2 + z**2), 2.5000000000000000)) * ((-x * sin((4.8949608921188084 + (7.2921158548340406e-05 * t)))) + (y * cos((4.8949608921188084 + (7.2921158548340406e-05 * t))))))) * sin((4.8949608921188084 + (7.2921158548340406e-05 * t)))) + ((((-(-4.3966387893411789e+17 / pow((x**2 + y**2 + z**2), 3.5000000000000000)) * ((x * cos((4.8949608921188084 + (7.2921158548340406e-05 * t)))) + (y * sin((4.8949608921188084 + (7.2921158548340406e-05 * t)))))) * ((-x * sin((4.8949608921188084 + (7.2921158548340406e-05 * t)))) + (y * cos((4.8949608921188084 + (7.2921158548340406e-05 * t)))))**2) + ((-87932775786823584. / pow((x**2 + y**2 + z**2), 2.5000000000000000)) * ((x * cos((4.8949608921188084 + (7.2921158548340406e-05 * t)))) + (y * sin((4.8949608921188084 + (7.2921158548340406e-05 * t))))))) * cos((4.8949608921188084 + (7.2921158548340406e-05 * t)))))) + (-(((((((1.0170993499999999e-06 * exp((-4.6382291000000000e-05 * (-6383152.2451599995 + sqrt((x**2 + y**2 + z**2)))))) + (0.78644337499999994 * exp((-0.00018608004800000001 * (-6400979.2808999997 + sqrt((x**2 + y**2 + z**2))))))) + (7.5034188300000001e-09 * exp((-2.4866717600000000e-05 * (-6382415.8782899994 + sqrt((x**2 + y**2 + z**2))))))) + (8.6393425200000000e-14 * exp((-4.8108085200000002e-06 * (-6378292.5916729998 + sqrt((x**2 + y**2 + z**2))))))) / 2.4615341004863758e-08) * p0) * sqrt((vx**2 + vy**2 + vz**2))) * vy))),\n",
       " (vz,\n",
       "  ((((((-398600440779972.44 * z) * pow((x**2 + y**2 + z**2), -1.5000000000000000)) + (((-1.7555131752869966e+19 / (2.0000000000000000 * sqrt((x**2 + y**2 + z**2)))) * z) * ((3.0000000000000000 * (3.0000000000000000 / (x**2 + y**2 + z**2)**2)) - ((15.000000000000000 * z**2) / ((x**2 + y**2 + z**2)**2 * (x**2 + y**2 + z**2)))))) + (((7.6591108648176013e+17 / (2.0000000000000000 * pow((x**2 + y**2 + z**2), 3.5000000000000000))) * z) * (((-x * sin((4.8949608921188084 + (7.2921158548340406e-05 * t)))) + (y * cos((4.8949608921188084 + (7.2921158548340406e-05 * t)))))**2 - ((x * cos((4.8949608921188084 + (7.2921158548340406e-05 * t)))) + (y * sin((4.8949608921188084 + (7.2921158548340406e-05 * t)))))**2))) + (((-(-4.3966387893411789e+17 / pow((x**2 + y**2 + z**2), 3.5000000000000000)) * ((x * cos((4.8949608921188084 + (7.2921158548340406e-05 * t)))) + (y * sin((4.8949608921188084 + (7.2921158548340406e-05 * t)))))) * ((-x * sin((4.8949608921188084 + (7.2921158548340406e-05 * t)))) + (y * cos((4.8949608921188084 + (7.2921158548340406e-05 * t)))))) * z)) + (-(((((((1.0170993499999999e-06 * exp((-4.6382291000000000e-05 * (-6383152.2451599995 + sqrt((x**2 + y**2 + z**2)))))) + (0.78644337499999994 * exp((-0.00018608004800000001 * (-6400979.2808999997 + sqrt((x**2 + y**2 + z**2))))))) + (7.5034188300000001e-09 * exp((-2.4866717600000000e-05 * (-6382415.8782899994 + sqrt((x**2 + y**2 + z**2))))))) + (8.6393425200000000e-14 * exp((-4.8108085200000002e-06 * (-6378292.5916729998 + sqrt((x**2 + y**2 + z**2))))))) / 2.4615341004863758e-08) * p0) * sqrt((vx**2 + vy**2 + vz**2))) * vz)))]"
      ]
     },
     "execution_count": 6,
     "metadata": {},
     "output_type": "execute_result"
    }
   ],
   "source": [
    "dyn"
   ]
  },
  {
   "cell_type": "markdown",
   "id": "b90bebf2",
   "metadata": {},
   "source": [
    "# We setup the simulation"
   ]
  },
  {
   "attachments": {},
   "cell_type": "markdown",
   "id": "da870e70",
   "metadata": {},
   "source": [
    "the global cascade logger is here informed of the level of information we want to be reported to screen during the simulation."
   ]
  },
  {
   "cell_type": "code",
   "execution_count": 7,
   "id": "dbd1796c",
   "metadata": {},
   "outputs": [],
   "source": [
    "csc.set_logger_level_trace()"
   ]
  },
  {
   "attachments": {},
   "cell_type": "markdown",
   "id": "435a5082",
   "metadata": {},
   "source": [
    "We now define the radius that will be used to check for decayed objects. We will assume that once the position of some object is below 150km altitude, the object can be considered as decayed."
   ]
  },
  {
   "cell_type": "code",
   "execution_count": 8,
   "id": "c6d42c30",
   "metadata": {},
   "outputs": [],
   "source": [
    "decay_radius = pk.EARTH_RADIUS+150000."
   ]
  },
  {
   "cell_type": "code",
   "execution_count": 9,
   "id": "75cdf6e5",
   "metadata": {},
   "outputs": [
    {
     "name": "stdout",
     "output_type": "stream",
     "text": [
      "Removing  22  orbiting objects:\n",
      "LEMUR 2 ROCKETJONAH - 2017-071E\n",
      "ISARA - 2017-071P\n",
      "FREGAT DEB - 2011-037EM\n",
      "STARLINK-1684 - 2020-070H\n",
      "COSMOS 1408 DEB - 1982-092Z\n",
      "COSMOS 1408 DEB - 1982-092AK\n",
      "COSMOS 1408 DEB - 1982-092ES\n",
      "COSMOS 1408 DEB - 1982-092FK\n",
      "COSMOS 1408 DEB - 1982-092FY\n",
      "COSMOS 1408 DEB - 1982-092GU\n",
      "COSMOS 1408 DEB - 1982-092NA\n",
      "COSMOS 1408 DEB - 1982-092PV\n",
      "COSMOS 1408 DEB - 1982-092PW\n",
      "COSMOS 1408 DEB - 1982-092RM\n",
      "COSMOS 1408 DEB - 1982-092ACG\n",
      "COSMOS 1408 DEB - 1982-092AQC\n",
      "COSMOS 1408 DEB - 1982-092ARK\n",
      "COSMOS 1408 DEB - 1982-092AXA\n",
      "COSMOS 1408 DEB - 1982-092AXD\n",
      "COSMOS 1408 DEB - 1982-092BDB\n",
      "COSMOS 1408 DEB - 1982-092BFU\n",
      "COSMOS 1408 DEB - 1982-092BKD\n"
     ]
    }
   ],
   "source": [
    "def remove_particle(idx, r_ic, v_ic, BSTARS,to_satcat, RADIUS):\n",
    "    r_ic = np.delete(r_ic, idx, axis=0)\n",
    "    BSTARS = np.delete(BSTARS, idx, axis=0)\n",
    "    v_ic = np.delete(v_ic, idx, axis=0)\n",
    "    to_satcat = np.delete(to_satcat, idx, axis=0)\n",
    "    RADIUS = np.delete(RADIUS, idx, axis=0)\n",
    "    return r_ic, v_ic, BSTARS, to_satcat, RADIUS\n",
    "\n",
    "inside_the_radius = np.where(np.linalg.norm(r_ic,axis=1) < decay_radius)[0]\n",
    "print(\"Removing \", len(inside_the_radius), \" orbiting objects:\")\n",
    "for idx in inside_the_radius:\n",
    "    print(satcat[to_satcat_index[idx]][\"OBJECT_NAME\"], \"-\", satcat[to_satcat_index[idx]][\"OBJECT_ID\"])\n",
    "r_ic, v_ic, BSTARS,to_satcat, RADIUS = remove_particle(inside_the_radius, r_ic, v_ic, BSTARS,to_satcat_index, RADIUS)"
   ]
  },
  {
   "attachments": {},
   "cell_type": "markdown",
   "id": "b4ace1cf",
   "metadata": {},
   "source": [
    "We can now instantiate the cascade simulation. This will trigger the JIT compilation of the numerical integrators with the selected dynamics with event detection and thus take a few seconds. Note that this is to be paid only once and as far as the dynamics is kept the same simulations can be made reusing the same simulation object."
   ]
  },
  {
   "cell_type": "code",
   "execution_count": 10,
   "id": "833ac987-eff7-4843-876a-2bfda8033245",
   "metadata": {},
   "outputs": [
    {
     "name": "stdout",
     "output_type": "stream",
     "text": [
      "[2023-01-31 14:30:10.103] [cascade] [trace] Integrators setup time: 11.150963585s\n",
      "[2023-01-31 14:30:10.319] [cascade] [trace] JIT functions setup time: 0.215017517s\n"
     ]
    }
   ],
   "source": [
    "# Prepare the data in the shape expected by the simulation object.\n",
    "ic_state = np.hstack([r_ic, v_ic, RADIUS.reshape((r_ic.shape[0], 1))])\n",
    "BSTARS = BSTARS.reshape((r_ic.shape[0], 1))\n",
    "sim = csc.sim(ic_state, 0.23, dyn=dyn, pars=BSTARS, c_radius=decay_radius)"
   ]
  },
  {
   "cell_type": "markdown",
   "id": "ac13212b",
   "metadata": {},
   "source": [
    "# We run the simulation"
   ]
  },
  {
   "cell_type": "code",
   "execution_count": 16,
   "id": "1fd7ddbf",
   "metadata": {},
   "outputs": [],
   "source": [
    "# new_state  =deepcopy(ic_state)\n",
    "# new_pars  =deepcopy(pars)\n",
    "# new_to_satcat  =deepcopy(to_satcat)\n",
    "\n",
    "rng = np.random\n"
   ]
  },
  {
   "cell_type": "code",
   "execution_count": 16,
   "id": "345f1edd-5341-4b85-b460-21ca7938563b",
   "metadata": {},
   "outputs": [
    {
     "data": {
      "application/vnd.jupyter.widget-view+json": {
       "model_id": "8ca0e4240924447e947e93c75afc4dfb",
       "version_major": 2,
       "version_minor": 0
      },
      "text/plain": [
       "  0%|          | 0/31557600.0 [00:00<?, ?it/s]"
      ]
     },
     "metadata": {},
     "output_type": "display_data"
    },
    {
     "name": "stdout",
     "output_type": "stream",
     "text": [
      "COSMOS 1408 DEB, 1982-092FH,  0.0011018046992662697 REMOVED\n",
      "COSMOS 1408 DEB, 1982-092GL,  0.0041028438559408695 REMOVED\n",
      "SL-4 R/B, 2006-061B,  0.005706346736241129 REMOVED\n",
      "FREGAT DEB, 2011-037EQ,  0.007267201427187295 REMOVED\n",
      "STARLINK-2025, 2021-009BM,  0.01815315899057631 REMOVED\n",
      "COSMOS 1408 DEB, 1982-092ADW,  0.02952830918037765 REMOVED\n",
      "COSMOS 2241, 1993-022A,  0.04331453508044084 REMOVED\n",
      "OBJECT K, 2021-002K,  0.060801872464038606 REMOVED\n",
      "RESURS O1 DEB, 1994-074BA,  0.07344824298679883 REMOVED\n",
      "COSMOS 1408 DEB, 1982-092TY,  0.07895270149013031 REMOVED\n",
      "FREGAT DEB, 2011-037NN,  0.07895517418611112 REMOVED\n",
      "COSMOS 1408 DEB, 1982-092AHA,  0.11577314956600732 REMOVED\n",
      "STARLINK-1906, 2020-074AC,  0.1579487707670265 REMOVED\n",
      "OBJECT B, 2021-117B,  0.5273644864028021 REMOVED\n",
      "COSMOS 2251 DEB, 1993-036AEX,  0.6732504658829894 REMOVED\n",
      "COSMOS 1408 DEB, 1982-092FX,  1.1283422206984879 REMOVED\n",
      "FALCON 9 DEB, 2020-055BM,  1.187062847177365 REMOVED\n",
      "COSMOS 1408 DEB, 1982-092RY,  1.3262911429437225 REMOVED\n",
      "COSMOS 1408 DEB, 1982-092AMJ,  1.4108279114176998 REMOVED\n",
      "COSMOS 1408 DEB, 1982-092SZ,  1.5255103227907902 REMOVED\n",
      "COSMOS 1408 DEB, 1982-092ANG,  1.5778941750178277 REMOVED\n",
      "COSMOS 1408 DEB, 1982-092APN,  1.979514489082848 REMOVED\n",
      "LKW-1, 2017-077A,  2.8593261277520106 REMOVED\n",
      "COSMOS 2251 DEB, 1993-036BGB,  3.1379328713666923 REMOVED\n",
      "COSMOS 1408 DEB, 1982-092BAN,  3.1483295345088953 REMOVED\n",
      "COSMOS 1408 DEB, 1982-092ABD,  3.1694438304097328 REMOVED\n",
      "COSMOS 1408 DEB, 1982-092BBQ,  3.2659780995573975 REMOVED\n",
      "STARLINK-1059, 2019-074BD,  3.4025553045137786 REMOVED\n",
      "STARLINK-3198, 2021-115AR,  4.214177175769354 REMOVED\n",
      "COSMOS 1408 DEB, 1982-092AVH,  5.088499902890531 REMOVED\n",
      "COSMOS 2499 DEB, 2014-028AA,  5.156756100458748 REMOVED\n",
      "FREGAT DEB, 2011-037AV,  5.867924856320788 REMOVED\n",
      "IXPE, 2021-121A,  6.129937354878807 REMOVED\n",
      "FENGYUN 1C DEB, 1999-025CVW,  6.773809948465951 REMOVED\n",
      "COSMOS 1408 DEB, 1982-092BFT,  7.775717416179499 REMOVED\n",
      "OBJECT C, 2021-117C,  8.09039482832375 REMOVED\n",
      "COSMOS 1408 DEB, 1982-092NB,  8.479961801762135 REMOVED\n",
      "COSMOS 1408 DEB, 1982-092LF,  9.660074509557596 REMOVED\n",
      "COSMOS 1408 DEB, 1982-092RQ,  10.156542401578813 REMOVED\n",
      "COSMOS 1408 DEB, 1982-092AVJ,  10.253286794230844 REMOVED\n",
      "COSMOS 1408 DEB, 1982-092AUU,  11.01092852949636 REMOVED\n",
      "XINGYUN-2 02, 2020-028B,  11.016197023856858 REMOVED\n",
      "STARLINK-3398, 2022-005S,  11.212582084702202 REMOVED\n",
      "COSMOS 1408 DEB, 1982-092JD,  11.874114854554911 REMOVED\n",
      "STARLINK-1343, 2020-025BF,  12.383354321259318 REMOVED\n",
      "COSMOS 1408 DEB, 1982-092LS,  13.650147645094682 REMOVED\n",
      "COSMOS 1408 DEB, 1982-092AAP,  13.928118148587117 REMOVED\n",
      "COSMOS 1408 DEB, 1982-092AGS,  14.78462618723686 REMOVED\n",
      "STARLINK-1837, 2020-088G,  15.193206469790965 REMOVED\n",
      "IRIDIUM 33 DEB, 1997-051CX,  15.41744099857306 REMOVED\n",
      "COSMOS 1408 DEB, 1982-092XC,  16.39633108960807 REMOVED\n",
      "SMOG-1, 2021-022AJ,  16.783334465951576 REMOVED\n",
      "COSMOS 1408 DEB, 1982-092AHT,  17.583132036913387 REMOVED\n",
      "STARLINK-3387, 2022-005X,  17.704082519092136 REMOVED\n",
      "COSMOS 1408 DEB, 1982-092AKK,  18.16020563951013 REMOVED\n",
      "COSMOS 1408 DEB, 1982-092L,  18.94150648681864 REMOVED\n",
      "COSMOS 1408 DEB, 1982-092BCR,  20.067830640467594 REMOVED\n",
      "COSMOS 1408 DEB, 1982-092AQL,  20.352129376432824 REMOVED\n",
      "COSMOS 1408 DEB, 1982-092AQK,  23.585545663247228 REMOVED\n",
      "LEMUR 2 CHANTAL, 2021-006DV,  23.92977878826798 REMOVED\n",
      "STARLINK-3184, 2022-005AR,  24.80381684714009 REMOVED\n",
      "COSMOS 1408 DEB, 1982-092AYZ,  25.057895692104147 REMOVED\n",
      "COSMOS 1408 DEB, 1982-092ACQ,  26.564209749018104 REMOVED\n",
      "COSMOS 1408 DEB, 1982-092BKK,  29.407546607684594 REMOVED\n",
      "COSMOS 1408 DEB, 1982-092LA,  29.605262528007493 REMOVED\n",
      "COSMOS 1408 DEB, 1982-092AHX,  30.969838215308037 REMOVED\n",
      "RESURS O1 DEB, 1994-074BA,  31.132020944667094 REMOVED\n",
      "ONEWEB-0398, 2021-132K,  31.767804536385178 REMOVED\n",
      "AEROCUBE 7B, 2017-071F,  32.45062720793777 REMOVED\n",
      "COSMOS 1408 DEB, 1982-092BCS,  32.79255727404964 REMOVED\n",
      "FLOCK 2K 20, 2017-042BN,  34.98080721729199 REMOVED\n",
      "COSMOS 1408 DEB, 1982-092BFM,  35.428049228115874 REMOVED\n",
      "COSMOS 1408 DEB, 1982-092UT,  36.66583045400397 REMOVED\n",
      "SHIYAN 13 (SY-13), 2022-004A,  37.420324400917536 REMOVED\n",
      "COSMOS 1408 DEB, 1982-092BDW,  37.56923251194354 REMOVED\n",
      "COSMOS 1408 DEB, 1982-092AGM,  41.63217105694051 REMOVED\n",
      "SZ-12 MODULE, 2021-053C,  43.317062694141356 REMOVED\n",
      "COSMOS 1408 DEB, 1982-092KL,  44.72186677842076 REMOVED\n",
      "COSMOS 1408 DEB, 1982-092NW,  46.203320525298636 REMOVED\n",
      "ONEWEB-0440, 2021-132AL,  46.5551842672696 REMOVED\n",
      "OUFTI-1, 2016-025C,  47.338400130042054 REMOVED\n",
      "COSMOS 1408 DEB, 1982-092ACQ,  48.00322018841836 REMOVED\n",
      "COSMOS 1408 DEB, 1982-092AMN,  48.97096724825664 REMOVED\n",
      "COSMOS 1408 DEB, 1982-092BA,  49.69868259181099 REMOVED\n",
      "COSMOS 2524, 2017-076A,  49.77653491461688 REMOVED\n",
      "COSMOS 1408 DEB, 1982-092ABK,  51.59039283050822 REMOVED\n",
      "COSMOS 1408 DEB, 1982-092BR,  52.53582324237125 REMOVED\n",
      "COSMOS 1408 DEB, 1982-092BBU,  53.247298561276075 REMOVED\n",
      "COSMOS 1408 DEB, 1982-092ACW,  53.52403549374674 REMOVED\n",
      "COSMOS 1408 DEB, 1982-092ARN,  54.50119638453677 REMOVED\n",
      "COSMOS 1408 DEB, 1982-092BAF,  56.19735555519481 REMOVED\n",
      "STARLINK-3253, 2022-005AJ,  56.45063911650685 REMOVED\n",
      "COSMOS 1408 DEB, 1982-092SK,  57.45787089907131 REMOVED\n",
      "COSMOS 1408 DEB, 1982-092ADK,  58.78064512578339 REMOVED\n",
      "COSMOS 1408 DEB, 1982-092AJY,  60.16297297384535 REMOVED\n",
      "STARLINK-2144, 2021-017N,  60.26612410625629 REMOVED\n",
      "COSMOS 1408 DEB, 1982-092QZ,  61.439983281352106 REMOVED\n",
      "COSMOS 1408 DEB, 1982-092FM,  62.41589487158012 REMOVED\n",
      "FREGAT DEB, 2011-037K,  62.74250228700423 REMOVED\n",
      "FENGYUN 1C DEB, 1999-025AXD,  63.39329371255523 REMOVED\n",
      "COSMOS 1408 DEB, 1982-092ACK,  64.55973913856211 REMOVED\n",
      "COSMOS 1408 DEB, 1982-092FR,  65.82576623348241 REMOVED\n",
      "COSMOS 1818 COOLANT, 1987-011AX,  65.88956127237381 REMOVED\n",
      "COSMOS 1408 DEB, 1982-092ALK,  68.84326845939204 REMOVED\n",
      "COSMOS 1818 COOLANT, 1987-011BA,  70.96759758236416 REMOVED\n",
      "SL-3 R/B, 1985-090B,  73.22254331583676 REMOVED\n",
      "SL-16 DEB, 1995-058M,  76.10353500855081 REMOVED\n",
      "FALCON 1 R/B, 2009-037B,  77.58207273079482 REMOVED\n",
      "CZ-2C R/B, 2017-075D,  80.87804086253827 REMOVED\n",
      "ONEWEB-0413, 2021-132X,  81.4616844293439 REMOVED\n",
      "COSMOS 1408 DEB, 1982-092AEV,  82.1899271618078 REMOVED\n",
      "COSMOS 1408 DEB, 1982-092RB,  85.97493928284419 REMOVED\n",
      "COSMOS 1408 DEB, 1982-092PJ,  87.64759328268549 REMOVED\n",
      "STARLINK-3175, 2022-005AN,  88.38475870140135 REMOVED\n",
      "STARLINK-3275, 2021-125AJ,  88.462000031614 REMOVED\n",
      "COSMOS 1408 DEB, 1982-092EA,  90.24704775347436 REMOVED\n",
      "STARLINK-3370, 2022-005Z,  93.59096376719351 REMOVED\n",
      "COSMOS 1408 DEB, 1982-092ZZ,  93.82979041407272 REMOVED\n",
      "COSMOS 2499 DEB, 2014-028AB,  94.65210799265668 REMOVED\n",
      "COSMOS 1408 DEB, 1982-092BDL,  100.13744967644145 REMOVED\n",
      "STARLINK-1479, 2020-038L,  101.74541311476625 REMOVED\n",
      "COSMOS 1408 DEB, 1982-092ZL,  102.20166116489041 REMOVED\n",
      "FREGAT DEB, 2011-037CH,  109.60381508434106 REMOVED\n",
      "STARLINK-1996, 2021-009AV,  109.6881125482119 REMOVED\n",
      "COSMOS 1408 DEB, 1982-092LC,  110.46860007071857 REMOVED\n",
      "ONEWEB-0391, 2021-132C,  112.42311020909813 REMOVED\n",
      "COSMOS 2499 DEB, 2014-028H,  116.67555545821762 REMOVED\n",
      "FLOCK 2K 39, 2017-042AT,  118.78508432454295 REMOVED\n",
      "COSMOS 2499 DEB, 2014-028H,  120.32496461317395 REMOVED\n",
      "COSMOS 1408 DEB, 1982-092AGN,  121.3433641565239 REMOVED\n",
      "COSMOS 1408 DEB, 1982-092ARV,  124.96040823519665 REMOVED\n",
      "ONEWEB-0430, 2021-132AJ,  125.24262992896823 REMOVED\n",
      "CZ-4B R/B, 2020-042C,  127.32701552143266 REMOVED\n",
      "OPS 4682 DEB, 1965-027FL,  131.375465113243 REMOVED\n",
      "LEMUR 2 PETERG, 2017-042S,  137.3672975383812 REMOVED\n",
      "STARLINK-3198, 2021-115AR,  138.42613596532846 REMOVED\n",
      "COSMOS 1408 DEB, 1982-092DJ,  139.09941822196066 REMOVED\n",
      "STARLINK-3161, 2021-104Q,  140.00085636030306 REMOVED\n",
      "FLOCK 2K 38, 2017-042AV,  140.37677550763502 REMOVED\n",
      "ONEWEB-0224, 2021-045AD,  141.99169072938963 REMOVED\n",
      "OBJECT AY, 2022-002AY,  142.69287016625725 REMOVED\n",
      "FENGYUN 1C DEB, 1999-025CKC,  143.9541482643746 REMOVED\n",
      "FLOCK 2P 4, 2016-040N,  145.41079636138844 REMOVED\n",
      "AO-91, 2017-073E,  145.9276119718131 REMOVED\n",
      "COSMOS 1408 DEB, 1982-092AHJ,  147.27814504396116 REMOVED\n",
      "STARLINK-3251, 2021-115F,  147.8827967165343 REMOVED\n",
      "COSMOS 1408 DEB, 1982-092MC,  148.96529064429183 REMOVED\n",
      "STARLINK-1548, 2020-055AD,  153.47625966416496 REMOVED\n",
      "OBJECT Z, 2017-042Z,  155.99324348600322 REMOVED\n",
      "COSMOS 1408 DEB, 1982-092AKX,  156.83002880766472 REMOVED\n",
      "COSMOS 1818 COOLANT, 1987-011AQ,  157.77763946950543 REMOVED\n",
      "COSMOS 1408 DEB, 1982-092UY,  161.6692346167104 REMOVED\n",
      "COSMOS 1408 DEB, 1982-092UT,  162.17339244431338 REMOVED\n",
      "STARLINK-3244, 2021-115T,  163.10022130542208 REMOVED\n",
      "COSMOS 1408 DEB, 1982-092QP,  166.7265325808668 REMOVED\n",
      "COSMOS 1408 DEB, 1982-092ARH,  167.44194638509225 REMOVED\n",
      "COSMOS 1818 COOLANT, 1987-011BG,  167.5134019106941 REMOVED\n",
      "COSMOS 1408 DEB, 1982-092WP,  170.4649495201233 REMOVED\n",
      "COSMOS 1408 DEB, 1982-092AKS,  173.76003679068404 REMOVED\n",
      "FLOCK 4X 31, 2022-002BK,  176.08593401133368 REMOVED\n",
      "TRANSIT 18 DEB, 1968-012F,  177.62616041837504 REMOVED\n",
      "LEMUR 2 DUNLOP, 2017-071S,  178.54799955418017 REMOVED\n",
      "COSMOS 1408 DEB, 1982-092AFG,  179.36108152970073 REMOVED\n",
      "ONEWEB-0394, 2021-132F,  180.86640008998953 REMOVED\n",
      "STARLINK-1738, 2020-062M,  187.04336439211454 REMOVED\n",
      "STARLINK-3293, 2021-125W,  188.20738764120497 REMOVED\n",
      "FALCON 9 DEB, 2019-029BQ,  193.42055411347908 REMOVED\n",
      "METEOR 3-1 DEB, 1985-100E,  195.28152869677632 REMOVED\n",
      "FLOCK 2K 31, 2017-042AW,  195.6738463405181 REMOVED\n",
      "STARLINK-3127, 2021-104AU,  200.4552852735156 REMOVED\n",
      "FLOCK 4X 24, 2022-002CA,  200.99961474095775 REMOVED\n",
      "NOAA 16 DEB, 2000-055LE,  202.47877400911042 REMOVED\n",
      "OBJECT B, 2021-117B,  204.80605485742683 REMOVED\n",
      "COSMOS 1408 DEB, 1982-092AFY,  212.78444579345006 REMOVED\n",
      "COSMOS 1408 DEB, 1982-092HS,  219.2867713449597 REMOVED\n",
      "STARLINK-3303, 2021-125G,  220.33851822868118 REMOVED\n",
      "LEMUR 2 PETERG, 2017-042S,  220.37593469989721 REMOVED\n",
      "COSMOS 1408 DEB, 1982-092D,  225.0448883636923 REMOVED\n",
      "COSMOS 1818 COOLANT, 1987-011BD,  227.8369117103197 REMOVED\n",
      "STARLINK-1582, 2020-055S,  229.6936733326929 REMOVED\n",
      "STARLINK-1582, 2020-055S,  231.26520057028603 REMOVED\n",
      "STARLINK-1717, 2020-073D,  232.5450281884541 REMOVED\n",
      "STARLINK-1581, 2020-055R,  236.72152395384742 REMOVED\n",
      "FENGYUN 1C DEB, 1999-025BSC,  237.53249626866062 REMOVED\n",
      "TBA - TO BE ASSIGNED, 1999-057,  238.39102062476422 REMOVED\n",
      "FLOCK 2K 21, 2017-042AM,  239.80218080203426 REMOVED\n",
      "OBJECT Z, 2017-042Z,  241.63599103079014 REMOVED\n",
      "FLOCK 4X 5, 2022-002W,  242.8673677011727 REMOVED\n",
      "ORBCOMM FM 5 DEB, 1997-084N,  243.5748905262828 REMOVED\n",
      "COSMOS 1408 DEB, 1982-092TR,  254.91059255522532 REMOVED\n",
      "STARLINK-3134, 2021-104AC,  255.40992958745724 REMOVED\n",
      "COSMOS 1408 DEB, 1982-092APN,  257.69635580281 REMOVED\n",
      "HIBER-3, 2021-022L,  258.9228515897869 REMOVED\n",
      "ONEWEB-0391, 2021-132C,  261.47261615384434 REMOVED\n",
      "COSMOS 1408 DEB, 1982-092KM,  262.4438095118302 REMOVED\n",
      "COSMOS 1818 COOLANT, 1987-011AW,  263.1298057204061 REMOVED\n",
      "COSMOS 1408 DEB, 1982-092AX,  263.1931364673792 REMOVED\n",
      "COSMOS 2499 DEB, 2014-028AA,  264.5115529075967 REMOVED\n",
      "COSMOS 1408 DEB, 1982-092UY,  265.5833407559574 REMOVED\n",
      "COSMOS 1408 DEB, 1982-092AZP,  266.82342100726294 REMOVED\n",
      "FOSSASAT2E5, 2022-002T,  269.30628294225835 REMOVED\n",
      "STARLINK-1460, 2020-035V,  270.1614012632725 REMOVED\n",
      "STARLINK-3237, 2021-115C,  272.8890974305074 REMOVED\n",
      "FENGYUN 1C DEB, 1999-025FBZ,  278.4460158032584 REMOVED\n",
      "COSMOS 1408 DEB, 1982-092TD,  280.0718419899442 REMOVED\n",
      "COSMOS 1408 DEB, 1982-092AGW,  283.65351130661435 REMOVED\n",
      "IRIDIUM 33 DEB, 1997-051KM,  286.1556607958687 REMOVED\n",
      "SJ 16-02 DEB, 2016-043C,  290.2235513768842 REMOVED\n",
      "CZ-2D DEB, 2005-024K,  290.8486051317002 REMOVED\n",
      "STARLINK-1869, 2020-088AK,  297.2976369948878 REMOVED\n",
      "YUNHAI 1-02 DEB, 2019-063AJ,  297.32577804018615 REMOVED\n",
      "COSMOS 1408 DEB, 1982-092ARY,  301.05267172411624 REMOVED\n",
      "ICEYE-X1, 2018-004D,  305.1529256043145 REMOVED\n",
      "ONEWEB-0412, 2021-132W,  305.54139654360057 REMOVED\n",
      "COSMOS 1408 DEB, 1982-092AHU,  311.4436481710753 REMOVED\n",
      "NOAA 17 DEB, 2002-032DL,  314.43345451773433 REMOVED\n",
      "ONEWEB-0420, 2021-132AC,  314.91351699776624 REMOVED\n",
      "COSMOS 1408 DEB, 1982-092UH,  324.3151206087462 REMOVED\n",
      "NANOSAT 1B, 2009-041E,  324.68882958243046 REMOVED\n",
      "OBJECT AG, 2022-002AG,  326.4940252579319 REMOVED\n",
      "COSMOS 1408 DEB, 1982-092ADT,  331.7652706335797 REMOVED\n",
      "LEMUR 2 ANDIS, 2017-042P,  331.91564939249304 REMOVED\n",
      "FLOCK 2K 45, 2017-042AH,  336.402347135189 REMOVED\n",
      "FLOCK 4EP 2, 2020-077H,  337.48520917376374 REMOVED\n",
      "FLOCK 2K 01, 2017-042AD,  339.58134994035544 REMOVED\n",
      "Collision detected, re-initing particles 14345 and 15497\n",
      "COSMOS 1408 DEB, 1982-092LD,  345.6403645259503 REMOVED\n",
      "WESTFORD NEEDLES, 1963-014FL,  346.3379246430828 REMOVED\n",
      "STARLINK-1416, 2020-035AM,  347.53177653771115 REMOVED\n",
      "TBA - TO BE ASSIGNED, ,  348.6950593111286 REMOVED\n",
      "COSMOS 1408 DEB, 1982-092MV,  348.7007132780785 REMOVED\n",
      "WNISAT 1R, 2017-042L,  358.16288433529934 REMOVED\n",
      "COSMOS 1408 DEB, 1982-092ABV,  358.35825090192674 REMOVED\n",
      "STARLINK-1286, 2020-019BK,  363.5721042731645 REMOVED\n",
      "COSMOS 1408 DEB, 1982-092ACT,  364.93331325604345 REMOVED\n"
     ]
    }
   ],
   "source": [
    "final_t = 365.25 * pk.DAY2SEC\n",
    "\n",
    "pbar = tqdm(total=final_t)\n",
    "\n",
    "while sim.time < final_t:\n",
    "    orig_time = sim.time\n",
    "    \n",
    "    oc = sim.step()\n",
    "    \n",
    "    pbar.update(sim.time - orig_time)\n",
    "   \n",
    "    if oc == csc.outcome.collision:\n",
    "        # TODO different code needed for crash\n",
    "        # on Earth here.\n",
    "        pi, pj = sim.interrupt_info\n",
    "        \n",
    "        print(\"Collision detected, re-initing particles {} and {}\".format(pi, pj))\n",
    "        \n",
    "        for idx in [pi, pj]:\n",
    "            a = rng.uniform(1.02*Re, 1.3*Re)\n",
    "            e = rng.uniform(0, 0.02)\n",
    "            inc = rng.uniform(0, 0.05)\n",
    "            om = rng.uniform(0, 2*np.pi)\n",
    "            Om = rng.uniform(0, 2*np.pi)\n",
    "            nu = rng.uniform(0, 2*np.pi)\n",
    "            size = rng.uniform(0.01, 0.1)\n",
    "\n",
    "            r, v = pk.par2ic([a, e, inc, om, Om, nu], pk.MU_EARTH)\n",
    "\n",
    "            sim.state[idx,0:3] = r\n",
    "            sim.state[idx,3:6] = v\n",
    "            sim.state[idx,6] = size\n",
    "    elif oc == csc.outcome.reentry:\n",
    "        pi = sim.interrupt_info\n",
    "        # We log on screen \n",
    "        print(satcat[to_satcat[pi]][\"OBJECT_NAME\"].strip() + \", \" + satcat[to_satcat[pi]][\"OBJECT_ID\"].strip() + \", \", sim.time*pk.SEC2DAY, \"REMOVED\")\n",
    "        # We remove the re-entered object and restart the simulation\n",
    "        new_state = np.delete(sim.state,pi,axis=0)\n",
    "        new_pars = np.delete(sim.pars,pi,axis=0)\n",
    "        \n",
    "        sim.set_new_state(new_state)\n",
    "        sim.pars[:] = new_pars\n",
    "        \n",
    "        # new_r_ic = np.vstack((sim.x,sim.y,sim.z)).transpose()\n",
    "        # new_v_ic = np.vstack((sim.vx,sim.vy,sim.vz)).transpose()\n",
    "        # new_r_ic, new_v_ic, new_BSTARS,new_to_satcat, new_c_radius = remove_particle(pi, new_r_ic, new_v_ic, new_BSTARS,new_to_satcat, new_c_radius)\n",
    "        # sim.set_new_state(new_r_ic[:,0],new_r_ic[:,1],new_r_ic[:,2],new_v_ic[:,0],new_v_ic[:,1],new_v_ic[:,2],new_c_radius, pars=[new_BSTARS])\n",
    "pbar.close()\n",
    "del pbar"
   ]
  },
  {
   "cell_type": "code",
   "execution_count": 17,
   "id": "7330747b-981b-43e4-a842-3975eb957dec",
   "metadata": {},
   "outputs": [
    {
     "data": {
      "application/vnd.jupyter.widget-view+json": {
       "model_id": "ba6f613ab47542b8b3f89492420d1238",
       "version_major": 2,
       "version_minor": 0
      },
      "text/plain": [
       "  0%|          | 0/31557600.0 [00:00<?, ?it/s]"
      ]
     },
     "metadata": {},
     "output_type": "display_data"
    },
    {
     "name": "stdout",
     "output_type": "stream",
     "text": [
      "COSMOS 1408 DEB, 1982-092FH,  0.001101804996265661 REMOVED\n",
      "COSMOS 1408 DEB, 1982-092GL,  0.004102843891965073 REMOVED\n",
      "SL-4 R/B, 2006-061B,  0.005706346736237456 REMOVED\n",
      "FREGAT DEB, 2011-037EQ,  0.007267201428668006 REMOVED\n",
      "STARLINK-2025, 2021-009BM,  0.018153158990584835 REMOVED\n",
      "COSMOS 1408 DEB, 1982-092ADW,  0.029528243104741347 REMOVED\n",
      "COSMOS 2241, 1993-022A,  0.04331453507422833 REMOVED\n",
      "OBJECT K, 2021-002K,  0.06080187246401055 REMOVED\n",
      "RESURS O1 DEB, 1994-074BA,  0.07344824309334752 REMOVED\n",
      "FREGAT DEB, 2011-037NN,  0.0789510521099178 REMOVED\n",
      "COSMOS 1408 DEB, 1982-092TW,  0.07895352180902593 REMOVED\n",
      "COSMOS 1408 DEB, 1982-092AHA,  0.11577295604283491 REMOVED\n",
      "STARLINK-1906, 2020-074AC,  0.15794831123395808 REMOVED\n",
      "OBJECT B, 2021-117B,  0.5273460439998182 REMOVED\n",
      "COSMOS 2251 DEB, 1993-036AEX,  0.6732365054153558 REMOVED\n",
      "COSMOS 1408 DEB, 1982-092FX,  1.128301603795796 REMOVED\n",
      "FALCON 9 DEB, 2020-055BM,  1.1870635028135692 REMOVED\n",
      "COSMOS 1408 DEB, 1982-092RY,  1.3262372568571101 REMOVED\n",
      "COSMOS 1408 DEB, 1982-092AMJ,  1.4106949339224994 REMOVED\n",
      "COSMOS 1408 DEB, 1982-092SZ,  1.525494896081922 REMOVED\n",
      "COSMOS 1408 DEB, 1982-092ANG,  1.5776938308050328 REMOVED\n",
      "COSMOS 1408 DEB, 1982-092APN,  1.9793752819809132 REMOVED\n",
      "LKW-1, 2017-077A,  2.8592527325540917 REMOVED\n",
      "COSMOS 2251 DEB, 1993-036BGB,  3.1378203876858155 REMOVED\n",
      "COSMOS 1408 DEB, 1982-092BAN,  3.148237292950933 REMOVED\n",
      "COSMOS 1408 DEB, 1982-092ABD,  3.1688976476806285 REMOVED\n",
      "COSMOS 1408 DEB, 1982-092BBQ,  3.265854619251115 REMOVED\n",
      "STARLINK-1059, 2019-074BD,  3.402478021624885 REMOVED\n",
      "STARLINK-3198, 2021-115AR,  4.213856560022833 REMOVED\n",
      "COSMOS 1408 DEB, 1982-092AVH,  5.088404731982987 REMOVED\n",
      "COSMOS 2499 DEB, 2014-028AA,  5.156745297546729 REMOVED\n",
      "FREGAT DEB, 2011-037AV,  5.867791537478705 REMOVED\n",
      "IXPE, 2021-121A,  6.12958298644018 REMOVED\n",
      "FENGYUN 1C DEB, 1999-025CVW,  6.774073207578741 REMOVED\n",
      "COSMOS 1408 DEB, 1982-092BFT,  7.775971360785451 REMOVED\n",
      "OBJECT C, 2021-117C,  8.090985047186841 REMOVED\n",
      "COSMOS 1408 DEB, 1982-092NB,  8.48068522225435 REMOVED\n",
      "COSMOS 1408 DEB, 1982-092LF,  9.660505222474276 REMOVED\n",
      "COSMOS 1408 DEB, 1982-092RQ,  10.156530048284957 REMOVED\n",
      "COSMOS 1408 DEB, 1982-092AVJ,  10.253611684210977 REMOVED\n",
      "COSMOS 1408 DEB, 1982-092AUU,  11.01124132034008 REMOVED\n",
      "XINGYUN-2 02, 2020-028B,  11.015811953541439 REMOVED\n",
      "STARLINK-3398, 2022-005S,  11.213265921433813 REMOVED\n",
      "COSMOS 1408 DEB, 1982-092JD,  11.874128150839795 REMOVED\n",
      "STARLINK-1343, 2020-025BF,  12.382630688478109 REMOVED\n",
      "COSMOS 1408 DEB, 1982-092LS,  13.651229733012379 REMOVED\n",
      "COSMOS 1408 DEB, 1982-092AAP,  13.928893870178012 REMOVED\n",
      "COSMOS 1408 DEB, 1982-092AGS,  14.785594392498716 REMOVED\n",
      "STARLINK-1837, 2020-088G,  15.193951892022541 REMOVED\n",
      "IRIDIUM 33 DEB, 1997-051CX,  15.419578114660757 REMOVED\n",
      "COSMOS 1408 DEB, 1982-092XC,  16.398389498038114 REMOVED\n",
      "SMOG-1, 2021-022AJ,  16.78769089196988 REMOVED\n",
      "COSMOS 1408 DEB, 1982-092AHT,  17.60036340393977 REMOVED\n",
      "STARLINK-3387, 2022-005X,  17.705978722349887 REMOVED\n",
      "COSMOS 1408 DEB, 1982-092AKK,  18.162360834686893 REMOVED\n",
      "COSMOS 1408 DEB, 1982-092L,  18.942071420804275 REMOVED\n",
      "COSMOS 1408 DEB, 1982-092BCR,  20.06992757010152 REMOVED\n",
      "COSMOS 1408 DEB, 1982-092AQL,  20.36762651021024 REMOVED\n",
      "COSMOS 1408 DEB, 1982-092AQK,  23.587608162814114 REMOVED\n",
      "LEMUR 2 CHANTAL, 2021-006DV,  23.929680970674777 REMOVED\n",
      "STARLINK-3184, 2022-005AR,  24.806964809040434 REMOVED\n",
      "COSMOS 1408 DEB, 1982-092AYZ,  25.06032540950336 REMOVED\n",
      "COSMOS 1408 DEB, 1982-092ACQ,  26.573735618649252 REMOVED\n",
      "COSMOS 1408 DEB, 1982-092BKK,  29.409116560753937 REMOVED\n",
      "COSMOS 1408 DEB, 1982-092LA,  29.607766852807888 REMOVED\n",
      "COSMOS 1408 DEB, 1982-092AHX,  30.97393229360342 REMOVED\n",
      "RESURS O1 DEB, 1994-074BA,  31.131674564085383 REMOVED\n",
      "ONEWEB-0398, 2021-132K,  31.773559137287723 REMOVED\n",
      "AEROCUBE 7B, 2017-071F,  32.45105056936994 REMOVED\n",
      "COSMOS 1408 DEB, 1982-092BCS,  32.79829421309009 REMOVED\n"
     ]
    },
    {
     "ename": "KeyboardInterrupt",
     "evalue": "",
     "output_type": "error",
     "traceback": [
      "\u001b[0;31m---------------------------------------------------------------------------\u001b[0m",
      "\u001b[0;31mKeyboardInterrupt\u001b[0m                         Traceback (most recent call last)",
      "Cell \u001b[0;32mIn[17], line 8\u001b[0m\n\u001b[1;32m      5\u001b[0m \u001b[38;5;28;01mwhile\u001b[39;00m sim\u001b[38;5;241m.\u001b[39mtime \u001b[38;5;241m<\u001b[39m final_t:\n\u001b[1;32m      6\u001b[0m     orig_time \u001b[38;5;241m=\u001b[39m sim\u001b[38;5;241m.\u001b[39mtime\n\u001b[0;32m----> 8\u001b[0m     oc \u001b[38;5;241m=\u001b[39m \u001b[43msim\u001b[49m\u001b[38;5;241;43m.\u001b[39;49m\u001b[43mstep\u001b[49m\u001b[43m(\u001b[49m\u001b[43m)\u001b[49m\n\u001b[1;32m     10\u001b[0m     pbar\u001b[38;5;241m.\u001b[39mupdate(sim\u001b[38;5;241m.\u001b[39mtime \u001b[38;5;241m-\u001b[39m orig_time)\n\u001b[1;32m     12\u001b[0m     \u001b[38;5;28;01mif\u001b[39;00m oc \u001b[38;5;241m==\u001b[39m csc\u001b[38;5;241m.\u001b[39moutcome\u001b[38;5;241m.\u001b[39mcollision:\n\u001b[1;32m     13\u001b[0m         \u001b[38;5;66;03m# TODO different code needed for crash\u001b[39;00m\n\u001b[1;32m     14\u001b[0m         \u001b[38;5;66;03m# on Earth here.\u001b[39;00m\n",
      "\u001b[0;31mKeyboardInterrupt\u001b[0m: "
     ]
    }
   ],
   "source": [
    "final_t = 365.25 * pk.DAY2SEC\n",
    "\n",
    "pbar = tqdm(total=final_t)\n",
    "\n",
    "while sim.time < final_t:\n",
    "    orig_time = sim.time\n",
    "    \n",
    "    oc = sim.step()\n",
    "    \n",
    "    pbar.update(sim.time - orig_time)\n",
    "   \n",
    "    if oc == csc.outcome.collision:\n",
    "        # TODO different code needed for crash\n",
    "        # on Earth here.\n",
    "        pi, pj = sim.interrupt_info\n",
    "        \n",
    "        print(\"Collision detected, re-initing particles {} and {}\".format(pi, pj))\n",
    "        \n",
    "        for idx in [pi, pj]:\n",
    "            a = rng.uniform(1.02*Re, 1.3*Re)\n",
    "            e = rng.uniform(0, 0.02)\n",
    "            inc = rng.uniform(0, 0.05)\n",
    "            om = rng.uniform(0, 2*np.pi)\n",
    "            Om = rng.uniform(0, 2*np.pi)\n",
    "            nu = rng.uniform(0, 2*np.pi)\n",
    "            size = rng.uniform(0.01, 0.1)\n",
    "\n",
    "            r, v = pk.par2ic([a, e, inc, om, Om, nu], pk.MU_EARTH)\n",
    "\n",
    "            sim.state[idx,0:3] = r\n",
    "            sim.state[idx,3:6] = v\n",
    "            sim.state[idx,6] = size\n",
    "    elif oc == csc.outcome.reentry:\n",
    "        pi = sim.interrupt_info\n",
    "        # We log on screen \n",
    "        print(satcat[to_satcat[pi]][\"OBJECT_NAME\"].strip() + \", \" + satcat[to_satcat[pi]][\"OBJECT_ID\"].strip() + \", \", sim.time*pk.SEC2DAY, \"REMOVED\")\n",
    "        # We remove the re-entered object and restart the simulation\n",
    "        new_state = np.delete(sim.state,pi,axis=0)\n",
    "        new_pars = np.delete(sim.pars,pi,axis=0)\n",
    "        \n",
    "        sim.set_new_state(new_state)\n",
    "        sim.pars[:] = new_pars\n",
    "        \n",
    "        # new_r_ic = np.vstack((sim.x,sim.y,sim.z)).transpose()\n",
    "        # new_v_ic = np.vstack((sim.vx,sim.vy,sim.vz)).transpose()\n",
    "        # new_r_ic, new_v_ic, new_BSTARS,new_to_satcat, new_c_radius = remove_particle(pi, new_r_ic, new_v_ic, new_BSTARS,new_to_satcat, new_c_radius)\n",
    "        # sim.set_new_state(new_r_ic[:,0],new_r_ic[:,1],new_r_ic[:,2],new_v_ic[:,0],new_v_ic[:,1],new_v_ic[:,2],new_c_radius, pars=[new_BSTARS])\n",
    "pbar.close()\n",
    "del pbar"
   ]
  },
  {
   "cell_type": "code",
   "execution_count": null,
   "id": "cd7d6159-2c8b-4d2c-aaee-411859a655cf",
   "metadata": {},
   "outputs": [],
   "source": []
  }
 ],
 "metadata": {
  "kernelspec": {
   "display_name": "cascade_devel",
   "language": "python",
   "name": "python3"
  },
  "language_info": {
   "codemirror_mode": {
    "name": "ipython",
    "version": 3
   },
   "file_extension": ".py",
   "mimetype": "text/x-python",
   "name": "python",
   "nbconvert_exporter": "python",
   "pygments_lexer": "ipython3",
   "version": "3.10.8"
  },
  "vscode": {
   "interpreter": {
    "hash": "1b4632c845608e514f59174a0b633d7aa9368e18a4056c6a679731fdfc1793cd"
   }
  }
 },
 "nbformat": 4,
 "nbformat_minor": 5
}
