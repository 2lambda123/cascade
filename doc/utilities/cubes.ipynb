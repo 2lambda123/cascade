{
 "cells": [
  {
   "attachments": {},
   "cell_type": "markdown",
   "id": "77367d60",
   "metadata": {},
   "source": [
    "# The *Cube* approach for the evolution of orbital debris environment\n",
    "During the first decade of the new millenium computational tools became refined enough for engineers to conceive numerical simulations for the long term evolution of orbital environments:\n",
    "\n",
    "> \"With the help of modern computers, it is now possible to perform numerical simulations of the orbital evolution of an N-body system. Therefore, there is a need for a collision model that can work with an orbital evolution simulation code to allow for source and sink terms of the objects involved as well as to utilize their updated orbital elements as they evolve in time. The “Cube” approach is designed to accomplish just that.\" - Liou, J-C. \"Collision activities in the future orbital debris environment.\" Advances in Space Research 38.9 (2006): 2102-2106.\n",
    "\n",
    "The *Cube* approach mentioned is essentially based on the idea that if $P_{ij}$ is a collision probability between orbiting object $i$ and object $j$, then the total number of collisions $N_{tot}$ between the two objects in a small enough time interval where $P_{ij}$ can be considered constant will be:\n",
    "$$\n",
    "N_{tot} = \\int_{t_s}^{t_f} P_{ij} ds = [t_f - t_s] P_{ij}\n",
    "$$\n",
    "\n",
    "The formula above is formally exact and shifts the problem to that of introducing a $P_{ij}$ which, in some sense, captures the collisional dynamics. In the *Cube* approach this is done dividing the entire space in cubes of side $L$ and introducing the following two hypothesis:\n",
    "\n",
    " * Two objects $i$ and $j$ have a non zero impact probability in $[t_f - t_s]$ only if they occupy the very same cube at $t_s$.\n",
    " * When non-zero the collision probability between the two object is derived from the kinetic theory of gass applied to the volume $U =L^3$\n",
    "\n",
    "In the following we describe python code implementing this approach for a large orbital population.\n",
    "\n",
    "As usual, we start with some imports:"
   ]
  },
  {
   "cell_type": "code",
   "execution_count": 1,
   "id": "823509f4",
   "metadata": {},
   "outputs": [],
   "source": [
    "# Core imports\n",
    "import pykep as pk\n",
    "import numpy as np\n",
    "import json\n",
    "import pickle as pkl\n",
    "from copy import deepcopy\n",
    "from tqdm.notebook import tqdm\n",
    "from collections import defaultdict\n",
    "import time\n",
    "\n",
    "# sgp4 imports\n",
    "import sgp4\n",
    "from sgp4.api import Satrec, SatrecArray\n",
    "\n",
    "# Plotting\n",
    "from mpl_toolkits.mplot3d import Axes3D\n",
    "from matplotlib import pyplot as plt\n",
    "%matplotlib inline"
   ]
  },
  {
   "attachments": {},
   "cell_type": "markdown",
   "id": "69c9ba3c",
   "metadata": {},
   "source": [
    "## Data imports\n",
    "We will use, as satellite population, the current  tracked objects in Low Earth Orbit as prepared by the code described in [The current LEO population](<./leo_population.ipynb>). At the end of that code a pickled file is created containing initial positions and velocities of the objects together with the satcat dictionary to identify them. Let us load that data."
   ]
  },
  {
   "cell_type": "code",
   "execution_count": 2,
   "id": "fa3e5342",
   "metadata": {},
   "outputs": [],
   "source": [
    "# r is in km and v in km/s\n",
    "with open(\"data/leo_population.pk\", \"rb\") as file:\n",
    "    r,v,to_satcat_index,satcat = pkl.load(file)"
   ]
  },
  {
   "attachments": {},
   "cell_type": "markdown",
   "id": "18ebc279",
   "metadata": {},
   "source": [
    "The object described by the entry ```satcat[to_satcat_index[j]]``` has initial position ```r[j]``` and initial velocity ```v[j]```. Let us inspect one entry"
   ]
  },
  {
   "cell_type": "code",
   "execution_count": 3,
   "id": "ff287607",
   "metadata": {},
   "outputs": [
    {
     "name": "stdout",
     "output_type": "stream",
     "text": [
      "Dictionary entry:  {'CCSDS_OMM_VERS': '2.0', 'COMMENT': 'GENERATED VIA SPACE-TRACK.ORG API', 'CREATION_DATE': '2022-02-03T04:23:25', 'ORIGINATOR': '18 SPCS', 'OBJECT_NAME': 'SL-14 DEB', 'OBJECT_ID': '1978-100F', 'CENTER_NAME': 'EARTH', 'REF_FRAME': 'TEME', 'TIME_SYSTEM': 'UTC', 'MEAN_ELEMENT_THEORY': 'SGP4', 'EPOCH': '2022-02-02T22:42:05.237280', 'MEAN_MOTION': '12.56769207', 'ECCENTRICITY': '0.00286110', 'INCLINATION': '82.3526', 'RA_OF_ASC_NODE': '268.9057', 'ARG_OF_PERICENTER': '297.9015', 'MEAN_ANOMALY': '75.7071', 'EPHEMERIS_TYPE': '0', 'CLASSIFICATION_TYPE': 'U', 'NORAD_CAT_ID': '19133', 'ELEMENT_SET_NO': '999', 'REV_AT_EPOCH': '93528', 'BSTAR': '0.02113600000000', 'MEAN_MOTION_DOT': '0.00003527', 'MEAN_MOTION_DDOT': '0.0000000000000', 'SEMIMAJOR_AXIS': '7814.445', 'PERIOD': '114.580', 'APOAPSIS': '1458.668', 'PERIAPSIS': '1413.952', 'OBJECT_TYPE': 'DEBRIS', 'RCS_SIZE': 'MEDIUM', 'COUNTRY_CODE': 'CIS', 'LAUNCH_DATE': '1978-10-26', 'SITE': 'PKMTR', 'DECAY_DATE': None, 'FILE': '3290513', 'GP_ID': '195174860', 'TLE_LINE0': '0 SL-14 DEB', 'TLE_LINE1': '1 19133U 78100F   22033.94589395  .00003527  00000-0  21136-1 0  9996', 'TLE_LINE2': '2 19133  82.3526 268.9057 0028611 297.9015  75.7071 12.56769207935282', 'RADIUS': 0.2631205051777122}\n",
      "Position (km):  [2129.88342848 3695.71335128 6552.37467945]\n",
      "Velocity (km/s):  [ 1.38399824  5.88779107 -3.78530589]\n"
     ]
    }
   ],
   "source": [
    "print(\"Dictionary entry: \", satcat[to_satcat_index[3685]])\n",
    "print(\"Position (km): \", r[3685])\n",
    "print(\"Velocity (km/s): \", v[3685])"
   ]
  },
  {
   "attachments": {},
   "cell_type": "markdown",
   "id": "a635c9c2",
   "metadata": {},
   "source": [
    "## A few useful functions we will use\n",
    "The following function computes the orbital period via the vis-viva equation."
   ]
  },
  {
   "cell_type": "code",
   "execution_count": 4,
   "id": "3081632a",
   "metadata": {},
   "outputs": [],
   "source": [
    "def period(r,v, mu):\n",
    "    \"\"\"Computes the orbital period from the vis-viva equation\n",
    "\n",
    "    Args:\n",
    "        r (float): The radius (in L).\n",
    "        v (float): The velocity (in L/T).\n",
    "        mu (float): The gravitational parameter in L^3/T^2\n",
    "\n",
    "    Returns:\n",
    "        The orbital period (in T)\n",
    "    \"\"\"\n",
    "    En = v**2/2 - mu / r\n",
    "    a = -mu / En / 2\n",
    "    if a<0:\n",
    "        raise ValueError(\"Hyperbola!!!\")\n",
    "    return np.sqrt(a**3/mu)*2*np.pi"
   ]
  },
  {
   "attachments": {},
   "cell_type": "markdown",
   "id": "3a71edb9",
   "metadata": {},
   "source": [
    "The following function is a central part of the Cube approach. It takes a point cloud and a linear dimension and returns all the points \n",
    "that are in the same cube of side L. It assumes the 3D space is divided into cubes starting from the origin. In other words, along the three dimensions,\n",
    "the cube vertices will have coordinates $[...,-L,0,L,...]$\n"
   ]
  },
  {
   "cell_type": "code",
   "execution_count": 5,
   "id": "eefd8883",
   "metadata": {},
   "outputs": [],
   "source": [
    "def cubes(points, cube_dimension):\n",
    "    \"\"\"Divides the space in cubes of size cube_dimension and returns points within the same cube\n",
    "\n",
    "    Args:\n",
    "        def cubes(points, cube_dimension):\n",
    " (Nx3 np.array): The cartesian position of the satellites (in L).\n",
    "        cube_dimension (float): The cube dimentsion (in L).\n",
    "\n",
    "    Returns:\n",
    "        a list containing lists of satelites idx occupying the same cube\n",
    "    \"\"\"\n",
    "    # init\n",
    "    retval = []\n",
    "    cubes = defaultdict(list)\n",
    "\n",
    "    # We compute the floored Cartesian coordinates identifying the bins.\n",
    "    pos = points\n",
    "    pos = pos / cube_dimension\n",
    "    pos = np.floor(pos).astype(int)\n",
    "    # We fill the bins\n",
    "    for i, xyz in enumerate(pos):\n",
    "        cubes[tuple(xyz)].append(i)\n",
    "    # We find bins with more than one object\n",
    "    for key in cubes:\n",
    "        if len(cubes[key]) > 1:\n",
    "            retval.append(cubes[key])\n",
    "    return retval"
   ]
  },
  {
   "attachments": {},
   "cell_type": "markdown",
   "id": "094e5175",
   "metadata": {},
   "source": [
    "Note that the great advantage of the above preliminar collision detection is that it has a linear complexity in the number of particles. \n",
    "This makes the Cube approach scale remarkably well as an n-body collision simulation. Lets time its performances in our specific case:\n",
    "\n"
   ]
  },
  {
   "cell_type": "code",
   "execution_count": 6,
   "id": "f574964d",
   "metadata": {},
   "outputs": [
    {
     "name": "stdout",
     "output_type": "stream",
     "text": [
      "33.2 ms ± 59.6 µs per loop (mean ± std. dev. of 7 runs, 10 loops each)\n"
     ]
    }
   ],
   "source": [
    "%timeit cubes(r, 10)"
   ]
  },
  {
   "attachments": {},
   "cell_type": "markdown",
   "id": "f008300a",
   "metadata": {},
   "source": [
    "The following function computes the SGP4 propagation of all objects in indexes over a fixed simulation time and time grid. Note that this numerical propagation is made using the vectorized SGP4 propagator."
   ]
  },
  {
   "cell_type": "code",
   "execution_count": 7,
   "id": "d908c92d",
   "metadata": {},
   "outputs": [],
   "source": [
    "def simulate_sgp4(indexes, sim_time=20,time_interval=5, jd = pk.epoch_from_iso_string(\"20220301T000000\").jd):\n",
    "    \"\"\"Computes all satellites ephemerides on a time grid\n",
    "\n",
    "    Args:\n",
    "        indexes (list of pk.planets): The indexes in the satcat dictionary of the objects to propagate.\n",
    "        sim_time (float): The total propagation time (in years).\n",
    "        time_interval(float): The time resolution (in days).\n",
    "        jd (float): the starting epoch in julian date.\n",
    "\n",
    "    Returns:\n",
    "        a list containing lists of idx identifying the object occupying the same cube\n",
    "    \"\"\"\n",
    "    # This list will contain all the sgp4 Satrec objects\n",
    "    satellite_l = []\n",
    "    for idx in indexes:\n",
    "        l1 = satcat[idx][\"TLE_LINE1\"]\n",
    "        l2 = satcat[idx][\"TLE_LINE2\"]\n",
    "        satellite_l.append(Satrec.twoline2rv(l1, l2))\n",
    "    # Here we build the vectorized version allowing for speed\n",
    "    satellites = SatrecArray(satellite_l)\n",
    "    # The Julian dates are from jd0 to 20 years after\n",
    "    jds = jd + np.arange(0,sim_time*365.25/time_interval)*time_interval\n",
    "    frs = jds * 0\n",
    "    return satellites.sgp4(jds, frs)"
   ]
  },
  {
   "attachments": {},
   "cell_type": "markdown",
   "id": "3699191c",
   "metadata": {},
   "source": [
    "## The full simulation of 20 years of LEO evolution\n",
    "We are now ready to set up a simulation of the evolution of the LEO environment for the next 20 yars. In particular we will be only detecting collisions.\n",
    "We start precomputing all the positions and velocities of the orbiting objects in 20 years at a 5 day resolution."
   ]
  },
  {
   "cell_type": "code",
   "execution_count": 8,
   "id": "95408de3",
   "metadata": {},
   "outputs": [
    {
     "name": "stdout",
     "output_type": "stream",
     "text": [
      "Time to perform all numerical integrations:  19.766477584838867\n"
     ]
    }
   ],
   "source": [
    "start = time.time()\n",
    "err,r_sgp4,v_sgp4 = simulate_sgp4(to_satcat_index, sim_time=20,time_interval=5, jd = pk.epoch_from_iso_string(\"20220301T000000\").jd+np.random.random()*5)\n",
    "end = time.time()\n",
    "print(\"Time to perform all numerical integrations: \", end - start)\n"
   ]
  },
  {
   "attachments": {},
   "cell_type": "markdown",
   "id": "45a348f2",
   "metadata": {},
   "source": [
    "We now perfrom the simulation and use within each time interval, the kinetic theory of gasses to determine whether a collision has happened or not. "
   ]
  },
  {
   "cell_type": "code",
   "execution_count": 9,
   "id": "e707a031",
   "metadata": {
    "scrolled": false
   },
   "outputs": [
    {
     "name": "stdout",
     "output_type": "stream",
     "text": [
      "Collision! pair: [11465, 16559], years: 0.7118412046543463\n",
      "Collision! pair: [14592, 15841], years: 1.9712525667351128\n",
      "Collision! pair: [12937, 14129], years: 8.172484599589323\n",
      "Collision! pair: [6026, 15549], years: 10.622861054072553\n",
      "Collision! pair: [7635, 14819], years: 18.576317590691307\n",
      "Time elasped:  67.80387353897095\n",
      "Decayed objects:  4994\n",
      "Number of collisions:  5\n"
     ]
    }
   ],
   "source": [
    "# We assume all satellites are valid at the starting epoch\n",
    "start = time.time()\n",
    "undecayed = set(np.arange(r_sgp4.shape[0]))\n",
    "n_collisions=0\n",
    "for i in range(r_sgp4.shape[1]):\n",
    "    Lcube = 10. #km\n",
    "    time_grid  = 5 #days\n",
    "    # If signalled from the sgp4, we remove the indices of the decayed satellites\n",
    "    decayed = set(np.where(err[:,i]>0)[0])\n",
    "    undecayed = undecayed - decayed\n",
    "    undecayed_l = np.array([j for j in undecayed])\n",
    "    # We detect all satellites couples in the same cube of Lcube km size\n",
    "    collision = cubes(r_sgp4[undecayed_l,i,:], cube_dimension = Lcube)\n",
    "    #kdt = KDTree(r[undecayed_l,i,:])\n",
    "    #collision = list(kdt.query_pairs(Lcube))\n",
    "    #print(collision)\n",
    "    for pair in collision:\n",
    "        # we get the indexes in r,v\n",
    "        idx1 = undecayed_l[pair[0]]\n",
    "        idx2 = undecayed_l[pair[1]]\n",
    "        # we store positions and velocities from r,v\n",
    "        r1 = r_sgp4[idx1,i,:]\n",
    "        r2 = r_sgp4[idx2,i,:]\n",
    "        v1 = v_sgp4[idx1,i,:]\n",
    "        v2 = v_sgp4[idx2,i,:]\n",
    "        # we get the collision radiu from debris (indexed differently hence to_satcat is used)\n",
    "        c_radius1 = satcat[to_satcat_index[idx1]][\"RADIUS\"]\n",
    "        c_radius2 = satcat[to_satcat_index[idx2]][\"RADIUS\"]\n",
    "        # Relative velocity \n",
    "        Vrel = np.linalg.norm(v1-v2)\n",
    "        # Collisional area of the couple (in km^2)\n",
    "        sigma = np.pi*((c_radius1+c_radius2)/1000)**2 \n",
    "        # Volume of the cube (km^3)\n",
    "        U = (Lcube)**3\n",
    "        # We compute the spatial densities\n",
    "        # densities (from \"Assessing collision algorithms for the newspace era\" )\n",
    "        s1 = 1./U\n",
    "        s2 = 1./U\n",
    "        # collision probability\n",
    "        Pij = s1*s2*Vrel*sigma*U*time_grid*pk.DAY2SEC\n",
    "        # Store\n",
    "        if Pij > np.random.random():\n",
    "            print(f\"Collision! pair: {pair}, years: {i*5/365.25}\")\n",
    "            n_collisions+=1\n",
    "end = time.time()\n",
    "print(\"Time elasped: \", end - start)\n",
    "print(\"Decayed objects: \", r.shape[0] - len(undecayed))\n",
    "print(\"Number of collisions: \", n_collisions)"
   ]
  },
  {
   "attachments": {},
   "cell_type": "markdown",
   "id": "903007f3",
   "metadata": {},
   "source": [
    "Repeating the above code will give different results as we added noise to the initial conditions and the collision probabilities are checked rolling a dice."
   ]
  }
 ],
 "metadata": {
  "kernelspec": {
   "display_name": "cascade_devel",
   "language": "python",
   "name": "python3"
  },
  "language_info": {
   "codemirror_mode": {
    "name": "ipython",
    "version": 3
   },
   "file_extension": ".py",
   "mimetype": "text/x-python",
   "name": "python",
   "nbconvert_exporter": "python",
   "pygments_lexer": "ipython3",
   "version": "3.10.8"
  },
  "vscode": {
   "interpreter": {
    "hash": "1b4632c845608e514f59174a0b633d7aa9368e18a4056c6a679731fdfc1793cd"
   }
  }
 },
 "nbformat": 4,
 "nbformat_minor": 5
}
