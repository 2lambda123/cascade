{
 "cells": [
  {
   "cell_type": "code",
   "execution_count": 66,
   "id": "c9b316b3-8d04-4b55-8395-54be3213bd03",
   "metadata": {},
   "outputs": [],
   "source": [
    "import pykep as pk\n",
    "import numpy as np\n",
    "import json\n",
    "\n",
    "from matplotlib import pyplot as plt\n",
    "%matplotlib inline"
   ]
  },
  {
   "cell_type": "markdown",
   "id": "3a5f6485",
   "metadata": {},
   "source": [
    "# We import the dataset containing the info on the tracked population\n",
    "The files needed are:\n",
    "* satcat.txt (from https://celestrak.com/satcat/search.php) - This contains, for some, the RCS in meters.\n",
    "* satcat_json (from https://www.space-track.org/basicspacedata/query/class/gp/decay_date/null-val/epoch/%3Enow-30/orderby/norad_cat_id/format/json) -This has all information, but the RCS that only carries three levels small, medium big.\n"
   ]
  },
  {
   "cell_type": "code",
   "execution_count": 50,
   "id": "fe16ec86",
   "metadata": {},
   "outputs": [
    {
     "name": "stdout",
     "output_type": "stream",
     "text": [
      "Satellites number in json:  23966\n",
      "Satellites number in txt:  51407\n"
     ]
    }
   ],
   "source": [
    "# Import the SATCAT\n",
    "satcat = pk.util.read_satcat(\"data/satcat.txt\")\n",
    "# Import the json catalogue\n",
    "with open(\"data/satcat.json\", \"r\") as file:\n",
    "    satcat_json = json.load(file)\n",
    "print(\"Satellites number in json: \", len(satcat_json))\n",
    "print(\"Satellites number in txt: \", len(satcat))"
   ]
  },
  {
   "cell_type": "markdown",
   "id": "e3ae6d3d",
   "metadata": {},
   "source": [
    "The txt (SATCAT) contains more entries as all past decayed objects are also present, while in the json we only hve the currently orbiting ones"
   ]
  },
  {
   "cell_type": "code",
   "execution_count": 51,
   "id": "b6959050-5380-4125-b142-620f98dba368",
   "metadata": {},
   "outputs": [
    {
     "name": "stdout",
     "output_type": "stream",
     "text": [
      "Satellites number with valid TLEs: 23966\n"
     ]
    }
   ],
   "source": [
    "# Lets build the various orbiting objects from the TLEs\n",
    "debris = []\n",
    "for entry in satcat_json:\n",
    "    try:\n",
    "        line1 = entry[\"TLE_LINE1\"]\n",
    "        line2 = entry[\"TLE_LINE2\"]\n",
    "        debris.append(pk.planet.tle(line1, line2))\n",
    "    except RuntimeError:\n",
    "        # The alpha-5 format (https://www.space-track.org/documentation#tle-alpha5) is accounted for (ignored)\n",
    "        # here. \n",
    "        line1 = list(line1)\n",
    "        line1[2] = '0'\n",
    "        line1 = ''.join(line1)\n",
    "        line2 = list(line2)\n",
    "        line2[2] = '0'\n",
    "        line2 = ''.join(line2)\n",
    "        debris.append(pk.planet.tle(line1, line2))\n",
    "\n",
    "print(\"Satellites number with valid TLEs:\", len(debris))"
   ]
  },
  {
   "cell_type": "code",
   "execution_count": 52,
   "id": "3b850037-7d3a-4727-a932-24fef05d2e02",
   "metadata": {},
   "outputs": [],
   "source": [
    "# For each debris we retrieve and monkey patch the planet class with its collision radius\n",
    "for deb, deb_data in zip(debris, satcat_json):\n",
    "    key = deb.name.strip()\n",
    "    if key in satcat and satcat[key].radarA.strip() != \"N/A\":\n",
    "        radius = np.sqrt(float(satcat[key].radarA)/np.pi)\n",
    "    else:\n",
    "        if deb_data[\"RCS_SIZE\"] == \"SMALL\":\n",
    "            radius = 0.15\n",
    "        elif deb_data[\"RCS_SIZE\"] == \"MEDIUM\":\n",
    "            radius = 0.55\n",
    "        else:\n",
    "            radius = 2.\n",
    "    deb.collision_radius = radius"
   ]
  },
  {
   "cell_type": "code",
   "execution_count": 65,
   "id": "542906fd",
   "metadata": {},
   "outputs": [
    {
     "name": "stdout",
     "output_type": "stream",
     "text": [
      "Number of satellites decayed:  5\n",
      "Number of satellites in the simulation:  19772\n"
     ]
    }
   ],
   "source": [
    "# We create the initial state for all satellites that are not decayed and filtered\n",
    "r = []\n",
    "v = []\n",
    "al = []\n",
    "el = []\n",
    "incl = []\n",
    "radius= []\n",
    "to_satcat_index = []\n",
    "n_decayed = 0\n",
    "for j, deb in enumerate(debris):\n",
    "    try:\n",
    "        rr, vv = deb.eph(pk.epoch_from_iso_string(\"20220128T235954\"))\n",
    "        a,e,i,Om,om,nu = pk.ic2par(rr, vv, mu=pk.MU_EARTH)\n",
    "        if a < 1e7:\n",
    "            r.append(rr)\n",
    "            v.append(vv)\n",
    "            radius.append(deb.collision_radius)\n",
    "            al.append(a)\n",
    "            el.append(e)\n",
    "            incl.append(i*pk.RAD2DEG)\n",
    "            to_satcat_index.append(j)\n",
    "    except:\n",
    "        n_decayed+=1\n",
    "radius = np.array(radius)\n",
    "print(\"Number of satellites decayed: \", n_decayed)\n",
    "print(\"Number of satellites in the simulation: \", len(indexes))"
   ]
  },
  {
   "cell_type": "markdown",
   "id": "1cad14c4",
   "metadata": {},
   "source": [
    "# We now produce some plots on the satellites to be simulated\n"
   ]
  },
  {
   "cell_type": "code",
   "execution_count": 20,
   "id": "b7bdd7a6-3000-4762-b54c-655cc722cd42",
   "metadata": {},
   "outputs": [],
   "source": [
    "%matplotlib inline"
   ]
  },
  {
   "cell_type": "code",
   "execution_count": 21,
   "id": "a42c964d-660e-4310-b4f7-35ec0b23c4c2",
   "metadata": {},
   "outputs": [],
   "source": [
    "from matplotlib.pylab import plt"
   ]
  },
  {
   "cell_type": "code",
   "execution_count": 22,
   "id": "046849c5-efa7-4fce-8b1b-8244b4879dce",
   "metadata": {},
   "outputs": [
    {
     "data": {
      "image/png": "[encoded data removed]",
      "text/plain": [
       "<Figure size 432x288 with 1 Axes>"
      ]
     },
     "metadata": {
      "needs_background": "light"
     },
     "output_type": "display_data"
    }
   ],
   "source": [
    "fig = plt.figure()\n",
    "\n",
    "plt.hist(incl, bins = 20);"
   ]
  },
  {
   "cell_type": "code",
   "execution_count": 23,
   "id": "509d978f-c0b2-422d-9c0b-fbe4cfdc7642",
   "metadata": {},
   "outputs": [],
   "source": [
    "import cascade as csc\n",
    "import numpy as np\n",
    "import pykep as pk\n",
    "from copy import deepcopy\n",
    "from tqdm.notebook import tqdm\n",
    "import heyoka as hy"
   ]
  },
  {
   "cell_type": "code",
   "execution_count": 24,
   "id": "9b41f604-f7cf-451d-a460-fff38078cc00",
   "metadata": {},
   "outputs": [],
   "source": [
    "# Dynamical variables.\n",
    "x,y,z,vx,vy,vz = hy.make_vars(\"x\",\"y\",\"z\",\"vx\",\"vy\",\"vz\")\n",
    "\n",
    "# Constants.\n",
    "GMe = pk.MU_EARTH\n",
    "C20 = -4.84165371736e-4\n",
    "Re = pk.EARTH_RADIUS\n",
    "\n",
    "# Create Keplerian dynamics.\n",
    "dyn = csc.dynamics.kepler(mu = GMe)\n",
    "\n",
    "# Add the J2 terms.\n",
    "magR2 = hy.sum_sq([x, y, z])\n",
    "J2term1 = GMe*(Re**2)*np.sqrt(5)*C20/(2*magR2**(1./2))\n",
    "J2term2 = 3/(magR2**2)\n",
    "J2term3 = 15*(z**2)/(magR2**3)\n",
    "fJ2X = J2term1*x*(J2term2 - J2term3)\n",
    "fJ2Y = J2term1*y*(J2term2 - J2term3)\n",
    "fJ2Z = J2term1*z*(3*J2term2 - J2term3)\n",
    "dyn[3] = (dyn[3][0], dyn[3][1] + fJ2X)\n",
    "dyn[4] = (dyn[4][0], dyn[4][1] + fJ2Y)\n",
    "dyn[5] = (dyn[5][0], dyn[5][1] + fJ2Z)"
   ]
  },
  {
   "cell_type": "code",
   "execution_count": 25,
   "id": "551e128d-b4cc-4b31-8553-ddf36b68aee4",
   "metadata": {},
   "outputs": [],
   "source": [
    "rarr = np.array(r)\n",
    "varr = np.array(v)"
   ]
  },
  {
   "cell_type": "code",
   "execution_count": 26,
   "id": "a7759ac8-21f2-41b2-a064-a32a559a4e2c",
   "metadata": {},
   "outputs": [
    {
     "name": "stdout",
     "output_type": "stream",
     "text": [
      "[2022-01-31 15:02:44.925] [cascade] [info] cascade logger initialised\n"
     ]
    }
   ],
   "source": [
    "sim = csc.sim(rarr[:,0],rarr[:,1],rarr[:,2],varr[:,0],varr[:,1],varr[:,2],radius,0.23 * 806.81,dyn=dyn)"
   ]
  },
  {
   "cell_type": "code",
   "execution_count": 29,
   "id": "8c37507d-22ec-478b-8846-cacc82cff608",
   "metadata": {},
   "outputs": [],
   "source": [
    "final_t = 86400*365"
   ]
  },
  {
   "cell_type": "code",
   "execution_count": 30,
   "id": "345f1edd-5341-4b85-b460-21ca7938563b",
   "metadata": {},
   "outputs": [
    {
     "data": {
      "application/vnd.jupyter.widget-view+json": {
       "model_id": "9e10abfcc2b941e099d1f1ae8291e8e7",
       "version_major": 2,
       "version_minor": 0
      },
      "text/plain": [
       "  0%|          | 0/31536000 [00:00<?, ?it/s]"
      ]
     },
     "metadata": {},
     "output_type": "display_data"
    },
    {
     "name": "stdout",
     "output_type": "stream",
     "text": [
      "Collision detected, re-initing particles 13936 and 15415\n"
     ]
    },
    {
     "ename": "NameError",
     "evalue": "name 'rng' is not defined",
     "output_type": "error",
     "traceback": [
      "\u001b[0;31m---------------------------------------------------------------------------\u001b[0m",
      "\u001b[0;31mNameError\u001b[0m                                 Traceback (most recent call last)",
      "Input \u001b[0;32mIn [30]\u001b[0m, in \u001b[0;36m<module>\u001b[0;34m\u001b[0m\n\u001b[1;32m     25\u001b[0m new_sizes \u001b[38;5;241m=\u001b[39m deepcopy(sim\u001b[38;5;241m.\u001b[39msizes)\n\u001b[1;32m     27\u001b[0m \u001b[38;5;28;01mfor\u001b[39;00m idx \u001b[38;5;129;01min\u001b[39;00m [pi, pj]:\n\u001b[0;32m---> 28\u001b[0m     a \u001b[38;5;241m=\u001b[39m \u001b[43mrng\u001b[49m\u001b[38;5;241m.\u001b[39muniform(\u001b[38;5;241m1.02\u001b[39m\u001b[38;5;241m*\u001b[39mRe, \u001b[38;5;241m1.3\u001b[39m\u001b[38;5;241m*\u001b[39mRe)\n\u001b[1;32m     29\u001b[0m     e \u001b[38;5;241m=\u001b[39m rng\u001b[38;5;241m.\u001b[39muniform(\u001b[38;5;241m0\u001b[39m, \u001b[38;5;241m0.02\u001b[39m)\n\u001b[1;32m     30\u001b[0m     inc \u001b[38;5;241m=\u001b[39m rng\u001b[38;5;241m.\u001b[39muniform(\u001b[38;5;241m0\u001b[39m, \u001b[38;5;241m0.05\u001b[39m)\n",
      "\u001b[0;31mNameError\u001b[0m: name 'rng' is not defined"
     ]
    }
   ],
   "source": [
    "pbar = tqdm(total=final_t)\n",
    "\n",
    "while sim.time < final_t:\n",
    "    orig_time = sim.time\n",
    "    \n",
    "    oc = sim.step()\n",
    "    \n",
    "    pbar.update(sim.time - orig_time)\n",
    "   \n",
    "    if oc == csc.outcome.collision:\n",
    "        # TODO different code needed for crash\n",
    "        # on Earth here.\n",
    "        pi, pj = sim.interrupt_info\n",
    "        \n",
    "        print(\"Collision detected, re-initing particles {} and {}\".format(pi, pj))\n",
    "        \n",
    "        new_x = deepcopy(sim.x)\n",
    "        new_y = deepcopy(sim.y)\n",
    "        new_z = deepcopy(sim.z)\n",
    "        \n",
    "        new_vx = deepcopy(sim.vx)\n",
    "        new_vy = deepcopy(sim.vy)\n",
    "        new_vz = deepcopy(sim.vz)\n",
    "        \n",
    "        new_sizes = deepcopy(sim.sizes)\n",
    "\n",
    "        for idx in [pi, pj]:\n",
    "            a = rng.uniform(1.02*Re, 1.3*Re)\n",
    "            e = rng.uniform(0, 0.02)\n",
    "            inc = rng.uniform(0, 0.05)\n",
    "            om = rng.uniform(0, 2*np.pi)\n",
    "            Om = rng.uniform(0, 2*np.pi)\n",
    "            nu = rng.uniform(0, 2*np.pi)\n",
    "            size = rng.uniform(0.01, 0.1)\n",
    "\n",
    "            r, v = pk.par2ic([a, e, inc, om, Om, nu], GMe)\n",
    "\n",
    "            new_x[idx] = r[0]\n",
    "            new_y[idx] = r[1]\n",
    "            new_z[idx] = r[2]\n",
    "\n",
    "            new_vx[idx] = v[0]\n",
    "            new_vy[idx] = v[1]\n",
    "            new_vz[idx] = v[2]\n",
    "            \n",
    "            new_sizes[idx] = size\n",
    "\n",
    "        sim.set_new_state(new_x, new_y, new_z, new_vx, new_vy, new_vz, new_sizes)\n",
    "    elif oc == csc.outcome.reentry:\n",
    "        pi = sim.interrupt_info\n",
    "        \n",
    "        print(\"Particle {} re-entered\".format(pi))\n",
    "        break\n",
    "\n",
    "pbar.close()\n",
    "del pbar"
   ]
  },
  {
   "cell_type": "code",
   "execution_count": 32,
   "id": "b2e2f496-4b2c-4361-a70d-4f55bc826598",
   "metadata": {},
   "outputs": [
    {
     "data": {
      "text/plain": [
       "Planet Name: 1987-060R  \n",
       "Own gravity parameter: 0.10000000000000001\n",
       "Central body gravity parameter: 398600800000000\n",
       "Planet radius: 0.10000000000000001\n",
       "Planet safe radius: 0.10000000000000001\n",
       "Ephemerides type: SGP4 propagator\n",
       "TLE epoch: 2022-Jan-27 21:30:17.559645\n",
       "TLE 1: 1 39654U 87060R   22027.89603657  .00000042  00000-0  53132-4 0  9999\n",
       "TLE 2: 2 39654  65.0062 186.4374 0020453 261.7164  98.1602 14.31651468407121"
      ]
     },
     "execution_count": 32,
     "metadata": {},
     "output_type": "execute_result"
    }
   ],
   "source": [
    "debris[13936]"
   ]
  },
  {
   "cell_type": "code",
   "execution_count": 33,
   "id": "be5bafaa-2e10-4e9e-bbae-fec4b59f07b7",
   "metadata": {},
   "outputs": [
    {
     "data": {
      "text/plain": [
       "Planet Name: 2015-020J  \n",
       "Own gravity parameter: 0.10000000000000001\n",
       "Central body gravity parameter: 398600800000000\n",
       "Planet radius: 0.10000000000000001\n",
       "Planet safe radius: 0.10000000000000001\n",
       "Ephemerides type: SGP4 propagator\n",
       "TLE epoch: 2022-Jan-27 18:25:27.136436\n",
       "TLE 1: 1 41721U 15020J   22027.76767519  .00000043  00000-0  14318-3 0  9991\n",
       "TLE 2: 2 41721  82.4896 214.0273 0244945 245.3786 112.1619 12.74606552308163"
      ]
     },
     "execution_count": 33,
     "metadata": {},
     "output_type": "execute_result"
    }
   ],
   "source": [
    "debris[15415]"
   ]
  },
  {
   "cell_type": "code",
   "execution_count": 35,
   "id": "a542e003-5a6c-483a-a802-e43c4b3f1ba2",
   "metadata": {},
   "outputs": [
    {
     "data": {
      "text/plain": [
       "2.0"
      ]
     },
     "execution_count": 35,
     "metadata": {},
     "output_type": "execute_result"
    }
   ],
   "source": [
    "radius[13936]"
   ]
  },
  {
   "cell_type": "code",
   "execution_count": 41,
   "id": "419c0116-e93e-45b9-8cda-c514047721de",
   "metadata": {},
   "outputs": [
    {
     "data": {
      "text/plain": [
       "2.0"
      ]
     },
     "execution_count": 41,
     "metadata": {},
     "output_type": "execute_result"
    }
   ],
   "source": [
    "radius[15415]"
   ]
  },
  {
   "cell_type": "code",
   "execution_count": 48,
   "id": "a33a555c-0ca7-4829-9cf9-3f7bc1e6e89b",
   "metadata": {},
   "outputs": [
    {
     "data": {
      "text/plain": [
       "4.1302156716938043e-07"
      ]
     },
     "execution_count": 48,
     "metadata": {},
     "output_type": "execute_result"
    }
   ],
   "source": [
    "(sim.x[13936] - sim.x[15415])**2 + (sim.y[13936] - sim.y[15415])**2 + (sim.z[13936] - sim.z[15415])**2 - 4*2**2"
   ]
  },
  {
   "cell_type": "code",
   "execution_count": 49,
   "id": "43433712-4b3e-469c-b82e-4f80a4f33576",
   "metadata": {},
   "outputs": [
    {
     "data": {
      "text/plain": [
       "2.0"
      ]
     },
     "execution_count": 49,
     "metadata": {},
     "output_type": "execute_result"
    }
   ],
   "source": [
    "sim.sizes[13936]"
   ]
  },
  {
   "cell_type": "code",
   "execution_count": 18,
   "id": "0492cbc2-b6a0-4210-ab48-fd530081023f",
   "metadata": {},
   "outputs": [],
   "source": [
    "a = \"sde\""
   ]
  },
  {
   "cell_type": "code",
   "execution_count": 20,
   "id": "96689c0b",
   "metadata": {},
   "outputs": [
    {
     "ename": "TypeError",
     "evalue": "'str' object does not support item assignment",
     "output_type": "error",
     "traceback": [
      "\u001b[0;31m---------------------------------------------------------------------------\u001b[0m",
      "\u001b[0;31mTypeError\u001b[0m                                 Traceback (most recent call last)",
      "Input \u001b[0;32mIn [20]\u001b[0m, in \u001b[0;36m<module>\u001b[0;34m\u001b[0m\n\u001b[0;32m----> 1\u001b[0m a[\u001b[38;5;241m0\u001b[39m] \u001b[38;5;241m=\u001b[39m \u001b[38;5;124m'\u001b[39m\u001b[38;5;124me\u001b[39m\u001b[38;5;124m'\u001b[39m\n",
      "\u001b[0;31mTypeError\u001b[0m: 'str' object does not support item assignment"
     ]
    }
   ],
   "source": [
    "a[0] = 'e'"
   ]
  },
  {
   "cell_type": "code",
   "execution_count": null,
   "id": "252e9494",
   "metadata": {},
   "outputs": [],
   "source": []
  }
 ],
 "metadata": {
  "kernelspec": {
   "display_name": "Python 3 (ipykernel)",
   "language": "python",
   "name": "python3"
  },
  "language_info": {
   "codemirror_mode": {
    "name": "ipython",
    "version": 3
   },
   "file_extension": ".py",
   "mimetype": "text/x-python",
   "name": "python",
   "nbconvert_exporter": "python",
   "pygments_lexer": "ipython3",
   "version": "3.10.2"
  }
 },
 "nbformat": 4,
 "nbformat_minor": 5
}
