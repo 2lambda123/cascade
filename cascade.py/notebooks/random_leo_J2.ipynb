{
 "cells": [
  {
   "cell_type": "code",
   "execution_count": null,
   "id": "c9ac0907-b4bc-4480-b33f-f28d8b3b34e0",
   "metadata": {},
   "outputs": [],
   "source": [
    "import cascade as csc\n",
    "import numpy as np\n",
    "import pykep as pk\n",
    "from copy import deepcopy\n",
    "from tqdm.notebook import tqdm\n",
    "import heyoka as hy"
   ]
  },
  {
   "cell_type": "code",
   "execution_count": null,
   "id": "adcdb1f9-8d2e-4c81-a2c4-e69976c95474",
   "metadata": {},
   "outputs": [],
   "source": [
    "nparts = 17378"
   ]
  },
  {
   "cell_type": "code",
   "execution_count": null,
   "id": "1097d14d-4f2f-42c4-a5f2-75a7af1c5315",
   "metadata": {},
   "outputs": [],
   "source": [
    "# Dynamical variables.\n",
    "x,y,z,vx,vy,vz = hy.make_vars(\"x\",\"y\",\"z\",\"vx\",\"vy\",\"vz\")\n",
    "\n",
    "# Constants.\n",
    "GMe = 3.986004407799724e+5\n",
    "C20 = -4.84165371736e-4\n",
    "Re = 6378.1363\n",
    "\n",
    "# Create Keplerian dynamics.\n",
    "dyn = csc.dynamics.kepler(mu = GMe)\n",
    "\n",
    "# Add the J2 terms.\n",
    "magR2 = hy.sum_sq([x, y, z])\n",
    "J2term1 = GMe*(Re**2)*np.sqrt(5)*C20/(2*magR2**(1./2))\n",
    "J2term2 = 3/(magR2**2)\n",
    "J2term3 = 15*(z**2)/(magR2**3)\n",
    "fJ2X = J2term1*x*(J2term2 - J2term3)\n",
    "fJ2Y = J2term1*y*(J2term2 - J2term3)\n",
    "fJ2Z = J2term1*z*(3*J2term2 - J2term3)\n",
    "dyn[3] = (dyn[3][0], dyn[3][1] + fJ2X)\n",
    "dyn[4] = (dyn[4][0], dyn[4][1] + fJ2Y)\n",
    "dyn[5] = (dyn[5][0], dyn[5][1] + fJ2Z)"
   ]
  },
  {
   "cell_type": "code",
   "execution_count": null,
   "id": "b0d27621-fda1-443f-9030-1f85f9dc573a",
   "metadata": {},
   "outputs": [],
   "source": [
    "dyn"
   ]
  },
  {
   "cell_type": "code",
   "execution_count": null,
   "id": "6d082454-ca39-4c63-a1aa-6066d3d27f3b",
   "metadata": {},
   "outputs": [],
   "source": [
    "rng = np.random.default_rng()\n",
    "\n",
    "x = []\n",
    "y = []\n",
    "z = []\n",
    "\n",
    "vx = []\n",
    "vy = []\n",
    "vz = []\n",
    "\n",
    "sizes = []\n",
    "\n",
    "for _ in range(nparts):\n",
    "    a = rng.uniform(1.02*Re, 1.3*Re)\n",
    "    e = rng.uniform(0, 0.02)\n",
    "    inc = rng.uniform(0, 0.05)\n",
    "    om = rng.uniform(0, 2*np.pi)\n",
    "    Om = rng.uniform(0, 2*np.pi)\n",
    "    nu = rng.uniform(0, 2*np.pi)\n",
    "    size = rng.uniform(1e-4, 1e-3)\n",
    "    \n",
    "    r, v = pk.par2ic([a, e, inc, om, Om, nu], GMe)\n",
    "    \n",
    "    x.append(r[0])\n",
    "    y.append(r[1])\n",
    "    z.append(r[2])\n",
    "\n",
    "    vx.append(v[0])\n",
    "    vy.append(v[1])\n",
    "    vz.append(v[2])\n",
    "    \n",
    "    sizes.append(size)\n",
    "\n",
    "sim = csc.sim(x,y,z,vx,vy,vz,sizes,0.23 * 806.81,dyn=dyn)"
   ]
  },
  {
   "cell_type": "code",
   "execution_count": null,
   "id": "2b2b12fd-6261-4d6e-81c8-edc85b1d615c",
   "metadata": {},
   "outputs": [],
   "source": [
    "final_t = 86400*365"
   ]
  },
  {
   "cell_type": "code",
   "execution_count": null,
   "id": "632075b9-bba5-4463-9e4b-f84c47cc5834",
   "metadata": {},
   "outputs": [],
   "source": [
    "pbar = tqdm(total=final_t)\n",
    "\n",
    "while sim.time < final_t:\n",
    "    orig_time = sim.time\n",
    "    \n",
    "    oc = sim.step()\n",
    "    \n",
    "    pbar.update(sim.time - orig_time)\n",
    "   \n",
    "    if oc == csc.outcome.collision:\n",
    "        # TODO different code needed for crash\n",
    "        # on Earth here.\n",
    "        pi, pj = sim.interrupt_info\n",
    "        \n",
    "        print(\"Collision detected, re-initing particles {} and {}\".format(pi, pj))\n",
    "        \n",
    "        new_x = deepcopy(sim.x)\n",
    "        new_y = deepcopy(sim.y)\n",
    "        new_z = deepcopy(sim.z)\n",
    "        \n",
    "        new_vx = deepcopy(sim.vx)\n",
    "        new_vy = deepcopy(sim.vy)\n",
    "        new_vz = deepcopy(sim.vz)\n",
    "        \n",
    "        new_sizes = deepcopy(sim.sizes)\n",
    "\n",
    "        for idx in [pi, pj]:\n",
    "            a = rng.uniform(1.02*Re, 1.3*Re)\n",
    "            e = rng.uniform(0, 0.02)\n",
    "            inc = rng.uniform(0, 0.05)\n",
    "            om = rng.uniform(0, 2*np.pi)\n",
    "            Om = rng.uniform(0, 2*np.pi)\n",
    "            nu = rng.uniform(0, 2*np.pi)\n",
    "            size = rng.uniform(1e-4, 1e-3)\n",
    "\n",
    "            r, v = pk.par2ic([a, e, inc, om, Om, nu], GMe)\n",
    "\n",
    "            new_x[idx] = r[0]\n",
    "            new_y[idx] = r[1]\n",
    "            new_z[idx] = r[2]\n",
    "\n",
    "            new_vx[idx] = v[0]\n",
    "            new_vy[idx] = v[1]\n",
    "            new_vz[idx] = v[2]\n",
    "            \n",
    "            new_sizes[idx] = size\n",
    "\n",
    "        sim.set_new_state(new_x, new_y, new_z, new_vx, new_vy, new_vz, new_sizes)\n",
    "\n",
    "pbar.close()\n",
    "del pbar"
   ]
  }
 ],
 "metadata": {
  "kernelspec": {
   "display_name": "Python 3 (ipykernel)",
   "language": "python",
   "name": "python3"
  },
  "language_info": {
   "codemirror_mode": {
    "name": "ipython",
    "version": 3
   },
   "file_extension": ".py",
   "mimetype": "text/x-python",
   "name": "python",
   "nbconvert_exporter": "python",
   "pygments_lexer": "ipython3",
   "version": "3.10.2"
  }
 },
 "nbformat": 4,
 "nbformat_minor": 5
}
