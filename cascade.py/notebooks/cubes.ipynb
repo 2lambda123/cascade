{
 "cells": [
  {
   "cell_type": "markdown",
   "id": "df6f314f",
   "metadata": {},
   "source": [
    "# Implementing the \"Cube\" approach"
   ]
  },
  {
   "cell_type": "code",
   "execution_count": 1,
   "id": "823509f4",
   "metadata": {},
   "outputs": [],
   "source": [
    "import pykep as pk\n",
    "import numpy as np\n",
    "import json\n",
    "import pickle as pkl\n",
    "\n",
    "from mpl_toolkits.mplot3d import Axes3D\n",
    "from matplotlib import pyplot as plt\n",
    "%matplotlib notebook\n",
    "\n",
    "import cascade as csc\n",
    "from copy import deepcopy\n",
    "from tqdm.notebook import tqdm\n",
    "import heyoka as hy\n",
    "\n",
    "# added for the Cube approach implementation\n",
    "from collections import defaultdict\n",
    "import time\n",
    "import sgp4\n",
    "from sgp4.api import Satrec, SatrecArray"
   ]
  },
  {
   "cell_type": "code",
   "execution_count": 2,
   "id": "fa3e5342",
   "metadata": {},
   "outputs": [],
   "source": [
    "with open(\"data/debris_simulation_ic.pk\", \"rb\") as file:\n",
    "    r_ic,v_ic,c_radius,to_satcat,satcat,debris = pkl.load(file)"
   ]
  },
  {
   "cell_type": "code",
   "execution_count": 3,
   "id": "3081632a",
   "metadata": {},
   "outputs": [],
   "source": [
    "def period(r,v, mu):\n",
    "    \"\"\"Computes the orbital period from the vis-viva equation\n",
    "\n",
    "    Args:\n",
    "        r (float): The radius (in L).\n",
    "        v (float): The velocity (in L/T).\n",
    "        mu (float): The gravitational parameter in L^3/T^2\n",
    "\n",
    "    Returns:\n",
    "        The orbital period (in T)\n",
    "    \"\"\"\n",
    "    En = v**2/2 - mu / r\n",
    "    a = -mu / En / 2\n",
    "    if a<0:\n",
    "        raise ValueError(\"Hyperbola!!!\")\n",
    "    return np.sqrt(a**3/mu)*2*np.pi"
   ]
  },
  {
   "cell_type": "code",
   "execution_count": 4,
   "id": "eefd8883",
   "metadata": {},
   "outputs": [],
   "source": [
    "def cubes(cartesian_points, cube_dimension):\n",
    "    \"\"\"Runs the Cube algorithm and returns satellites within the same cube\n",
    "\n",
    "    Args:\n",
    "        cartesian_points (Nx3 np.array): The cartesian position of the satellites (in L).\n",
    "        cube_dimension (float): The cube dimentsion (in L).\n",
    "\n",
    "    Returns:\n",
    "        a list containing lists of satelites idx occupying the same cube\n",
    "    \"\"\"\n",
    "    # init\n",
    "    retval = []\n",
    "    cubes = defaultdict(list)\n",
    "\n",
    "    # We compute the floored Cartesian coordinates identifying the bins.\n",
    "    pos = cartesian_points\n",
    "    pos = pos / cube_dimension\n",
    "    pos = np.floor(pos).astype(int)\n",
    "    # We fill the bins\n",
    "    for i, xyz in enumerate(pos):\n",
    "        cubes[tuple(xyz)].append(i)\n",
    "    # We find bins with more than one atellite\n",
    "    for key in cubes:\n",
    "        if len(cubes[key]) > 1:\n",
    "            retval.append(cubes[key])\n",
    "    return retval"
   ]
  },
  {
   "cell_type": "code",
   "execution_count": 5,
   "id": "d908c92d",
   "metadata": {},
   "outputs": [],
   "source": [
    "def simulate_sgp4(debris, sim_time=20,time_grid=5, t0 = 8073.603992389981):\n",
    "    \"\"\"Computes all satellites ephemerides on a time grid\n",
    "\n",
    "    Args:\n",
    "        debris (list of pk.planets): The objects to propagate.\n",
    "        sim_time (float): The total propagation time (in years).\n",
    "        time_grid(float): The time resolution (in days).\n",
    "        t0 (float): the starting epoch in mjd2000.\n",
    "\n",
    "    Returns:\n",
    "        a list containing lists of idx identifying the object occupying the same cube\n",
    "    \"\"\"\n",
    "    # This list will contain all the sgp4 Satrec objects\n",
    "    satellite_l = []\n",
    "    for deb in debris:\n",
    "        l1 = deb.line1\n",
    "        l2 = deb.line2\n",
    "        satellite_l.append(Satrec.twoline2rv(l1, l2))\n",
    "    # Here we build the vectorized version allowing for speed\n",
    "    satellites = SatrecArray(satellite_l)\n",
    "    jd0, fr = pk.epoch(t0).jd, 0.0\n",
    "    # The Julian dates are from jd0 to 20 years after\n",
    "    jds = jd0 + np.arange(0,sim_time*365.25/time_grid)*time_grid\n",
    "    frs = jds * 0\n",
    "    return satellites.sgp4(jds, frs)"
   ]
  },
  {
   "cell_type": "code",
   "execution_count": 6,
   "id": "88424dce",
   "metadata": {},
   "outputs": [
    {
     "name": "stdout",
     "output_type": "stream",
     "text": [
      "68 ms ± 604 µs per loop (mean ± std. dev. of 7 runs, 10 loops each)\n"
     ]
    }
   ],
   "source": [
    "%timeit cubes(r_ic / 1000, 10)"
   ]
  },
  {
   "cell_type": "code",
   "execution_count": 7,
   "id": "95408de3",
   "metadata": {},
   "outputs": [
    {
     "name": "stdout",
     "output_type": "stream",
     "text": [
      "Time elasped:  21.077648401260376\n"
     ]
    }
   ],
   "source": [
    "start = time.time()\n",
    "e,r,v = simulate_sgp4(np.array(debris)[to_satcat], sim_time=20,time_grid=5, t0 = 8073.603992389981+np.random.random()*5)\n",
    "end = time.time()\n",
    "print(\"Time elasped: \", end - start)"
   ]
  },
  {
   "cell_type": "code",
   "execution_count": 8,
   "id": "e707a031",
   "metadata": {
    "scrolled": false
   },
   "outputs": [
    {
     "name": "stdout",
     "output_type": "stream",
     "text": [
      "Collision! pair: [3328, 7009], years: 0.4517453798767967\n",
      "Collision! pair: [13649, 15915], years: 0.6844626967830253\n",
      "Collision! pair: [14085, 14154], years: 3.3675564681724848\n",
      "Collision! pair: [13319, 14347], years: 4.339493497604381\n",
      "Collision! pair: [12008, 16440], years: 6.652977412731006\n",
      "Collision! pair: [13222, 13925], years: 7.693360711841205\n",
      "Collision! pair: [13360, 14870], years: 9.678302532511978\n",
      "Collision! pair: [14120, 14713], years: 11.07460643394935\n",
      "Collision! pair: [7062, 15201], years: 11.594798083504449\n",
      "Collision! pair: [10347, 15379], years: 12.14236824093087\n",
      "Collision! pair: [13811, 13991], years: 12.4435318275154\n",
      "Collision! pair: [3938, 14782], years: 14.907597535934292\n",
      "Collision! pair: [1618, 14789], years: 15.66050650239562\n",
      "Time elasped:  118.71472120285034\n"
     ]
    }
   ],
   "source": [
    "# We assume all satellites are valid at the starting epoch\n",
    "start = time.time()\n",
    "undecayed = set(np.arange(r.shape[0]))\n",
    "for i in range(r.shape[1]):\n",
    "    Lcube = 10. #km\n",
    "    time_grid  = 5 #days\n",
    "    # If signalled from the sgp4, we remove the indices of the decayed satellites\n",
    "    decayed = set(np.where(e[:,i]>0)[0])\n",
    "    undecayed = undecayed - decayed\n",
    "    undecayed_l = np.array([j for j in undecayed])\n",
    "    # We detect all satellites couples in the same cube of Lcube km size\n",
    "    collision = cubes(r[undecayed_l,i,:], cube_dimension = Lcube)\n",
    "    for pair in collision:\n",
    "        # we get the indexes in r,v\n",
    "        idx1 = undecayed_l[pair[0]]\n",
    "        idx2 = undecayed_l[pair[1]]\n",
    "        # we store positions and velocities from r,v\n",
    "        r1 = r[idx1,i,:]\n",
    "        r2 = r[idx2,i,:]\n",
    "        v1 = v[idx1,i,:]\n",
    "        v2 = v[idx2,i,:]\n",
    "        # we get the collision radiu from debris (indexed differently hence to_satcat is used)\n",
    "        c_radius1 = debris[to_satcat[idx1]].collision_radius\n",
    "        c_radius2 = debris[to_satcat[idx2]].collision_radius\n",
    "        # Relative velocity \n",
    "        Vrel = np.linalg.norm(v1-v2)\n",
    "        # Collisional area of the couple (in km^2)\n",
    "        sigma = np.pi*((c_radius1+c_radius2)/1000)**2 \n",
    "        # Volume of the cube (km^3)\n",
    "        U = Lcube**3\n",
    "        # We compute the spatial densities\n",
    "        # Time spent in the cube (nd)\n",
    "        tau1 = Lcube / np.linalg.norm(v1)\n",
    "        tau2 = Lcube / np.linalg.norm(v2)\n",
    "        # Orbital periods (s)\n",
    "        T1 = period(np.linalg.norm(r1*1000),np.linalg.norm(v1*1000), pk.MU_EARTH)\n",
    "        T2 = period(np.linalg.norm(r2*1000), np.linalg.norm(v2*1000), pk.MU_EARTH)\n",
    "        # densities (from \"Assessing collision algorithms for the newspace era\" )\n",
    "        s1 = 1./U\n",
    "        s2 = 1./U\n",
    "        # collision probability\n",
    "        Pij = s1*s2*Vrel*sigma*U*time_grid*pk.DAY2SEC\n",
    "        # Store\n",
    "        if Pij > np.random.random():\n",
    "            print(f\"Collision! pair: {pair}, years: {i*5/365.25}\")\n",
    "end = time.time()\n",
    "print(\"Time elasped: \", end - start)"
   ]
  }
 ],
 "metadata": {
  "kernelspec": {
   "display_name": "Python 3 (ipykernel)",
   "language": "python",
   "name": "python3"
  },
  "language_info": {
   "codemirror_mode": {
    "name": "ipython",
    "version": 3
   },
   "file_extension": ".py",
   "mimetype": "text/x-python",
   "name": "python",
   "nbconvert_exporter": "python",
   "pygments_lexer": "ipython3",
   "version": "3.10.4"
  }
 },
 "nbformat": 4,
 "nbformat_minor": 5
}
