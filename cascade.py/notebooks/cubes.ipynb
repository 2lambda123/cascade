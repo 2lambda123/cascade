{
 "cells": [
  {
   "cell_type": "code",
   "execution_count": null,
   "id": "32805704",
   "metadata": {},
   "outputs": [],
   "source": [
    "# Implementing the \"Cube\" approach"
   ]
  },
  {
   "cell_type": "code",
   "execution_count": 26,
   "id": "823509f4",
   "metadata": {},
   "outputs": [],
   "source": [
    "import pykep as pk\n",
    "import numpy as np\n",
    "import json\n",
    "import pickle as pkl\n",
    "\n",
    "from mpl_toolkits.mplot3d import Axes3D\n",
    "from matplotlib import pyplot as plt\n",
    "%matplotlib notebook\n",
    "\n",
    "import cascade as csc\n",
    "from copy import deepcopy\n",
    "from tqdm.notebook import tqdm\n",
    "import heyoka as hy\n",
    "\n",
    "# added for the Cube approach implementation\n",
    "from collections import defaultdict\n",
    "import time\n",
    "import sgp4\n",
    "from sgp4.api import Satrec, SatrecArray"
   ]
  },
  {
   "cell_type": "code",
   "execution_count": 2,
   "id": "fa3e5342",
   "metadata": {},
   "outputs": [],
   "source": [
    "with open(\"data/debris_simulation_ic.pk\", \"rb\") as file:\n",
    "    r_ic,v_ic,c_radius,to_satcat,satcat,debris = pkl.load(file)"
   ]
  },
  {
   "cell_type": "code",
   "execution_count": 3,
   "id": "eefd8883",
   "metadata": {},
   "outputs": [
    {
     "name": "stdout",
     "output_type": "stream",
     "text": [
      "bin is: [4854, 6471]\n",
      "bin is: [15565, 15577]\n",
      "Time elasped:  0.08951830863952637\n"
     ]
    }
   ],
   "source": [
    "cube_dimension = 10 # in km\n",
    "start = time.time()\n",
    "# Transform satellite positions r_ic (in SI) to Km\n",
    "pos = r_ic / 1000\n",
    "pos = pos / cube_dimension\n",
    "cubes = defaultdict(list)\n",
    "pos = np.floor(pos).astype(int)\n",
    "# We fill the bins\n",
    "for i, xyz in enumerate(pos):\n",
    "    cubes[tuple(xyz)].append(i)\n",
    "# We find te bins with more than one entry\n",
    "for key in cubes:\n",
    "    if len(cubes[key]) > 1:\n",
    "        print(\"bin is:\", cubes[key])\n",
    "end = time.time()\n",
    "print(\"Time elasped: \", end - start)"
   ]
  },
  {
   "cell_type": "code",
   "execution_count": 29,
   "id": "738ac63d",
   "metadata": {},
   "outputs": [],
   "source": [
    "t0 = 8073.603992389981 #mjd2000"
   ]
  },
  {
   "cell_type": "code",
   "execution_count": 4,
   "id": "cc333bbf",
   "metadata": {},
   "outputs": [
    {
     "name": "stdout",
     "output_type": "stream",
     "text": [
      "Time elasped:  0.08301925659179688\n"
     ]
    }
   ],
   "source": [
    "t_curr = t0+5\n",
    "start = time.time()\n",
    "\n",
    "for deb in debris:\n",
    "    try:\n",
    "        r,v = deb.eph(t_curr)\n",
    "    except:\n",
    "        pass\n",
    "end = time.time()\n",
    "print(\"Time elasped: \", end - start)"
   ]
  },
  {
   "cell_type": "code",
   "execution_count": 31,
   "id": "d908c92d",
   "metadata": {},
   "outputs": [],
   "source": [
    "# This list will contain all the sgp4 Satrec objects\n",
    "satellite_l = []\n",
    "for deb in debris:\n",
    "    l1 = deb.line1\n",
    "    l2 = deb.line2\n",
    "    satellite_l.append(Satrec.twoline2rv(l1, l2))\n",
    "# Here we build the vectorized version allowing for speed\n",
    "satellites = SatrecArray(satellite_l)\n",
    "jd0, fr = pk.epoch(t0).jd, 0.0"
   ]
  },
  {
   "cell_type": "code",
   "execution_count": 39,
   "id": "08d50401",
   "metadata": {},
   "outputs": [],
   "source": [
    "# Simulation time (years)\n",
    "sim_time = 20\n",
    "# Time steps (days)\n",
    "time_grid = 5\n",
    "# The Julian dates are from jd0 to 20 years after\n",
    "jds = jd0 + np.arange(0,sim_time*365.25/time_grid)*time_grid\n",
    "frs = jds * 0"
   ]
  },
  {
   "cell_type": "code",
   "execution_count": 40,
   "id": "1c67c94f",
   "metadata": {},
   "outputs": [
    {
     "name": "stdout",
     "output_type": "stream",
     "text": [
      "Time elasped:  32.45260715484619\n"
     ]
    }
   ],
   "source": [
    "start = time.time()\n",
    "e, r, v = satellites.sgp4(jds, frs)\n",
    "end = time.time()\n",
    "print(\"Time elasped: \", end - start)"
   ]
  },
  {
   "cell_type": "code",
   "execution_count": 95,
   "id": "616d5b19",
   "metadata": {},
   "outputs": [
    {
     "data": {
      "text/plain": [
       "(array([ 9060, 11626, 13094, 17376, 18679, 20694, 21640, 21705, 21784,\n",
       "        21839, 21889, 21949, 21985, 22012, 22084, 22166, 22260, 22304,\n",
       "        22991, 22992, 22993, 22994, 23066, 23122, 23160, 23209]),)"
      ]
     },
     "execution_count": 95,
     "metadata": {},
     "output_type": "execute_result"
    }
   ],
   "source": [
    "np.where(e[:,0]>0)\n"
   ]
  },
  {
   "cell_type": "code",
   "execution_count": 115,
   "id": "aa13a88c",
   "metadata": {},
   "outputs": [
    {
     "data": {
      "text/plain": [
       "array([0, 0, 0, ..., 0, 0, 0], dtype=uint8)"
      ]
     },
     "execution_count": 115,
     "metadata": {},
     "output_type": "execute_result"
    }
   ],
   "source": [
    "e[0]"
   ]
  },
  {
   "cell_type": "code",
   "execution_count": 102,
   "id": "6d0f6e45",
   "metadata": {},
   "outputs": [
    {
     "data": {
      "text/plain": [
       "array([6, 6, 0, ..., 0, 0, 0], dtype=uint8)"
      ]
     },
     "execution_count": 102,
     "metadata": {},
     "output_type": "execute_result"
    }
   ],
   "source": [
    "e[11626,:]"
   ]
  },
  {
   "cell_type": "code",
   "execution_count": 112,
   "id": "ed1d5ec9",
   "metadata": {},
   "outputs": [
    {
     "data": {
      "text/plain": [
       "array([-1.66942363e+25, -7.07969626e+24, -6.28793769e+25])"
      ]
     },
     "execution_count": 112,
     "metadata": {},
     "output_type": "execute_result"
    }
   ],
   "source": []
  },
  {
   "cell_type": "code",
   "execution_count": 69,
   "id": "540d62ff",
   "metadata": {},
   "outputs": [
    {
     "data": {
      "text/plain": [
       "array([ 2640.22338337, -4350.63060018, -3825.20864426])"
      ]
     },
     "execution_count": 69,
     "metadata": {},
     "output_type": "execute_result"
    }
   ],
   "source": [
    "r[16,1066,:]"
   ]
  },
  {
   "cell_type": "code",
   "execution_count": 70,
   "id": "d5fc4876",
   "metadata": {},
   "outputs": [],
   "source": [
    "from sgp4.api import SGP4_ERRORS"
   ]
  },
  {
   "cell_type": "code",
   "execution_count": 96,
   "id": "ebb79583",
   "metadata": {},
   "outputs": [
    {
     "data": {
      "text/plain": [
       "'mrt is less than 1.0 which indicates the satellite has decayed'"
      ]
     },
     "execution_count": 96,
     "metadata": {},
     "output_type": "execute_result"
    }
   ],
   "source": [
    "SGP4_ERRORS[6]"
   ]
  },
  {
   "cell_type": "code",
   "execution_count": null,
   "id": "e707a031",
   "metadata": {},
   "outputs": [],
   "source": []
  }
 ],
 "metadata": {
  "kernelspec": {
   "display_name": "Python 3 (ipykernel)",
   "language": "python",
   "name": "python3"
  },
  "language_info": {
   "codemirror_mode": {
    "name": "ipython",
    "version": 3
   },
   "file_extension": ".py",
   "mimetype": "text/x-python",
   "name": "python",
   "nbconvert_exporter": "python",
   "pygments_lexer": "ipython3",
   "version": "3.10.4"
  }
 },
 "nbformat": 4,
 "nbformat_minor": 5
}
