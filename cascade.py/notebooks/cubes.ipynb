{
 "cells": [
  {
   "cell_type": "markdown",
   "id": "77367d60",
   "metadata": {},
   "source": [
    "# Implementing the \"Cube\" approach"
   ]
  },
  {
   "cell_type": "code",
   "execution_count": 1,
   "id": "823509f4",
   "metadata": {},
   "outputs": [],
   "source": [
    "import pykep as pk\n",
    "import numpy as np\n",
    "import json\n",
    "import pickle as pkl\n",
    "\n",
    "from mpl_toolkits.mplot3d import Axes3D\n",
    "from matplotlib import pyplot as plt\n",
    "%matplotlib notebook\n",
    "\n",
    "import cascade as csc\n",
    "from copy import deepcopy\n",
    "from tqdm.notebook import tqdm\n",
    "import heyoka as hy\n",
    "\n",
    "# added for the Cube approach implementation\n",
    "from collections import defaultdict\n",
    "import time\n",
    "import sgp4\n",
    "from sgp4.api import Satrec, SatrecArray"
   ]
  },
  {
   "cell_type": "code",
   "execution_count": 2,
   "id": "fa3e5342",
   "metadata": {},
   "outputs": [],
   "source": [
    "with open(\"data/debris_simulation_ic.pk\", \"rb\") as file:\n",
    "    r_ic,v_ic,reentry_radius,to_satcat,satcat,debris = pkl.load(file)"
   ]
  },
  {
   "cell_type": "code",
   "execution_count": 3,
   "id": "3081632a",
   "metadata": {},
   "outputs": [],
   "source": [
    "def period(r,v, mu):\n",
    "    \"\"\"Computes the orbital period from the vis-viva equation\n",
    "\n",
    "    Args:\n",
    "        r (float): The radius (in L).\n",
    "        v (float): The velocity (in L/T).\n",
    "        mu (float): The gravitational parameter in L^3/T^2\n",
    "\n",
    "    Returns:\n",
    "        The orbital period (in T)\n",
    "    \"\"\"\n",
    "    En = v**2/2 - mu / r\n",
    "    a = -mu / En / 2\n",
    "    if a<0:\n",
    "        raise ValueError(\"Hyperbola!!!\")\n",
    "    return np.sqrt(a**3/mu)*2*np.pi"
   ]
  },
  {
   "cell_type": "code",
   "execution_count": 4,
   "id": "eefd8883",
   "metadata": {},
   "outputs": [],
   "source": [
    "def cubes(cartesian_points, cube_dimension):\n",
    "    \"\"\"Runs the Cube algorithm and returns satellites within the same cube\n",
    "\n",
    "    Args:\n",
    "        cartesian_points (Nx3 np.array): The cartesian position of the satellites (in L).\n",
    "        cube_dimension (float): The cube dimentsion (in L).\n",
    "\n",
    "    Returns:\n",
    "        a list containing lists of satelites idx occupying the same cube\n",
    "    \"\"\"\n",
    "    # init\n",
    "    retval = []\n",
    "    cubes = defaultdict(list)\n",
    "\n",
    "    # We compute the floored Cartesian coordinates identifying the bins.\n",
    "    pos = cartesian_points\n",
    "    pos = pos / cube_dimension\n",
    "    pos = np.floor(pos).astype(int)\n",
    "    # We fill the bins\n",
    "    for i, xyz in enumerate(pos):\n",
    "        cubes[tuple(xyz)].append(i)\n",
    "    # We find bins with more than one atellite\n",
    "    for key in cubes:\n",
    "        if len(cubes[key]) > 1:\n",
    "            retval.append(cubes[key])\n",
    "    return retval"
   ]
  },
  {
   "cell_type": "code",
   "execution_count": 5,
   "id": "d908c92d",
   "metadata": {},
   "outputs": [],
   "source": [
    "def simulate_sgp4(debris, sim_time=20,time_grid=5, t0 = 8073.603992389981):\n",
    "    \"\"\"Computes all satellites ephemerides on a time grid\n",
    "\n",
    "    Args:\n",
    "        debris (list of pk.planets): The objects to propagate.\n",
    "        sim_time (float): The total propagation time (in years).\n",
    "        time_grid(float): The time resolution (in days).\n",
    "        t0 (float): the starting epoch in mjd2000.\n",
    "\n",
    "    Returns:\n",
    "        a list containing lists of idx identifying the object occupying the same cube\n",
    "    \"\"\"\n",
    "    # This list will contain all the sgp4 Satrec objects\n",
    "    satellite_l = []\n",
    "    for deb in debris:\n",
    "        l1 = deb.line1\n",
    "        l2 = deb.line2\n",
    "        satellite_l.append(Satrec.twoline2rv(l1, l2))\n",
    "    # Here we build the vectorized version allowing for speed\n",
    "    satellites = SatrecArray(satellite_l)\n",
    "    jd0, fr = pk.epoch(t0).jd, 0.0\n",
    "    # The Julian dates are from jd0 to 20 years after\n",
    "    jds = jd0 + np.arange(0,sim_time*365.25/time_grid)*time_grid\n",
    "    frs = jds * 0\n",
    "    return satellites.sgp4(jds, frs)"
   ]
  },
  {
   "cell_type": "code",
   "execution_count": 6,
   "id": "88424dce",
   "metadata": {},
   "outputs": [
    {
     "name": "stdout",
     "output_type": "stream",
     "text": [
      "68 ms ± 604 µs per loop (mean ± std. dev. of 7 runs, 10 loops each)\n"
     ]
    }
   ],
   "source": [
    "%timeit cubes(r_ic / 1000, 10)"
   ]
  },
  {
   "cell_type": "code",
   "execution_count": 34,
   "id": "95408de3",
   "metadata": {},
   "outputs": [
    {
     "name": "stdout",
     "output_type": "stream",
     "text": [
      "Time elasped:  21.40488290786743\n",
      "objects dacayed: (19669, 1461)\n"
     ]
    }
   ],
   "source": [
    "start = time.time()\n",
    "e,r,v = simulate_sgp4(np.array(debris)[to_satcat], sim_time=20,time_grid=5, t0 = 8073.603992389981+np.random.random()*5)\n",
    "end = time.time()\n",
    "print(\"Time elasped: \", end - start)\n"
   ]
  },
  {
   "cell_type": "code",
   "execution_count": 64,
   "id": "e707a031",
   "metadata": {
    "scrolled": false
   },
   "outputs": [
    {
     "name": "stdout",
     "output_type": "stream",
     "text": [
      "Collision! pair: (3213, 17226), years: 0.39698836413415467\n",
      "Collision! pair: (14908, 16282), years: 0.4791238877481177\n",
      "Collision! pair: (13293, 13974), years: 0.6707734428473648\n",
      "Collision! pair: (14247, 15272), years: 0.6844626967830253\n",
      "Collision! pair: (12256, 18366), years: 0.9582477754962354\n",
      "Collision! pair: (15288, 15669), years: 1.3278576317590691\n",
      "Collision! pair: (14803, 16187), years: 1.3826146475017111\n",
      "Collision! pair: (3182, 6134), years: 1.5468856947296372\n",
      "Collision! pair: (2949, 16092), years: 2.409308692676249\n",
      "Collision! pair: (13977, 15025), years: 2.7789185489390826\n",
      "Collision! pair: (13511, 14594), years: 2.8884325804243667\n",
      "Collision! pair: (6365, 13928), years: 3.969883641341547\n",
      "Collision! pair: (13291, 15034), years: 4.134154688569473\n",
      "Collision! pair: (2711, 11763), years: 5.037645448323066\n",
      "Collision! pair: (5665, 16142), years: 6.598220396988364\n",
      "Collision! pair: (1017, 12480), years: 7.214236824093087\n",
      "Collision! pair: (13274, 13894), years: 7.57015742642026\n",
      "Collision! pair: (2388, 14040), years: 8.295687885010267\n",
      "Collision! pair: (1396, 9169), years: 13.045859000684462\n",
      "Collision! pair: (5448, 14350), years: 14.33264887063655\n",
      "Collision! pair: (9867, 12512), years: 14.496919917864476\n",
      "Collision! pair: (12812, 13744), years: 14.89390828199863\n",
      "Collision! pair: (7832, 11563), years: 15.1129363449692\n",
      "Collision! pair: (7313, 11770), years: 15.263518138261464\n",
      "Collision! pair: (12097, 13574), years: 15.550992470910336\n",
      "Collision! pair: (5673, 13027), years: 15.92060232717317\n",
      "Collision! pair: (4830, 14611), years: 16.577686516084874\n",
      "Collision! pair: (12659, 13926), years: 16.960985626283367\n",
      "Collision! pair: (11535, 11887), years: 19.137577002053387\n",
      "Time elasped:  38.26705455780029\n",
      "Decayed objects:  4985\n",
      "Number of collisions:  29\n"
     ]
    }
   ],
   "source": [
    "# We assume all satellites are valid at the starting epoch\n",
    "start = time.time()\n",
    "undecayed = set(np.arange(r.shape[0]))\n",
    "n_collisions=0\n",
    "for i in range(r.shape[1]):\n",
    "    Lcube = 10. #km\n",
    "    time_grid  = 5 #days\n",
    "    # If signalled from the sgp4, we remove the indices of the decayed satellites\n",
    "    decayed = set(np.where(e[:,i]>0)[0])\n",
    "    undecayed = undecayed - decayed\n",
    "    undecayed_l = np.array([j for j in undecayed])\n",
    "    # We detect all satellites couples in the same cube of Lcube km size\n",
    "    collision = cubes(r[undecayed_l,i,:], cube_dimension = Lcube)\n",
    "    #kdt = KDTree(r[undecayed_l,i,:])\n",
    "    #collision = list(kdt.query_pairs(Lcube))\n",
    "    #print(collision)\n",
    "    for pair in collision:\n",
    "        # we get the indexes in r,v\n",
    "        idx1 = undecayed_l[pair[0]]\n",
    "        idx2 = undecayed_l[pair[1]]\n",
    "        # we store positions and velocities from r,v\n",
    "        r1 = r[idx1,i,:]\n",
    "        r2 = r[idx2,i,:]\n",
    "        v1 = v[idx1,i,:]\n",
    "        v2 = v[idx2,i,:]\n",
    "        # we get the collision radiu from debris (indexed differently hence to_satcat is used)\n",
    "        reentry_radius1 = debris[to_satcat[idx1]].collision_radius\n",
    "        reentry_radius2 = debris[to_satcat[idx2]].collision_radius\n",
    "        # Relative velocity \n",
    "        Vrel = np.linalg.norm(v1-v2)\n",
    "        # Collisional area of the couple (in km^2)\n",
    "        sigma = np.pi*((reentry_radius1+reentry_radius2)/1000)**2 \n",
    "        # Volume of the cube (km^3)\n",
    "        U = (Lcube)**3\n",
    "        # We compute the spatial densities\n",
    "        # densities (from \"Assessing collision algorithms for the newspace era\" )\n",
    "        s1 = 1./U\n",
    "        s2 = 1./U\n",
    "        # collision probability\n",
    "        Pij = s1*s2*Vrel*sigma*U*time_grid*pk.DAY2SEC\n",
    "        # Store\n",
    "        if Pij > np.random.random():\n",
    "            print(f\"Collision! pair: {pair}, years: {i*5/365.25}\")\n",
    "            n_collisions+=1\n",
    "end = time.time()\n",
    "print(\"Time elasped: \", end - start)\n",
    "print(\"Decayed objects: \", r_ic.shape[0] - len(undecayed))\n",
    "print(\"Number of collisions: \", n_collisions)"
   ]
  },
  {
   "cell_type": "code",
   "execution_count": 39,
   "id": "98b02e3a",
   "metadata": {},
   "outputs": [
    {
     "data": {
      "text/plain": [
       "4985"
      ]
     },
     "execution_count": 39,
     "metadata": {},
     "output_type": "execute_result"
    }
   ],
   "source": [
    "r_ic.shape[0] - len(undecayed)"
   ]
  },
  {
   "cell_type": "code",
   "execution_count": 38,
   "id": "87f94d87",
   "metadata": {},
   "outputs": [
    {
     "data": {
      "text/plain": [
       "(19669, 3)"
      ]
     },
     "execution_count": 38,
     "metadata": {},
     "output_type": "execute_result"
    }
   ],
   "source": [
    "r_ic.shape"
   ]
  },
  {
   "cell_type": "code",
   "execution_count": 30,
   "id": "e6a1c59f",
   "metadata": {},
   "outputs": [],
   "source": [
    "q = mp.Queue()"
   ]
  },
  {
   "cell_type": "code",
   "execution_count": 31,
   "id": "2e4a7fc0",
   "metadata": {},
   "outputs": [],
   "source": [
    "q.put(2.)"
   ]
  },
  {
   "cell_type": "code",
   "execution_count": 32,
   "id": "2893d263",
   "metadata": {},
   "outputs": [],
   "source": [
    "q.put(23.9)"
   ]
  },
  {
   "cell_type": "code",
   "execution_count": 33,
   "id": "ba1588cd",
   "metadata": {},
   "outputs": [
    {
     "ename": "TypeError",
     "evalue": "'Queue' object is not iterable",
     "output_type": "error",
     "traceback": [
      "\u001b[0;31m---------------------------------------------------------------------------\u001b[0m",
      "\u001b[0;31mTypeError\u001b[0m                                 Traceback (most recent call last)",
      "Input \u001b[0;32mIn [33]\u001b[0m, in \u001b[0;36m<cell line: 1>\u001b[0;34m()\u001b[0m\n\u001b[0;32m----> 1\u001b[0m \u001b[38;5;28;43mlist\u001b[39;49m\u001b[43m(\u001b[49m\u001b[43mq\u001b[49m\u001b[43m)\u001b[49m\n",
      "\u001b[0;31mTypeError\u001b[0m: 'Queue' object is not iterable"
     ]
    }
   ],
   "source": [
    "list(q)"
   ]
  },
  {
   "cell_type": "code",
   "execution_count": 42,
   "id": "0c272ca9",
   "metadata": {},
   "outputs": [],
   "source": [
    "from scipy.spatial import KDTree"
   ]
  },
  {
   "cell_type": "code",
   "execution_count": 45,
   "id": "2b03ec87",
   "metadata": {},
   "outputs": [],
   "source": [
    "kd = KDTree(r_ic/1000)"
   ]
  },
  {
   "cell_type": "code",
   "execution_count": 52,
   "id": "0c362af5",
   "metadata": {},
   "outputs": [
    {
     "data": {
      "text/plain": [
       "[(16909, 16931),\n",
       " (5092, 6507),\n",
       " (7538, 9580),\n",
       " (18380, 18837),\n",
       " (17397, 17399),\n",
       " (18670, 18672),\n",
       " (18474, 18478),\n",
       " (18635, 18636),\n",
       " (4854, 6471),\n",
       " (15565, 15577)]"
      ]
     },
     "execution_count": 52,
     "metadata": {},
     "output_type": "execute_result"
    }
   ],
   "source": [
    "list(kd.query_pairs(10))"
   ]
  },
  {
   "cell_type": "code",
   "execution_count": 47,
   "id": "30fd6cc7",
   "metadata": {},
   "outputs": [
    {
     "data": {
      "text/plain": [
       "[[4854, 6471], [15565, 15577]]"
      ]
     },
     "execution_count": 47,
     "metadata": {},
     "output_type": "execute_result"
    }
   ],
   "source": [
    "cubes(r_ic/1000, 10)"
   ]
  },
  {
   "cell_type": "code",
   "execution_count": 57,
   "id": "291550c7",
   "metadata": {},
   "outputs": [
    {
     "data": {
      "text/plain": [
       "0.5235987755982988"
      ]
     },
     "execution_count": 57,
     "metadata": {},
     "output_type": "execute_result"
    }
   ],
   "source": [
    "4/3*np.pi/8"
   ]
  },
  {
   "cell_type": "code",
   "execution_count": null,
   "id": "4068b258",
   "metadata": {},
   "outputs": [],
   "source": []
  }
 ],
 "metadata": {
  "kernelspec": {
   "display_name": "Python 3 (ipykernel)",
   "language": "python",
   "name": "python3"
  },
  "language_info": {
   "codemirror_mode": {
    "name": "ipython",
    "version": 3
   },
   "file_extension": ".py",
   "mimetype": "text/x-python",
   "name": "python",
   "nbconvert_exporter": "python",
   "pygments_lexer": "ipython3",
   "version": "3.10.4"
  }
 },
 "nbformat": 4,
 "nbformat_minor": 5
}
