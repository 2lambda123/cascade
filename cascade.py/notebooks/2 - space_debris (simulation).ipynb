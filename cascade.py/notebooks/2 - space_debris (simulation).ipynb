{
 "cells": [
  {
   "cell_type": "code",
   "execution_count": 2,
   "id": "c9b316b3-8d04-4b55-8395-54be3213bd03",
   "metadata": {},
   "outputs": [],
   "source": [
    "import pykep as pk\n",
    "import numpy as np\n",
    "import json\n",
    "import pickle as pkl\n",
    "\n",
    "from mpl_toolkits.mplot3d import Axes3D\n",
    "from matplotlib import pyplot as plt\n",
    "%matplotlib notebook"
   ]
  },
  {
   "cell_type": "code",
   "execution_count": 3,
   "id": "509d978f-c0b2-422d-9c0b-fbe4cfdc7642",
   "metadata": {},
   "outputs": [],
   "source": [
    "import cascade as csc\n",
    "from copy import deepcopy\n",
    "from tqdm.notebook import tqdm\n",
    "import heyoka as hy"
   ]
  },
  {
   "cell_type": "markdown",
   "id": "3a5f6485",
   "metadata": {},
   "source": [
    "# We import the simulation initial conditions and atmospheric density model\n",
    "The files needed are:\n",
    "* debris_simulation_ic.pk - created by the notebook 1\n",
    "* best_fit_density.pk - created by the notebook 1b"
   ]
  },
  {
   "cell_type": "code",
   "execution_count": 4,
   "id": "f8d177c2",
   "metadata": {},
   "outputs": [],
   "source": [
    "with open(\"data/debris_simulation_ic.pk\", \"rb\") as file:\n",
    "    r,v,c_radiusl,to_satcat_index,satcat,debris = pkl.load(file)"
   ]
  },
  {
   "cell_type": "code",
   "execution_count": 5,
   "id": "2ba19b6d",
   "metadata": {},
   "outputs": [],
   "source": [
    "with open(\"data/best_fit_density.pk\", \"rb\") as file:\n",
    "    x_best = pkl.load(file)"
   ]
  },
  {
   "cell_type": "code",
   "execution_count": 6,
   "id": "2355d0e1",
   "metadata": {},
   "outputs": [],
   "source": [
    "def compute_density(h_in_km, best_x):\n",
    "    \"\"\"\n",
    "    returns the heyoka expression for the atmosheric density in kg.m^3. Input is the altitude in km.\n",
    "    \"\"\"\n",
    "    p1 = np.array(best_x[:4])\n",
    "    p2 = np.array(best_x[4:8])\n",
    "    p3 = np.array(best_x[8:])\n",
    "    retval = 0.\n",
    "    for alpha,beta, gamma in zip(p1,p2, p3):\n",
    "        retval += alpha*hy.exp(-(h_in_km-gamma)*beta)\n",
    "    return retval"
   ]
  },
  {
   "cell_type": "markdown",
   "id": "371dd3c3",
   "metadata": {},
   "source": [
    "# We build the dynamical system we want to integrate"
   ]
  },
  {
   "cell_type": "code",
   "execution_count": 24,
   "id": "9b41f604-f7cf-451d-a460-fff38078cc00",
   "metadata": {},
   "outputs": [],
   "source": [
    "# Dynamical variables.\n",
    "x,y,z,vx,vy,vz = hy.make_vars(\"x\",\"y\",\"z\",\"vx\",\"vy\",\"vz\")\n",
    "\n",
    "# Constants.\n",
    "GMe = pk.MU_EARTH\n",
    "C20 = -4.84165371736e-4\n",
    "Re = pk.EARTH_RADIUS\n",
    "\n",
    "# Create Keplerian dynamics.\n",
    "dyn = csc.dynamics.kepler(mu = GMe)\n",
    "\n",
    "# Add the J2 terms.\n",
    "magR2 = hy.sum_sq([x, y, z])\n",
    "J2term1 = GMe*(Re**2)*np.sqrt(5)*C20/(2*magR2**(1./2))\n",
    "J2term2 = 3/(magR2**2)\n",
    "J2term3 = 15*(z**2)/(magR2**3)\n",
    "fJ2X = J2term1*x*(J2term2 - J2term3)\n",
    "fJ2Y = J2term1*y*(J2term2 - J2term3)\n",
    "fJ2Z = J2term1*z*(3*J2term2 - J2term3)\n",
    "dyn[3] = (dyn[3][0], dyn[3][1] + fJ2X)\n",
    "dyn[4] = (dyn[4][0], dyn[4][1] + fJ2Y)\n",
    "dyn[5] = (dyn[5][0], dyn[5][1] + fJ2Z)"
   ]
  },
  {
   "cell_type": "code",
   "execution_count": null,
   "id": "39e1bbd7",
   "metadata": {},
   "outputs": [],
   "source": []
  },
  {
   "cell_type": "code",
   "execution_count": 25,
   "id": "551e128d-b4cc-4b31-8553-ddf36b68aee4",
   "metadata": {},
   "outputs": [],
   "source": [
    "rarr = np.array(r)\n",
    "varr = np.array(v)"
   ]
  },
  {
   "cell_type": "code",
   "execution_count": 26,
   "id": "a7759ac8-21f2-41b2-a064-a32a559a4e2c",
   "metadata": {},
   "outputs": [
    {
     "name": "stdout",
     "output_type": "stream",
     "text": [
      "[2022-01-31 15:02:44.925] [cascade] [info] cascade logger initialised\n"
     ]
    }
   ],
   "source": [
    "sim = csc.sim(rarr[:,0],rarr[:,1],rarr[:,2],varr[:,0],varr[:,1],varr[:,2],radius,0.23 * 806.81,dyn=dyn)"
   ]
  },
  {
   "cell_type": "code",
   "execution_count": 29,
   "id": "8c37507d-22ec-478b-8846-cacc82cff608",
   "metadata": {},
   "outputs": [],
   "source": [
    "final_t = 86400*365"
   ]
  },
  {
   "cell_type": "code",
   "execution_count": 30,
   "id": "345f1edd-5341-4b85-b460-21ca7938563b",
   "metadata": {},
   "outputs": [
    {
     "data": {
      "application/vnd.jupyter.widget-view+json": {
       "model_id": "9e10abfcc2b941e099d1f1ae8291e8e7",
       "version_major": 2,
       "version_minor": 0
      },
      "text/plain": [
       "  0%|          | 0/31536000 [00:00<?, ?it/s]"
      ]
     },
     "metadata": {},
     "output_type": "display_data"
    },
    {
     "name": "stdout",
     "output_type": "stream",
     "text": [
      "Collision detected, re-initing particles 13936 and 15415\n"
     ]
    },
    {
     "ename": "NameError",
     "evalue": "name 'rng' is not defined",
     "output_type": "error",
     "traceback": [
      "\u001b[0;31m---------------------------------------------------------------------------\u001b[0m",
      "\u001b[0;31mNameError\u001b[0m                                 Traceback (most recent call last)",
      "Input \u001b[0;32mIn [30]\u001b[0m, in \u001b[0;36m<module>\u001b[0;34m\u001b[0m\n\u001b[1;32m     25\u001b[0m new_sizes \u001b[38;5;241m=\u001b[39m deepcopy(sim\u001b[38;5;241m.\u001b[39msizes)\n\u001b[1;32m     27\u001b[0m \u001b[38;5;28;01mfor\u001b[39;00m idx \u001b[38;5;129;01min\u001b[39;00m [pi, pj]:\n\u001b[0;32m---> 28\u001b[0m     a \u001b[38;5;241m=\u001b[39m \u001b[43mrng\u001b[49m\u001b[38;5;241m.\u001b[39muniform(\u001b[38;5;241m1.02\u001b[39m\u001b[38;5;241m*\u001b[39mRe, \u001b[38;5;241m1.3\u001b[39m\u001b[38;5;241m*\u001b[39mRe)\n\u001b[1;32m     29\u001b[0m     e \u001b[38;5;241m=\u001b[39m rng\u001b[38;5;241m.\u001b[39muniform(\u001b[38;5;241m0\u001b[39m, \u001b[38;5;241m0.02\u001b[39m)\n\u001b[1;32m     30\u001b[0m     inc \u001b[38;5;241m=\u001b[39m rng\u001b[38;5;241m.\u001b[39muniform(\u001b[38;5;241m0\u001b[39m, \u001b[38;5;241m0.05\u001b[39m)\n",
      "\u001b[0;31mNameError\u001b[0m: name 'rng' is not defined"
     ]
    }
   ],
   "source": [
    "pbar = tqdm(total=final_t)\n",
    "\n",
    "while sim.time < final_t:\n",
    "    orig_time = sim.time\n",
    "    \n",
    "    oc = sim.step()\n",
    "    \n",
    "    pbar.update(sim.time - orig_time)\n",
    "   \n",
    "    if oc == csc.outcome.collision:\n",
    "        # TODO different code needed for crash\n",
    "        # on Earth here.\n",
    "        pi, pj = sim.interrupt_info\n",
    "        \n",
    "        print(\"Collision detected, re-initing particles {} and {}\".format(pi, pj))\n",
    "        \n",
    "        new_x = deepcopy(sim.x)\n",
    "        new_y = deepcopy(sim.y)\n",
    "        new_z = deepcopy(sim.z)\n",
    "        \n",
    "        new_vx = deepcopy(sim.vx)\n",
    "        new_vy = deepcopy(sim.vy)\n",
    "        new_vz = deepcopy(sim.vz)\n",
    "        \n",
    "        new_sizes = deepcopy(sim.sizes)\n",
    "\n",
    "        for idx in [pi, pj]:\n",
    "            a = rng.uniform(1.02*Re, 1.3*Re)\n",
    "            e = rng.uniform(0, 0.02)\n",
    "            inc = rng.uniform(0, 0.05)\n",
    "            om = rng.uniform(0, 2*np.pi)\n",
    "            Om = rng.uniform(0, 2*np.pi)\n",
    "            nu = rng.uniform(0, 2*np.pi)\n",
    "            size = rng.uniform(0.01, 0.1)\n",
    "\n",
    "            r, v = pk.par2ic([a, e, inc, om, Om, nu], GMe)\n",
    "\n",
    "            new_x[idx] = r[0]\n",
    "            new_y[idx] = r[1]\n",
    "            new_z[idx] = r[2]\n",
    "\n",
    "            new_vx[idx] = v[0]\n",
    "            new_vy[idx] = v[1]\n",
    "            new_vz[idx] = v[2]\n",
    "            \n",
    "            new_sizes[idx] = size\n",
    "\n",
    "        sim.set_new_state(new_x, new_y, new_z, new_vx, new_vy, new_vz, new_sizes)\n",
    "    elif oc == csc.outcome.reentry:\n",
    "        pi = sim.interrupt_info\n",
    "        \n",
    "        print(\"Particle {} re-entered\".format(pi))\n",
    "        break\n",
    "\n",
    "pbar.close()\n",
    "del pbar"
   ]
  }
 ],
 "metadata": {
  "kernelspec": {
   "display_name": "Python 3 (ipykernel)",
   "language": "python",
   "name": "python3"
  },
  "language_info": {
   "codemirror_mode": {
    "name": "ipython",
    "version": 3
   },
   "file_extension": ".py",
   "mimetype": "text/x-python",
   "name": "python",
   "nbconvert_exporter": "python",
   "pygments_lexer": "ipython3",
   "version": "3.10.2"
  }
 },
 "nbformat": 4,
 "nbformat_minor": 5
}
