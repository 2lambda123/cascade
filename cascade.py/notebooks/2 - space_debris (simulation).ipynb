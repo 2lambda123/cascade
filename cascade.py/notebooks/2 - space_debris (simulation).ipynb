{
 "cells": [
  {
   "cell_type": "code",
   "execution_count": 1,
   "id": "c9b316b3-8d04-4b55-8395-54be3213bd03",
   "metadata": {},
   "outputs": [],
   "source": [
    "import pykep as pk\n",
    "import numpy as np\n",
    "import json\n",
    "import pickle as pkl\n",
    "\n",
    "from mpl_toolkits.mplot3d import Axes3D\n",
    "from matplotlib import pyplot as plt\n",
    "%matplotlib notebook"
   ]
  },
  {
   "cell_type": "code",
   "execution_count": 2,
   "id": "509d978f-c0b2-422d-9c0b-fbe4cfdc7642",
   "metadata": {},
   "outputs": [],
   "source": [
    "import cascade as csc\n",
    "from copy import deepcopy\n",
    "from tqdm.notebook import tqdm\n",
    "import heyoka as hy"
   ]
  },
  {
   "cell_type": "markdown",
   "id": "3a5f6485",
   "metadata": {},
   "source": [
    "# We import the simulation initial conditions and atmospheric density model\n",
    "The files needed are:\n",
    "* **debris_simulation_ic.pk** - created by the notebook 1\n",
    "* **best_fit_density.pk** - created by the notebook 1b"
   ]
  },
  {
   "cell_type": "code",
   "execution_count": 29,
   "id": "76079dd5",
   "metadata": {},
   "outputs": [],
   "source": [
    "with open(\"data/debris_simulation_ic.pk\", \"rb\") as file:\n",
    "    r_ic,v_ic,c_radius,to_satcat,satcat,debris = pkl.load(file)"
   ]
  },
  {
   "cell_type": "markdown",
   "id": "1ff31aa1",
   "metadata": {},
   "source": [
    "* **r**: contains the initial position of all satellites to be simulated (SI units)\n",
    "* **v**: contains the initial velocity of all satellites to be simulated (SI units)\n",
    "* **radius**: contains all the estimated radii for the various objects (in meters)\n",
    "* **to_satcat**: contains the indexes in the satcat of the corresponding r,v,radius entry\n",
    "* **satcat**: the satcat\n",
    "* **debris**: the corresponding pykep planets"
   ]
  },
  {
   "cell_type": "code",
   "execution_count": 30,
   "id": "3f7a39ab",
   "metadata": {},
   "outputs": [],
   "source": [
    "with open(\"data/best_fit_density.pk\", \"rb\") as file:\n",
    "    best_x = pkl.load(file)"
   ]
  },
  {
   "cell_type": "code",
   "execution_count": 31,
   "id": "d564e8f6",
   "metadata": {},
   "outputs": [],
   "source": [
    "# We need to create an array containing all B*\n",
    "BSTARS = []\n",
    "for idx in to_satcat:\n",
    "    BSTARS.append(float(satcat[idx][\"BSTAR\"]))\n",
    "BSTARS = np.array(BSTARS)\n",
    "# We remove negative BSTARS setting the value to zero in tbose occasions\n",
    "BSTARS[BSTARS<0] = 0."
   ]
  },
  {
   "cell_type": "markdown",
   "id": "682994db",
   "metadata": {},
   "source": [
    "# We build the dynamical system to integrate"
   ]
  },
  {
   "cell_type": "code",
   "execution_count": 32,
   "id": "3de1a21f",
   "metadata": {},
   "outputs": [],
   "source": [
    "# This little helper returns the heyoka expression for the density using\n",
    "# the results from the data interpolation\n",
    "def compute_density(h, best_x):\n",
    "    \"\"\"\n",
    "    returns the heyoka expression for the atmosheric density in kg.m^3. Input is the altitude in m. (when we fitted\n",
    "    km were used here we change as to allow better expressions)\n",
    "    \"\"\"\n",
    "    p1 = np.array(best_x[:4])\n",
    "    p2 = np.array(best_x[4:8]) / 1000\n",
    "    p3 = np.array(best_x[8:]) * 1000\n",
    "    retval = 0.\n",
    "    for alpha,beta, gamma in zip(p1,p2, p3):\n",
    "        retval += alpha*hy.exp(-(h-gamma)*beta)\n",
    "    return retval"
   ]
  },
  {
   "cell_type": "code",
   "execution_count": 33,
   "id": "9b41f604-f7cf-451d-a460-fff38078cc00",
   "metadata": {},
   "outputs": [],
   "source": [
    "# Dynamical variables.\n",
    "x,y,z,vx,vy,vz = hy.make_vars(\"x\",\"y\",\"z\",\"vx\",\"vy\",\"vz\")\n",
    "\n",
    "# Constants.\n",
    "GMe = pk.MU_EARTH\n",
    "C20 = -4.84165371736e-4\n",
    "Re = pk.EARTH_RADIUS\n",
    "\n",
    "# Create Keplerian dynamics.\n",
    "dyn = csc.dynamics.kepler(mu = GMe)\n",
    "\n",
    "# Add the J2 terms.\n",
    "magR2 = hy.sum_sq([x, y, z])\n",
    "J2term1 = GMe*(Re**2)*np.sqrt(5)*C20/(2*magR2**(1./2))\n",
    "J2term2 = 3/(magR2**2)\n",
    "J2term3 = 15*(z**2)/(magR2**3)\n",
    "fJ2X = J2term1*x*(J2term2 - J2term3)\n",
    "fJ2Y = J2term1*y*(J2term2 - J2term3)\n",
    "fJ2Z = J2term1*z*(3*J2term2 - J2term3)\n",
    "dyn[3] = (dyn[3][0], dyn[3][1] + fJ2X)\n",
    "dyn[4] = (dyn[4][0], dyn[4][1] + fJ2Y)\n",
    "dyn[5] = (dyn[5][0], dyn[5][1] + fJ2Z)\n",
    "\n",
    "# Adds the drag force.\n",
    "magV2 = hy.sum_sq([vx, vy, vz])\n",
    "magV = hy.sqrt(magV2)\n",
    "# Here we consider a spherical Earth ... easy to account for the oblateness effect.\n",
    "altitude = (hy.sqrt(magR2) - Re)\n",
    "density = compute_density(altitude, best_x)\n",
    "ref_density = 0.1570 / pk.EARTH_RADIUS\n",
    "fdrag = density / ref_density * hy.par[0] * magV\n",
    "fdragX = - fdrag * vx\n",
    "fdragY = - fdrag * vy\n",
    "fdragZ = - fdrag * vz\n",
    "dyn[3] = (dyn[3][0], dyn[3][1] + fdragX)\n",
    "dyn[4] = (dyn[4][0], dyn[4][1] + fdragY)\n",
    "dyn[5] = (dyn[5][0], dyn[5][1] + fdragZ)"
   ]
  },
  {
   "cell_type": "code",
   "execution_count": 52,
   "id": "a7759ac8-21f2-41b2-a064-a32a559a4e2c",
   "metadata": {},
   "outputs": [],
   "source": [
    "sim = csc.sim(r_ic[:,0],r_ic[:,1],r_ic[:,2],v_ic[:,0],v_ic[:,1],v_ic[:,2],c_radius,0.23 * 806.81,dyn=dyn,pars=[BSTARS], c_radius=pk.EARTH_RADIUS+78000.)"
   ]
  },
  {
   "cell_type": "code",
   "execution_count": 53,
   "id": "8c37507d-22ec-478b-8846-cacc82cff608",
   "metadata": {},
   "outputs": [],
   "source": [
    "r_ic = np.delete(r_ic, 18931, axis=0)\n",
    "BSTARS = np.delete(BSTARS, 18931, axis=0)\n",
    "v_ic = np.delete(v_ic, 18931, axis=0)\n",
    "to_satcat = np.delete(to_satcat, 18931, axis=0)\n",
    "c_radius = np.delete(c_radius, 18931, axis=0)"
   ]
  },
  {
   "cell_type": "code",
   "execution_count": 55,
   "id": "345f1edd-5341-4b85-b460-21ca7938563b",
   "metadata": {},
   "outputs": [
    {
     "data": {
      "application/vnd.jupyter.widget-view+json": {
       "model_id": "5549390d979544fd8965ee8dd570e842",
       "version_major": 2,
       "version_minor": 0
      },
      "text/plain": [
       "  0%|          | 0/31557600.0 [00:00<?, ?it/s]"
      ]
     },
     "metadata": {},
     "output_type": "display_data"
    },
    {
     "name": "stdout",
     "output_type": "stream",
     "text": [
      "Particle 17422 re-entered\n"
     ]
    }
   ],
   "source": [
    "final_t = 365.25 * pk.DAY2SEC\n",
    "\n",
    "pbar = tqdm(total=final_t)\n",
    "\n",
    "while sim.time < final_t:\n",
    "    orig_time = sim.time\n",
    "    \n",
    "    oc = sim.step()\n",
    "    \n",
    "    pbar.update(sim.time - orig_time)\n",
    "   \n",
    "    if oc == csc.outcome.collision:\n",
    "        # TODO different code needed for crash\n",
    "        # on Earth here.\n",
    "        pi, pj = sim.interrupt_info\n",
    "        \n",
    "        print(\"Collision detected, re-initing particles {} and {}\".format(pi, pj))\n",
    "        \n",
    "        new_x = deepcopy(sim.x)\n",
    "        new_y = deepcopy(sim.y)\n",
    "        new_z = deepcopy(sim.z)\n",
    "        \n",
    "        new_vx = deepcopy(sim.vx)\n",
    "        new_vy = deepcopy(sim.vy)\n",
    "        new_vz = deepcopy(sim.vz)\n",
    "        \n",
    "        new_sizes = deepcopy(sim.sizes)\n",
    "\n",
    "        for idx in [pi, pj]:\n",
    "            a = rng.uniform(1.02*Re, 1.3*Re)\n",
    "            e = rng.uniform(0, 0.02)\n",
    "            inc = rng.uniform(0, 0.05)\n",
    "            om = rng.uniform(0, 2*np.pi)\n",
    "            Om = rng.uniform(0, 2*np.pi)\n",
    "            nu = rng.uniform(0, 2*np.pi)\n",
    "            size = rng.uniform(0.01, 0.1)\n",
    "\n",
    "            r, v = pk.par2ic([a, e, inc, om, Om, nu], GMe)\n",
    "\n",
    "            new_x[idx] = r[0]\n",
    "            new_y[idx] = r[1]\n",
    "            new_z[idx] = r[2]\n",
    "\n",
    "            new_vx[idx] = v[0]\n",
    "            new_vy[idx] = v[1]\n",
    "            new_vz[idx] = v[2]\n",
    "            \n",
    "            new_sizes[idx] = size\n",
    "\n",
    "        sim.set_new_state(new_x, new_y, new_z, new_vx, new_vy, new_vz, new_sizes)\n",
    "    elif oc == csc.outcome.reentry:\n",
    "        pi = sim.interrupt_info\n",
    "        \n",
    "        print(\"Particle {} re-entered\".format(pi))\n",
    "        break\n",
    "\n",
    "pbar.close()\n",
    "del pbar"
   ]
  }
 ],
 "metadata": {
  "kernelspec": {
   "display_name": "Python 3 (ipykernel)",
   "language": "python",
   "name": "python3"
  },
  "language_info": {
   "codemirror_mode": {
    "name": "ipython",
    "version": 3
   },
   "file_extension": ".py",
   "mimetype": "text/x-python",
   "name": "python",
   "nbconvert_exporter": "python",
   "pygments_lexer": "ipython3",
   "version": "3.10.2"
  }
 },
 "nbformat": 4,
 "nbformat_minor": 5
}
