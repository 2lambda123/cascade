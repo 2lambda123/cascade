{
 "cells": [
  {
   "cell_type": "code",
   "execution_count": 9,
   "id": "c9ac0907-b4bc-4480-b33f-f28d8b3b34e0",
   "metadata": {},
   "outputs": [],
   "source": [
    "import cascade as csc\n",
    "import numpy as np\n",
    "import pykep as pk\n",
    "from copy import deepcopy\n",
    "from tqdm.notebook import tqdm"
   ]
  },
  {
   "cell_type": "code",
   "execution_count": 10,
   "id": "adcdb1f9-8d2e-4c81-a2c4-e69976c95474",
   "metadata": {},
   "outputs": [],
   "source": [
    "nparts = 17378"
   ]
  },
  {
   "cell_type": "code",
   "execution_count": 4,
   "id": "83c40fed-234b-40e3-bc1d-da8f836778d6",
   "metadata": {},
   "outputs": [],
   "source": [
    "#csc.set_logger_level_trace()"
   ]
  },
  {
   "cell_type": "code",
   "execution_count": 5,
   "id": "6d082454-ca39-4c63-a1aa-6066d3d27f3b",
   "metadata": {},
   "outputs": [
    {
     "name": "stdout",
     "output_type": "stream",
     "text": [
      "[2022-01-26 15:06:15.853] [cascade] [info] cascade logger initialised\n"
     ]
    }
   ],
   "source": [
    "rng = np.random.default_rng()\n",
    "\n",
    "x = []\n",
    "y = []\n",
    "z = []\n",
    "\n",
    "vx = []\n",
    "vy = []\n",
    "vz = []\n",
    "\n",
    "sizes = []\n",
    "\n",
    "for _ in range(nparts):\n",
    "    a = rng.uniform(1.02, 1.3)\n",
    "    e = rng.uniform(0, 0.02)\n",
    "    inc = rng.uniform(0, 0.05)\n",
    "    om = rng.uniform(0, 2*np.pi)\n",
    "    Om = rng.uniform(0, 2*np.pi)\n",
    "    nu = rng.uniform(0, 2*np.pi)\n",
    "    size = rng.uniform(1.57e-8, 1.57e-7)\n",
    "    \n",
    "    r, v = pk.par2ic([a, e, inc, om, Om, nu])\n",
    "    \n",
    "    x.append(r[0])\n",
    "    y.append(r[1])\n",
    "    z.append(r[2])\n",
    "\n",
    "    vx.append(v[0])\n",
    "    vy.append(v[1])\n",
    "    vz.append(v[2])\n",
    "    \n",
    "    sizes.append(size)\n",
    "\n",
    "sim = csc.sim(x,y,z,vx,vy,vz,sizes,0.23)"
   ]
  },
  {
   "cell_type": "code",
   "execution_count": 6,
   "id": "2b2b12fd-6261-4d6e-81c8-edc85b1d615c",
   "metadata": {},
   "outputs": [],
   "source": [
    "final_t = 86400*365/806.81"
   ]
  },
  {
   "cell_type": "code",
   "execution_count": null,
   "id": "632075b9-bba5-4463-9e4b-f84c47cc5834",
   "metadata": {},
   "outputs": [],
   "source": [
    "pbar = tqdm(total=final_t)\n",
    "\n",
    "while sim.time < final_t:\n",
    "    orig_time = sim.time\n",
    "    \n",
    "    oc = sim.step()\n",
    "    \n",
    "    pbar.update(sim.time - orig_time)\n",
    "   \n",
    "    if oc == csc.outcome.collision:\n",
    "        # TODO different code needed for crash\n",
    "        # on Earth here.\n",
    "        pi, pj = sim.interrupt_info\n",
    "        \n",
    "        print(\"Collision detected, re-initing particles {} and {}\".format(pi, pj))\n",
    "        \n",
    "        new_x = deepcopy(sim.x)\n",
    "        new_y = deepcopy(sim.y)\n",
    "        new_z = deepcopy(sim.z)\n",
    "        \n",
    "        new_vx = deepcopy(sim.vx)\n",
    "        new_vy = deepcopy(sim.vy)\n",
    "        new_vz = deepcopy(sim.vz)\n",
    "        \n",
    "        new_sizes = deepcopy(sim.sizes)\n",
    "\n",
    "        for idx in [pi, pj]:\n",
    "            a = rng.uniform(1.02, 1.3)\n",
    "            e = rng.uniform(0, 0.02)\n",
    "            inc = rng.uniform(0, 0.05)\n",
    "            om = rng.uniform(0, 2*np.pi)\n",
    "            Om = rng.uniform(0, 2*np.pi)\n",
    "            nu = rng.uniform(0, 2*np.pi)\n",
    "            size = rng.uniform(1.57e-8, 1.57e-7)\n",
    "\n",
    "            r, v = pk.par2ic([a, e, inc, om, Om, nu])\n",
    "\n",
    "            new_x[idx] = r[0]\n",
    "            new_y[idx] = r[1]\n",
    "            new_z[idx] = r[2]\n",
    "\n",
    "            new_vx[idx] = v[0]\n",
    "            new_vy[idx] = v[1]\n",
    "            new_vz[idx] = v[2]\n",
    "            \n",
    "            new_sizes[idx] = size\n",
    "\n",
    "        sim.set_new_state(new_x, new_y, new_z, new_vx, new_vy, new_vz, new_sizes)\n",
    "\n",
    "pbar.close()\n",
    "del pbar"
   ]
  }
 ],
 "metadata": {
  "kernelspec": {
   "display_name": "Python 3 (ipykernel)",
   "language": "python",
   "name": "python3"
  },
  "language_info": {
   "codemirror_mode": {
    "name": "ipython",
    "version": 3
   },
   "file_extension": ".py",
   "mimetype": "text/x-python",
   "name": "python",
   "nbconvert_exporter": "python",
   "pygments_lexer": "ipython3",
   "version": "3.10.2"
  }
 },
 "nbformat": 4,
 "nbformat_minor": 5
}
